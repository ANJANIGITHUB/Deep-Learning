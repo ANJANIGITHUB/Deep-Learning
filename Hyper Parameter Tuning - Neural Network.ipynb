{
 "cells": [
  {
   "cell_type": "code",
   "execution_count": 1,
   "metadata": {},
   "outputs": [
    {
     "name": "stderr",
     "output_type": "stream",
     "text": [
      "Using TensorFlow backend.\n"
     ]
    }
   ],
   "source": [
    "import pandas as pd\n",
    "import numpy as np\n",
    "from sklearn.model_selection import GridSearchCV\n",
    "from keras.models import Sequential\n",
    "from keras.layers import Dense\n",
    "from keras.wrappers.scikit_learn import KerasClassifier\n",
    "from sklearn.preprocessing import StandardScaler \n",
    "import warnings\n",
    "warnings.filterwarnings('ignore')"
   ]
  },
  {
   "cell_type": "code",
   "execution_count": 2,
   "metadata": {},
   "outputs": [],
   "source": [
    "dataset=pd.read_csv('diabetes.csv')"
   ]
  },
  {
   "cell_type": "code",
   "execution_count": 3,
   "metadata": {},
   "outputs": [
    {
     "data": {
      "text/html": [
       "<div>\n",
       "<style scoped>\n",
       "    .dataframe tbody tr th:only-of-type {\n",
       "        vertical-align: middle;\n",
       "    }\n",
       "\n",
       "    .dataframe tbody tr th {\n",
       "        vertical-align: top;\n",
       "    }\n",
       "\n",
       "    .dataframe thead th {\n",
       "        text-align: right;\n",
       "    }\n",
       "</style>\n",
       "<table border=\"1\" class=\"dataframe\">\n",
       "  <thead>\n",
       "    <tr style=\"text-align: right;\">\n",
       "      <th></th>\n",
       "      <th>Pregnancies</th>\n",
       "      <th>Glucose</th>\n",
       "      <th>BloodPressure</th>\n",
       "      <th>SkinThickness</th>\n",
       "      <th>Insulin</th>\n",
       "      <th>BMI</th>\n",
       "      <th>DiabetesPedigreeFunction</th>\n",
       "      <th>Age</th>\n",
       "      <th>Outcome</th>\n",
       "    </tr>\n",
       "  </thead>\n",
       "  <tbody>\n",
       "    <tr>\n",
       "      <th>0</th>\n",
       "      <td>6</td>\n",
       "      <td>148</td>\n",
       "      <td>72</td>\n",
       "      <td>35</td>\n",
       "      <td>0</td>\n",
       "      <td>33.6</td>\n",
       "      <td>0.627</td>\n",
       "      <td>50</td>\n",
       "      <td>1</td>\n",
       "    </tr>\n",
       "    <tr>\n",
       "      <th>1</th>\n",
       "      <td>1</td>\n",
       "      <td>85</td>\n",
       "      <td>66</td>\n",
       "      <td>29</td>\n",
       "      <td>0</td>\n",
       "      <td>26.6</td>\n",
       "      <td>0.351</td>\n",
       "      <td>31</td>\n",
       "      <td>0</td>\n",
       "    </tr>\n",
       "    <tr>\n",
       "      <th>2</th>\n",
       "      <td>8</td>\n",
       "      <td>183</td>\n",
       "      <td>64</td>\n",
       "      <td>0</td>\n",
       "      <td>0</td>\n",
       "      <td>23.3</td>\n",
       "      <td>0.672</td>\n",
       "      <td>32</td>\n",
       "      <td>1</td>\n",
       "    </tr>\n",
       "    <tr>\n",
       "      <th>3</th>\n",
       "      <td>1</td>\n",
       "      <td>89</td>\n",
       "      <td>66</td>\n",
       "      <td>23</td>\n",
       "      <td>94</td>\n",
       "      <td>28.1</td>\n",
       "      <td>0.167</td>\n",
       "      <td>21</td>\n",
       "      <td>0</td>\n",
       "    </tr>\n",
       "    <tr>\n",
       "      <th>4</th>\n",
       "      <td>0</td>\n",
       "      <td>137</td>\n",
       "      <td>40</td>\n",
       "      <td>35</td>\n",
       "      <td>168</td>\n",
       "      <td>43.1</td>\n",
       "      <td>2.288</td>\n",
       "      <td>33</td>\n",
       "      <td>1</td>\n",
       "    </tr>\n",
       "  </tbody>\n",
       "</table>\n",
       "</div>"
      ],
      "text/plain": [
       "   Pregnancies  Glucose  BloodPressure  SkinThickness  Insulin   BMI  \\\n",
       "0            6      148             72             35        0  33.6   \n",
       "1            1       85             66             29        0  26.6   \n",
       "2            8      183             64              0        0  23.3   \n",
       "3            1       89             66             23       94  28.1   \n",
       "4            0      137             40             35      168  43.1   \n",
       "\n",
       "   DiabetesPedigreeFunction  Age  Outcome  \n",
       "0                     0.627   50        1  \n",
       "1                     0.351   31        0  \n",
       "2                     0.672   32        1  \n",
       "3                     0.167   21        0  \n",
       "4                     2.288   33        1  "
      ]
     },
     "execution_count": 3,
     "metadata": {},
     "output_type": "execute_result"
    }
   ],
   "source": [
    "dataset.head()"
   ]
  },
  {
   "cell_type": "code",
   "execution_count": 4,
   "metadata": {},
   "outputs": [
    {
     "data": {
      "text/html": [
       "<div>\n",
       "<style scoped>\n",
       "    .dataframe tbody tr th:only-of-type {\n",
       "        vertical-align: middle;\n",
       "    }\n",
       "\n",
       "    .dataframe tbody tr th {\n",
       "        vertical-align: top;\n",
       "    }\n",
       "\n",
       "    .dataframe thead th {\n",
       "        text-align: right;\n",
       "    }\n",
       "</style>\n",
       "<table border=\"1\" class=\"dataframe\">\n",
       "  <thead>\n",
       "    <tr style=\"text-align: right;\">\n",
       "      <th></th>\n",
       "      <th>Pregnancies</th>\n",
       "      <th>Glucose</th>\n",
       "      <th>BloodPressure</th>\n",
       "      <th>SkinThickness</th>\n",
       "      <th>Insulin</th>\n",
       "      <th>BMI</th>\n",
       "      <th>DiabetesPedigreeFunction</th>\n",
       "      <th>Age</th>\n",
       "      <th>Outcome</th>\n",
       "    </tr>\n",
       "  </thead>\n",
       "  <tbody>\n",
       "    <tr>\n",
       "      <th>count</th>\n",
       "      <td>768.000000</td>\n",
       "      <td>768.000000</td>\n",
       "      <td>768.000000</td>\n",
       "      <td>768.000000</td>\n",
       "      <td>768.000000</td>\n",
       "      <td>768.000000</td>\n",
       "      <td>768.000000</td>\n",
       "      <td>768.000000</td>\n",
       "      <td>768.000000</td>\n",
       "    </tr>\n",
       "    <tr>\n",
       "      <th>mean</th>\n",
       "      <td>3.845052</td>\n",
       "      <td>120.894531</td>\n",
       "      <td>69.105469</td>\n",
       "      <td>20.536458</td>\n",
       "      <td>79.799479</td>\n",
       "      <td>31.992578</td>\n",
       "      <td>0.471876</td>\n",
       "      <td>33.240885</td>\n",
       "      <td>0.348958</td>\n",
       "    </tr>\n",
       "    <tr>\n",
       "      <th>std</th>\n",
       "      <td>3.369578</td>\n",
       "      <td>31.972618</td>\n",
       "      <td>19.355807</td>\n",
       "      <td>15.952218</td>\n",
       "      <td>115.244002</td>\n",
       "      <td>7.884160</td>\n",
       "      <td>0.331329</td>\n",
       "      <td>11.760232</td>\n",
       "      <td>0.476951</td>\n",
       "    </tr>\n",
       "    <tr>\n",
       "      <th>min</th>\n",
       "      <td>0.000000</td>\n",
       "      <td>0.000000</td>\n",
       "      <td>0.000000</td>\n",
       "      <td>0.000000</td>\n",
       "      <td>0.000000</td>\n",
       "      <td>0.000000</td>\n",
       "      <td>0.078000</td>\n",
       "      <td>21.000000</td>\n",
       "      <td>0.000000</td>\n",
       "    </tr>\n",
       "    <tr>\n",
       "      <th>25%</th>\n",
       "      <td>1.000000</td>\n",
       "      <td>99.000000</td>\n",
       "      <td>62.000000</td>\n",
       "      <td>0.000000</td>\n",
       "      <td>0.000000</td>\n",
       "      <td>27.300000</td>\n",
       "      <td>0.243750</td>\n",
       "      <td>24.000000</td>\n",
       "      <td>0.000000</td>\n",
       "    </tr>\n",
       "    <tr>\n",
       "      <th>50%</th>\n",
       "      <td>3.000000</td>\n",
       "      <td>117.000000</td>\n",
       "      <td>72.000000</td>\n",
       "      <td>23.000000</td>\n",
       "      <td>30.500000</td>\n",
       "      <td>32.000000</td>\n",
       "      <td>0.372500</td>\n",
       "      <td>29.000000</td>\n",
       "      <td>0.000000</td>\n",
       "    </tr>\n",
       "    <tr>\n",
       "      <th>75%</th>\n",
       "      <td>6.000000</td>\n",
       "      <td>140.250000</td>\n",
       "      <td>80.000000</td>\n",
       "      <td>32.000000</td>\n",
       "      <td>127.250000</td>\n",
       "      <td>36.600000</td>\n",
       "      <td>0.626250</td>\n",
       "      <td>41.000000</td>\n",
       "      <td>1.000000</td>\n",
       "    </tr>\n",
       "    <tr>\n",
       "      <th>max</th>\n",
       "      <td>17.000000</td>\n",
       "      <td>199.000000</td>\n",
       "      <td>122.000000</td>\n",
       "      <td>99.000000</td>\n",
       "      <td>846.000000</td>\n",
       "      <td>67.100000</td>\n",
       "      <td>2.420000</td>\n",
       "      <td>81.000000</td>\n",
       "      <td>1.000000</td>\n",
       "    </tr>\n",
       "  </tbody>\n",
       "</table>\n",
       "</div>"
      ],
      "text/plain": [
       "       Pregnancies     Glucose  BloodPressure  SkinThickness     Insulin  \\\n",
       "count   768.000000  768.000000     768.000000     768.000000  768.000000   \n",
       "mean      3.845052  120.894531      69.105469      20.536458   79.799479   \n",
       "std       3.369578   31.972618      19.355807      15.952218  115.244002   \n",
       "min       0.000000    0.000000       0.000000       0.000000    0.000000   \n",
       "25%       1.000000   99.000000      62.000000       0.000000    0.000000   \n",
       "50%       3.000000  117.000000      72.000000      23.000000   30.500000   \n",
       "75%       6.000000  140.250000      80.000000      32.000000  127.250000   \n",
       "max      17.000000  199.000000     122.000000      99.000000  846.000000   \n",
       "\n",
       "              BMI  DiabetesPedigreeFunction         Age     Outcome  \n",
       "count  768.000000                768.000000  768.000000  768.000000  \n",
       "mean    31.992578                  0.471876   33.240885    0.348958  \n",
       "std      7.884160                  0.331329   11.760232    0.476951  \n",
       "min      0.000000                  0.078000   21.000000    0.000000  \n",
       "25%     27.300000                  0.243750   24.000000    0.000000  \n",
       "50%     32.000000                  0.372500   29.000000    0.000000  \n",
       "75%     36.600000                  0.626250   41.000000    1.000000  \n",
       "max     67.100000                  2.420000   81.000000    1.000000  "
      ]
     },
     "execution_count": 4,
     "metadata": {},
     "output_type": "execute_result"
    }
   ],
   "source": [
    "dataset.describe()"
   ]
  },
  {
   "cell_type": "code",
   "execution_count": 5,
   "metadata": {},
   "outputs": [],
   "source": [
    "X=dataset.iloc[:,0:8]"
   ]
  },
  {
   "cell_type": "code",
   "execution_count": 6,
   "metadata": {},
   "outputs": [
    {
     "data": {
      "text/html": [
       "<div>\n",
       "<style scoped>\n",
       "    .dataframe tbody tr th:only-of-type {\n",
       "        vertical-align: middle;\n",
       "    }\n",
       "\n",
       "    .dataframe tbody tr th {\n",
       "        vertical-align: top;\n",
       "    }\n",
       "\n",
       "    .dataframe thead th {\n",
       "        text-align: right;\n",
       "    }\n",
       "</style>\n",
       "<table border=\"1\" class=\"dataframe\">\n",
       "  <thead>\n",
       "    <tr style=\"text-align: right;\">\n",
       "      <th></th>\n",
       "      <th>Pregnancies</th>\n",
       "      <th>Glucose</th>\n",
       "      <th>BloodPressure</th>\n",
       "      <th>SkinThickness</th>\n",
       "      <th>Insulin</th>\n",
       "      <th>BMI</th>\n",
       "      <th>DiabetesPedigreeFunction</th>\n",
       "      <th>Age</th>\n",
       "    </tr>\n",
       "  </thead>\n",
       "  <tbody>\n",
       "    <tr>\n",
       "      <th>0</th>\n",
       "      <td>6</td>\n",
       "      <td>148</td>\n",
       "      <td>72</td>\n",
       "      <td>35</td>\n",
       "      <td>0</td>\n",
       "      <td>33.6</td>\n",
       "      <td>0.627</td>\n",
       "      <td>50</td>\n",
       "    </tr>\n",
       "    <tr>\n",
       "      <th>1</th>\n",
       "      <td>1</td>\n",
       "      <td>85</td>\n",
       "      <td>66</td>\n",
       "      <td>29</td>\n",
       "      <td>0</td>\n",
       "      <td>26.6</td>\n",
       "      <td>0.351</td>\n",
       "      <td>31</td>\n",
       "    </tr>\n",
       "    <tr>\n",
       "      <th>2</th>\n",
       "      <td>8</td>\n",
       "      <td>183</td>\n",
       "      <td>64</td>\n",
       "      <td>0</td>\n",
       "      <td>0</td>\n",
       "      <td>23.3</td>\n",
       "      <td>0.672</td>\n",
       "      <td>32</td>\n",
       "    </tr>\n",
       "    <tr>\n",
       "      <th>3</th>\n",
       "      <td>1</td>\n",
       "      <td>89</td>\n",
       "      <td>66</td>\n",
       "      <td>23</td>\n",
       "      <td>94</td>\n",
       "      <td>28.1</td>\n",
       "      <td>0.167</td>\n",
       "      <td>21</td>\n",
       "    </tr>\n",
       "    <tr>\n",
       "      <th>4</th>\n",
       "      <td>0</td>\n",
       "      <td>137</td>\n",
       "      <td>40</td>\n",
       "      <td>35</td>\n",
       "      <td>168</td>\n",
       "      <td>43.1</td>\n",
       "      <td>2.288</td>\n",
       "      <td>33</td>\n",
       "    </tr>\n",
       "  </tbody>\n",
       "</table>\n",
       "</div>"
      ],
      "text/plain": [
       "   Pregnancies  Glucose  BloodPressure  SkinThickness  Insulin   BMI  \\\n",
       "0            6      148             72             35        0  33.6   \n",
       "1            1       85             66             29        0  26.6   \n",
       "2            8      183             64              0        0  23.3   \n",
       "3            1       89             66             23       94  28.1   \n",
       "4            0      137             40             35      168  43.1   \n",
       "\n",
       "   DiabetesPedigreeFunction  Age  \n",
       "0                     0.627   50  \n",
       "1                     0.351   31  \n",
       "2                     0.672   32  \n",
       "3                     0.167   21  \n",
       "4                     2.288   33  "
      ]
     },
     "execution_count": 6,
     "metadata": {},
     "output_type": "execute_result"
    }
   ],
   "source": [
    "X.head()"
   ]
  },
  {
   "cell_type": "code",
   "execution_count": 7,
   "metadata": {},
   "outputs": [],
   "source": [
    "y=dataset.iloc[:,-1]"
   ]
  },
  {
   "cell_type": "code",
   "execution_count": 8,
   "metadata": {},
   "outputs": [
    {
     "data": {
      "text/plain": [
       "0    1\n",
       "1    0\n",
       "2    1\n",
       "3    0\n",
       "4    1\n",
       "Name: Outcome, dtype: int64"
      ]
     },
     "execution_count": 8,
     "metadata": {},
     "output_type": "execute_result"
    }
   ],
   "source": [
    "y.head()"
   ]
  },
  {
   "cell_type": "markdown",
   "metadata": {},
   "source": [
    "### Scaling all the Predictor Variables to be on same magnitude"
   ]
  },
  {
   "cell_type": "code",
   "execution_count": 9,
   "metadata": {},
   "outputs": [],
   "source": [
    "ss=StandardScaler()"
   ]
  },
  {
   "cell_type": "code",
   "execution_count": 10,
   "metadata": {},
   "outputs": [],
   "source": [
    "X=ss.fit_transform(X)"
   ]
  },
  {
   "cell_type": "code",
   "execution_count": 11,
   "metadata": {},
   "outputs": [
    {
     "data": {
      "text/plain": [
       "array([[ 0.63994726,  0.84832379,  0.14964075, ...,  0.20401277,\n",
       "         0.46849198,  1.4259954 ],\n",
       "       [-0.84488505, -1.12339636, -0.16054575, ..., -0.68442195,\n",
       "        -0.36506078, -0.19067191],\n",
       "       [ 1.23388019,  1.94372388, -0.26394125, ..., -1.10325546,\n",
       "         0.60439732, -0.10558415],\n",
       "       ...,\n",
       "       [ 0.3429808 ,  0.00330087,  0.14964075, ..., -0.73518964,\n",
       "        -0.68519336, -0.27575966],\n",
       "       [-0.84488505,  0.1597866 , -0.47073225, ..., -0.24020459,\n",
       "        -0.37110101,  1.17073215],\n",
       "       [-0.84488505, -0.8730192 ,  0.04624525, ..., -0.20212881,\n",
       "        -0.47378505, -0.87137393]])"
      ]
     },
     "execution_count": 11,
     "metadata": {},
     "output_type": "execute_result"
    }
   ],
   "source": [
    "X"
   ]
  },
  {
   "cell_type": "code",
   "execution_count": 12,
   "metadata": {},
   "outputs": [],
   "source": [
    "def my_model():\n",
    "    model=Sequential()\n",
    "    model.add(Dense(units=8,activation='relu',input_dim=8))\n",
    "    model.add(Dense(units=1,activation='sigmoid'))\n",
    "    \n",
    "    model.compile(loss='binary_crossentropy',optimizer='adam',metrics=['accuracy'])\n",
    "    return model"
   ]
  },
  {
   "cell_type": "code",
   "execution_count": 13,
   "metadata": {},
   "outputs": [],
   "source": [
    "new_model=KerasClassifier(build_fn=my_model)"
   ]
  },
  {
   "cell_type": "code",
   "execution_count": 14,
   "metadata": {},
   "outputs": [],
   "source": [
    "#batch_size & Epochs\n",
    "batchsize=[10,25,50,75,100]\n",
    "epochs=[25,50,75,100,200]"
   ]
  },
  {
   "cell_type": "code",
   "execution_count": 15,
   "metadata": {},
   "outputs": [],
   "source": [
    "parameter_grid=dict(batch_size=batchsize,epochs=epochs)"
   ]
  },
  {
   "cell_type": "code",
   "execution_count": 16,
   "metadata": {},
   "outputs": [],
   "source": [
    "best_parameters=GridSearchCV(estimator=new_model,param_grid=parameter_grid,n_jobs=-1,cv=5)"
   ]
  },
  {
   "cell_type": "code",
   "execution_count": 17,
   "metadata": {},
   "outputs": [
    {
     "name": "stdout",
     "output_type": "stream",
     "text": [
      "Epoch 1/50\n",
      "768/768 [==============================] - 0s 163us/step - loss: 0.7695 - accuracy: 0.4388\n",
      "Epoch 2/50\n",
      "768/768 [==============================] - 0s 57us/step - loss: 0.6749 - accuracy: 0.5911\n",
      "Epoch 3/50\n",
      "768/768 [==============================] - 0s 59us/step - loss: 0.6115 - accuracy: 0.6927\n",
      "Epoch 4/50\n",
      "768/768 [==============================] - 0s 56us/step - loss: 0.5655 - accuracy: 0.7188\n",
      "Epoch 5/50\n",
      "768/768 [==============================] - 0s 59us/step - loss: 0.5313 - accuracy: 0.7357\n",
      "Epoch 6/50\n",
      "768/768 [==============================] - 0s 59us/step - loss: 0.5067 - accuracy: 0.7617\n",
      "Epoch 7/50\n",
      "768/768 [==============================] - 0s 60us/step - loss: 0.4895 - accuracy: 0.7695\n",
      "Epoch 8/50\n",
      "768/768 [==============================] - 0s 59us/step - loss: 0.4764 - accuracy: 0.7786\n",
      "Epoch 9/50\n",
      "768/768 [==============================] - 0s 59us/step - loss: 0.4676 - accuracy: 0.7799\n",
      "Epoch 10/50\n",
      "768/768 [==============================] - 0s 60us/step - loss: 0.4616 - accuracy: 0.7799\n",
      "Epoch 11/50\n",
      "768/768 [==============================] - 0s 59us/step - loss: 0.4576 - accuracy: 0.7812\n",
      "Epoch 12/50\n",
      "768/768 [==============================] - 0s 60us/step - loss: 0.4549 - accuracy: 0.7773\n",
      "Epoch 13/50\n",
      "768/768 [==============================] - 0s 60us/step - loss: 0.4528 - accuracy: 0.7826\n",
      "Epoch 14/50\n",
      "768/768 [==============================] - 0s 59us/step - loss: 0.4515 - accuracy: 0.7812\n",
      "Epoch 15/50\n",
      "768/768 [==============================] - 0s 59us/step - loss: 0.4499 - accuracy: 0.7812\n",
      "Epoch 16/50\n",
      "768/768 [==============================] - 0s 61us/step - loss: 0.4491 - accuracy: 0.7826\n",
      "Epoch 17/50\n",
      "768/768 [==============================] - 0s 59us/step - loss: 0.4484 - accuracy: 0.7826\n",
      "Epoch 18/50\n",
      "768/768 [==============================] - 0s 59us/step - loss: 0.4472 - accuracy: 0.7839\n",
      "Epoch 19/50\n",
      "768/768 [==============================] - 0s 59us/step - loss: 0.4473 - accuracy: 0.7839\n",
      "Epoch 20/50\n",
      "768/768 [==============================] - 0s 65us/step - loss: 0.4462 - accuracy: 0.7865\n",
      "Epoch 21/50\n",
      "768/768 [==============================] - 0s 60us/step - loss: 0.4459 - accuracy: 0.7852\n",
      "Epoch 22/50\n",
      "768/768 [==============================] - 0s 59us/step - loss: 0.4452 - accuracy: 0.7852\n",
      "Epoch 23/50\n",
      "768/768 [==============================] - 0s 59us/step - loss: 0.4456 - accuracy: 0.7839\n",
      "Epoch 24/50\n",
      "768/768 [==============================] - 0s 60us/step - loss: 0.4449 - accuracy: 0.7865\n",
      "Epoch 25/50\n",
      "768/768 [==============================] - 0s 59us/step - loss: 0.4446 - accuracy: 0.7878\n",
      "Epoch 26/50\n",
      "768/768 [==============================] - 0s 59us/step - loss: 0.4446 - accuracy: 0.7852\n",
      "Epoch 27/50\n",
      "768/768 [==============================] - 0s 59us/step - loss: 0.4440 - accuracy: 0.7878\n",
      "Epoch 28/50\n",
      "768/768 [==============================] - 0s 59us/step - loss: 0.4436 - accuracy: 0.7878\n",
      "Epoch 29/50\n",
      "768/768 [==============================] - 0s 60us/step - loss: 0.4439 - accuracy: 0.7865\n",
      "Epoch 30/50\n",
      "768/768 [==============================] - 0s 55us/step - loss: 0.4436 - accuracy: 0.7852\n",
      "Epoch 31/50\n",
      "768/768 [==============================] - 0s 53us/step - loss: 0.4437 - accuracy: 0.7852\n",
      "Epoch 32/50\n",
      "768/768 [==============================] - 0s 53us/step - loss: 0.4428 - accuracy: 0.7878\n",
      "Epoch 33/50\n",
      "768/768 [==============================] - 0s 54us/step - loss: 0.4430 - accuracy: 0.7891\n",
      "Epoch 34/50\n",
      "768/768 [==============================] - 0s 53us/step - loss: 0.4428 - accuracy: 0.7852\n",
      "Epoch 35/50\n",
      "768/768 [==============================] - 0s 55us/step - loss: 0.4428 - accuracy: 0.7865\n",
      "Epoch 36/50\n",
      "768/768 [==============================] - 0s 54us/step - loss: 0.4427 - accuracy: 0.7865\n",
      "Epoch 37/50\n",
      "768/768 [==============================] - 0s 53us/step - loss: 0.4420 - accuracy: 0.7865\n",
      "Epoch 38/50\n",
      "768/768 [==============================] - 0s 55us/step - loss: 0.4422 - accuracy: 0.7839\n",
      "Epoch 39/50\n",
      "768/768 [==============================] - 0s 54us/step - loss: 0.4425 - accuracy: 0.7839\n",
      "Epoch 40/50\n",
      "768/768 [==============================] - 0s 54us/step - loss: 0.4421 - accuracy: 0.7865\n",
      "Epoch 41/50\n",
      "768/768 [==============================] - 0s 53us/step - loss: 0.4421 - accuracy: 0.7865\n",
      "Epoch 42/50\n",
      "768/768 [==============================] - 0s 54us/step - loss: 0.4421 - accuracy: 0.7852\n",
      "Epoch 43/50\n",
      "768/768 [==============================] - 0s 53us/step - loss: 0.4414 - accuracy: 0.7852\n",
      "Epoch 44/50\n",
      "768/768 [==============================] - 0s 52us/step - loss: 0.4415 - accuracy: 0.7852\n",
      "Epoch 45/50\n",
      "768/768 [==============================] - 0s 59us/step - loss: 0.4413 - accuracy: 0.7826\n",
      "Epoch 46/50\n",
      "768/768 [==============================] - 0s 60us/step - loss: 0.4412 - accuracy: 0.7865\n",
      "Epoch 47/50\n",
      "768/768 [==============================] - 0s 59us/step - loss: 0.4412 - accuracy: 0.7865\n",
      "Epoch 48/50\n",
      "768/768 [==============================] - 0s 59us/step - loss: 0.4408 - accuracy: 0.7839\n",
      "Epoch 49/50\n",
      "768/768 [==============================] - 0s 60us/step - loss: 0.4410 - accuracy: 0.7839\n",
      "Epoch 50/50\n",
      "768/768 [==============================] - 0s 60us/step - loss: 0.4412 - accuracy: 0.7839\n"
     ]
    }
   ],
   "source": [
    "best_parameters_list=best_parameters.fit(X,y)"
   ]
  },
  {
   "cell_type": "code",
   "execution_count": 18,
   "metadata": {},
   "outputs": [
    {
     "data": {
      "text/plain": [
       "0.7826670050621033"
      ]
     },
     "execution_count": 18,
     "metadata": {},
     "output_type": "execute_result"
    }
   ],
   "source": [
    "best_parameters_list.best_score_"
   ]
  },
  {
   "cell_type": "code",
   "execution_count": 19,
   "metadata": {},
   "outputs": [
    {
     "data": {
      "text/plain": [
       "{'batch_size': 10, 'epochs': 50}"
      ]
     },
     "execution_count": 19,
     "metadata": {},
     "output_type": "execute_result"
    }
   ],
   "source": [
    "best_parameters_list.best_params_"
   ]
  },
  {
   "cell_type": "code",
   "execution_count": 20,
   "metadata": {},
   "outputs": [],
   "source": [
    "def my_newmodel(optimizer='adam'):\n",
    "    model=Sequential()\n",
    "    model.add(Dense(units=12,activation='relu',input_dim=8))\n",
    "    model.add(Dense(units=1,activation='sigmoid'))\n",
    "    \n",
    "    model.compile(loss='binary_crossentropy',optimizer=optimizer,metrics=['accuracy'])\n",
    "    return model"
   ]
  },
  {
   "cell_type": "code",
   "execution_count": 27,
   "metadata": {},
   "outputs": [],
   "source": [
    "new_model1=KerasClassifier(build_fn=my_newmodel,epochs=50,batch_size=10)"
   ]
  },
  {
   "cell_type": "code",
   "execution_count": 28,
   "metadata": {},
   "outputs": [],
   "source": [
    "parameter_grid={'optimizer':['SGD','Adadelta','RMSProp','Adagrad','Adam','Momentum']}"
   ]
  },
  {
   "cell_type": "code",
   "execution_count": 29,
   "metadata": {},
   "outputs": [],
   "source": [
    "best_parameters1=GridSearchCV(estimator=new_model1,param_grid=parameter_grid,n_jobs=-1,cv=5)"
   ]
  },
  {
   "cell_type": "code",
   "execution_count": 30,
   "metadata": {},
   "outputs": [
    {
     "name": "stdout",
     "output_type": "stream",
     "text": [
      "Epoch 1/50\n",
      "768/768 [==============================] - 0s 126us/step - loss: 0.6885 - accuracy: 0.6484\n",
      "Epoch 2/50\n",
      "768/768 [==============================] - 0s 58us/step - loss: 0.5804 - accuracy: 0.6680\n",
      "Epoch 3/50\n",
      "768/768 [==============================] - 0s 54us/step - loss: 0.5453 - accuracy: 0.7031\n",
      "Epoch 4/50\n",
      "768/768 [==============================] - 0s 59us/step - loss: 0.5261 - accuracy: 0.7279\n",
      "Epoch 5/50\n",
      "768/768 [==============================] - 0s 56us/step - loss: 0.5133 - accuracy: 0.7396\n",
      "Epoch 6/50\n",
      "768/768 [==============================] - 0s 57us/step - loss: 0.5041 - accuracy: 0.7461\n",
      "Epoch 7/50\n",
      "768/768 [==============================] - 0s 52us/step - loss: 0.4967 - accuracy: 0.7487\n",
      "Epoch 8/50\n",
      "768/768 [==============================] - 0s 52us/step - loss: 0.4909 - accuracy: 0.7526\n",
      "Epoch 9/50\n",
      "768/768 [==============================] - 0s 56us/step - loss: 0.4860 - accuracy: 0.7578\n",
      "Epoch 10/50\n",
      "768/768 [==============================] - 0s 51us/step - loss: 0.4820 - accuracy: 0.7604\n",
      "Epoch 11/50\n",
      "768/768 [==============================] - 0s 55us/step - loss: 0.4785 - accuracy: 0.7656\n",
      "Epoch 12/50\n",
      "768/768 [==============================] - 0s 51us/step - loss: 0.4755 - accuracy: 0.7669\n",
      "Epoch 13/50\n",
      "768/768 [==============================] - 0s 51us/step - loss: 0.4729 - accuracy: 0.7708\n",
      "Epoch 14/50\n",
      "768/768 [==============================] - 0s 50us/step - loss: 0.4705 - accuracy: 0.7708\n",
      "Epoch 15/50\n",
      "768/768 [==============================] - 0s 51us/step - loss: 0.4684 - accuracy: 0.7734\n",
      "Epoch 16/50\n",
      "768/768 [==============================] - 0s 51us/step - loss: 0.4665 - accuracy: 0.7734\n",
      "Epoch 17/50\n",
      "768/768 [==============================] - 0s 50us/step - loss: 0.4648 - accuracy: 0.7773\n",
      "Epoch 18/50\n",
      "768/768 [==============================] - 0s 50us/step - loss: 0.4633 - accuracy: 0.7773\n",
      "Epoch 19/50\n",
      "768/768 [==============================] - 0s 51us/step - loss: 0.4619 - accuracy: 0.7786\n",
      "Epoch 20/50\n",
      "768/768 [==============================] - 0s 52us/step - loss: 0.4607 - accuracy: 0.7786\n",
      "Epoch 21/50\n",
      "768/768 [==============================] - 0s 51us/step - loss: 0.4595 - accuracy: 0.7773\n",
      "Epoch 22/50\n",
      "768/768 [==============================] - 0s 51us/step - loss: 0.4584 - accuracy: 0.7786\n",
      "Epoch 23/50\n",
      "768/768 [==============================] - 0s 55us/step - loss: 0.4575 - accuracy: 0.7799\n",
      "Epoch 24/50\n",
      "768/768 [==============================] - 0s 55us/step - loss: 0.4566 - accuracy: 0.7812\n",
      "Epoch 25/50\n",
      "768/768 [==============================] - 0s 59us/step - loss: 0.4558 - accuracy: 0.7839\n",
      "Epoch 26/50\n",
      "768/768 [==============================] - 0s 57us/step - loss: 0.4550 - accuracy: 0.7826\n",
      "Epoch 27/50\n",
      "768/768 [==============================] - 0s 56us/step - loss: 0.4543 - accuracy: 0.7812\n",
      "Epoch 28/50\n",
      "768/768 [==============================] - 0s 59us/step - loss: 0.4536 - accuracy: 0.7839\n",
      "Epoch 29/50\n",
      "768/768 [==============================] - 0s 57us/step - loss: 0.4530 - accuracy: 0.7826\n",
      "Epoch 30/50\n",
      "768/768 [==============================] - 0s 59us/step - loss: 0.4525 - accuracy: 0.7799\n",
      "Epoch 31/50\n",
      "768/768 [==============================] - 0s 58us/step - loss: 0.4519 - accuracy: 0.7826\n",
      "Epoch 32/50\n",
      "768/768 [==============================] - 0s 60us/step - loss: 0.4514 - accuracy: 0.7786\n",
      "Epoch 33/50\n",
      "768/768 [==============================] - 0s 57us/step - loss: 0.4510 - accuracy: 0.7786\n",
      "Epoch 34/50\n",
      "768/768 [==============================] - 0s 56us/step - loss: 0.4505 - accuracy: 0.7786\n",
      "Epoch 35/50\n",
      "768/768 [==============================] - 0s 56us/step - loss: 0.4500 - accuracy: 0.7812\n",
      "Epoch 36/50\n",
      "768/768 [==============================] - 0s 50us/step - loss: 0.4495 - accuracy: 0.7786\n",
      "Epoch 37/50\n",
      "768/768 [==============================] - 0s 51us/step - loss: 0.4491 - accuracy: 0.7773\n",
      "Epoch 38/50\n",
      "768/768 [==============================] - 0s 54us/step - loss: 0.4487 - accuracy: 0.7799\n",
      "Epoch 39/50\n",
      "768/768 [==============================] - 0s 55us/step - loss: 0.4483 - accuracy: 0.7773\n",
      "Epoch 40/50\n",
      "768/768 [==============================] - 0s 53us/step - loss: 0.4480 - accuracy: 0.7786\n",
      "Epoch 41/50\n",
      "768/768 [==============================] - 0s 54us/step - loss: 0.4477 - accuracy: 0.7773\n",
      "Epoch 42/50\n",
      "768/768 [==============================] - 0s 50us/step - loss: 0.4473 - accuracy: 0.7786\n",
      "Epoch 43/50\n",
      "768/768 [==============================] - 0s 50us/step - loss: 0.4470 - accuracy: 0.7826\n",
      "Epoch 44/50\n",
      "768/768 [==============================] - 0s 50us/step - loss: 0.4467 - accuracy: 0.7799\n",
      "Epoch 45/50\n",
      "768/768 [==============================] - 0s 49us/step - loss: 0.4464 - accuracy: 0.7812\n",
      "Epoch 46/50\n",
      "768/768 [==============================] - 0s 52us/step - loss: 0.4462 - accuracy: 0.7799\n",
      "Epoch 47/50\n",
      "768/768 [==============================] - 0s 52us/step - loss: 0.4458 - accuracy: 0.7799\n",
      "Epoch 48/50\n",
      "768/768 [==============================] - 0s 56us/step - loss: 0.4457 - accuracy: 0.7799\n",
      "Epoch 49/50\n",
      "768/768 [==============================] - 0s 54us/step - loss: 0.4454 - accuracy: 0.7799\n",
      "Epoch 50/50\n",
      "768/768 [==============================] - 0s 50us/step - loss: 0.4452 - accuracy: 0.7799\n"
     ]
    }
   ],
   "source": [
    "best_parameters1_list=best_parameters1.fit(X,y)"
   ]
  },
  {
   "cell_type": "code",
   "execution_count": 31,
   "metadata": {},
   "outputs": [
    {
     "data": {
      "text/plain": [
       "0.780027163028717"
      ]
     },
     "execution_count": 31,
     "metadata": {},
     "output_type": "execute_result"
    }
   ],
   "source": [
    "best_parameters1_list.best_score_"
   ]
  },
  {
   "cell_type": "code",
   "execution_count": 32,
   "metadata": {},
   "outputs": [
    {
     "data": {
      "text/plain": [
       "{'optimizer': 'Adagrad'}"
      ]
     },
     "execution_count": 32,
     "metadata": {},
     "output_type": "execute_result"
    }
   ],
   "source": [
    "best_parameters1_list.best_params_"
   ]
  },
  {
   "cell_type": "markdown",
   "metadata": {},
   "source": [
    "### Apply Optimized Parameters"
   ]
  },
  {
   "cell_type": "code",
   "execution_count": 33,
   "metadata": {},
   "outputs": [],
   "source": [
    "new_model1=KerasClassifier(build_fn=my_newmodel,epochs=50,batch_size=10,optimizer='Adagrad')"
   ]
  },
  {
   "cell_type": "code",
   "execution_count": 34,
   "metadata": {},
   "outputs": [],
   "source": [
    "best_parameters1=GridSearchCV(estimator=new_model1,param_grid=parameter_grid,n_jobs=-1,cv=5)"
   ]
  },
  {
   "cell_type": "code",
   "execution_count": 35,
   "metadata": {},
   "outputs": [
    {
     "name": "stdout",
     "output_type": "stream",
     "text": [
      "Epoch 1/50\n",
      "768/768 [==============================] - 0s 115us/step - loss: 0.6205 - accuracy: 0.6745\n",
      "Epoch 2/50\n",
      "768/768 [==============================] - 0s 57us/step - loss: 0.5899 - accuracy: 0.6966\n",
      "Epoch 3/50\n",
      "768/768 [==============================] - 0s 57us/step - loss: 0.5681 - accuracy: 0.7070\n",
      "Epoch 4/50\n",
      "768/768 [==============================] - 0s 57us/step - loss: 0.5520 - accuracy: 0.7096\n",
      "Epoch 5/50\n",
      "768/768 [==============================] - 0s 60us/step - loss: 0.5394 - accuracy: 0.7135\n",
      "Epoch 6/50\n",
      "768/768 [==============================] - 0s 54us/step - loss: 0.5296 - accuracy: 0.7148\n",
      "Epoch 7/50\n",
      "768/768 [==============================] - 0s 53us/step - loss: 0.5211 - accuracy: 0.7148\n",
      "Epoch 8/50\n",
      "768/768 [==============================] - 0s 52us/step - loss: 0.5140 - accuracy: 0.7161\n",
      "Epoch 9/50\n",
      "768/768 [==============================] - 0s 52us/step - loss: 0.5080 - accuracy: 0.7292\n",
      "Epoch 10/50\n",
      "768/768 [==============================] - 0s 53us/step - loss: 0.5028 - accuracy: 0.7279\n",
      "Epoch 11/50\n",
      "768/768 [==============================] - 0s 51us/step - loss: 0.4985 - accuracy: 0.7253\n",
      "Epoch 12/50\n",
      "768/768 [==============================] - 0s 51us/step - loss: 0.4946 - accuracy: 0.7266\n",
      "Epoch 13/50\n",
      "768/768 [==============================] - 0s 51us/step - loss: 0.4914 - accuracy: 0.7240\n",
      "Epoch 14/50\n",
      "768/768 [==============================] - 0s 52us/step - loss: 0.4883 - accuracy: 0.7318\n",
      "Epoch 15/50\n",
      "768/768 [==============================] - 0s 53us/step - loss: 0.4856 - accuracy: 0.7357\n",
      "Epoch 16/50\n",
      "768/768 [==============================] - 0s 54us/step - loss: 0.4834 - accuracy: 0.7422\n",
      "Epoch 17/50\n",
      "768/768 [==============================] - 0s 51us/step - loss: 0.4812 - accuracy: 0.7435\n",
      "Epoch 18/50\n",
      "768/768 [==============================] - 0s 54us/step - loss: 0.4793 - accuracy: 0.7513\n",
      "Epoch 19/50\n",
      "768/768 [==============================] - 0s 53us/step - loss: 0.4775 - accuracy: 0.7513\n",
      "Epoch 20/50\n",
      "768/768 [==============================] - 0s 51us/step - loss: 0.4759 - accuracy: 0.7487\n",
      "Epoch 21/50\n",
      "768/768 [==============================] - 0s 52us/step - loss: 0.4743 - accuracy: 0.7526\n",
      "Epoch 22/50\n",
      "768/768 [==============================] - 0s 53us/step - loss: 0.4730 - accuracy: 0.7578\n",
      "Epoch 23/50\n",
      "768/768 [==============================] - 0s 50us/step - loss: 0.4717 - accuracy: 0.7578\n",
      "Epoch 24/50\n",
      "768/768 [==============================] - 0s 50us/step - loss: 0.4703 - accuracy: 0.7578\n",
      "Epoch 25/50\n",
      "768/768 [==============================] - 0s 52us/step - loss: 0.4692 - accuracy: 0.7630\n",
      "Epoch 26/50\n",
      "768/768 [==============================] - 0s 56us/step - loss: 0.4681 - accuracy: 0.7604\n",
      "Epoch 27/50\n",
      "768/768 [==============================] - 0s 56us/step - loss: 0.4670 - accuracy: 0.7617\n",
      "Epoch 28/50\n",
      "768/768 [==============================] - 0s 59us/step - loss: 0.4659 - accuracy: 0.7643\n",
      "Epoch 29/50\n",
      "768/768 [==============================] - 0s 57us/step - loss: 0.4649 - accuracy: 0.7643\n",
      "Epoch 30/50\n",
      "768/768 [==============================] - 0s 56us/step - loss: 0.4640 - accuracy: 0.7695\n",
      "Epoch 31/50\n",
      "768/768 [==============================] - 0s 58us/step - loss: 0.4632 - accuracy: 0.7695\n",
      "Epoch 32/50\n",
      "768/768 [==============================] - 0s 57us/step - loss: 0.4620 - accuracy: 0.7695\n",
      "Epoch 33/50\n",
      "768/768 [==============================] - 0s 57us/step - loss: 0.4611 - accuracy: 0.7682\n",
      "Epoch 34/50\n",
      "768/768 [==============================] - 0s 58us/step - loss: 0.4603 - accuracy: 0.7721\n",
      "Epoch 35/50\n",
      "768/768 [==============================] - 0s 59us/step - loss: 0.4595 - accuracy: 0.7708\n",
      "Epoch 36/50\n",
      "768/768 [==============================] - 0s 57us/step - loss: 0.4585 - accuracy: 0.7695\n",
      "Epoch 37/50\n",
      "768/768 [==============================] - 0s 56us/step - loss: 0.4578 - accuracy: 0.7721\n",
      "Epoch 38/50\n",
      "768/768 [==============================] - 0s 59us/step - loss: 0.4571 - accuracy: 0.7708\n",
      "Epoch 39/50\n",
      "768/768 [==============================] - 0s 57us/step - loss: 0.4562 - accuracy: 0.7721\n",
      "Epoch 40/50\n",
      "768/768 [==============================] - 0s 57us/step - loss: 0.4556 - accuracy: 0.7721\n",
      "Epoch 41/50\n",
      "768/768 [==============================] - 0s 59us/step - loss: 0.4551 - accuracy: 0.7721\n",
      "Epoch 42/50\n",
      "768/768 [==============================] - 0s 57us/step - loss: 0.4545 - accuracy: 0.7760\n",
      "Epoch 43/50\n",
      "768/768 [==============================] - 0s 54us/step - loss: 0.4540 - accuracy: 0.7760\n",
      "Epoch 44/50\n",
      "768/768 [==============================] - 0s 57us/step - loss: 0.4532 - accuracy: 0.7799\n",
      "Epoch 45/50\n",
      "768/768 [==============================] - 0s 54us/step - loss: 0.4528 - accuracy: 0.7760\n",
      "Epoch 46/50\n",
      "768/768 [==============================] - 0s 56us/step - loss: 0.4522 - accuracy: 0.7799\n",
      "Epoch 47/50\n",
      "768/768 [==============================] - 0s 60us/step - loss: 0.4518 - accuracy: 0.7786\n",
      "Epoch 48/50\n",
      "768/768 [==============================] - 0s 57us/step - loss: 0.4513 - accuracy: 0.7812\n",
      "Epoch 49/50\n",
      "768/768 [==============================] - 0s 57us/step - loss: 0.4506 - accuracy: 0.7852\n",
      "Epoch 50/50\n",
      "768/768 [==============================] - 0s 57us/step - loss: 0.4503 - accuracy: 0.7786\n"
     ]
    }
   ],
   "source": [
    "best_parameters1_list=best_parameters1.fit(X,y)"
   ]
  },
  {
   "cell_type": "code",
   "execution_count": 36,
   "metadata": {},
   "outputs": [
    {
     "data": {
      "text/plain": [
       "0.7748153805732727"
      ]
     },
     "execution_count": 36,
     "metadata": {},
     "output_type": "execute_result"
    }
   ],
   "source": [
    "best_parameters1_list.best_score_"
   ]
  },
  {
   "cell_type": "code",
   "execution_count": null,
   "metadata": {},
   "outputs": [],
   "source": []
  }
 ],
 "metadata": {
  "kernelspec": {
   "display_name": "Python 3",
   "language": "python",
   "name": "python3"
  },
  "language_info": {
   "codemirror_mode": {
    "name": "ipython",
    "version": 3
   },
   "file_extension": ".py",
   "mimetype": "text/x-python",
   "name": "python",
   "nbconvert_exporter": "python",
   "pygments_lexer": "ipython3",
   "version": "3.7.3"
  }
 },
 "nbformat": 4,
 "nbformat_minor": 4
}
