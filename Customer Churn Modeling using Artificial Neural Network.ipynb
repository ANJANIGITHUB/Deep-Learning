{
 "cells": [
  {
   "cell_type": "code",
   "execution_count": 1,
   "metadata": {},
   "outputs": [],
   "source": [
    "import pandas as pd\n",
    "import numpy as np\n",
    "import matplotlib.pyplot as plt\n",
    "from sklearn.model_selection import train_test_split"
   ]
  },
  {
   "cell_type": "code",
   "execution_count": 2,
   "metadata": {},
   "outputs": [],
   "source": [
    "ds=pd.read_csv('../Churn_Modelling.csv')"
   ]
  },
  {
   "cell_type": "code",
   "execution_count": 3,
   "metadata": {},
   "outputs": [
    {
     "data": {
      "text/html": [
       "<div>\n",
       "<style scoped>\n",
       "    .dataframe tbody tr th:only-of-type {\n",
       "        vertical-align: middle;\n",
       "    }\n",
       "\n",
       "    .dataframe tbody tr th {\n",
       "        vertical-align: top;\n",
       "    }\n",
       "\n",
       "    .dataframe thead th {\n",
       "        text-align: right;\n",
       "    }\n",
       "</style>\n",
       "<table border=\"1\" class=\"dataframe\">\n",
       "  <thead>\n",
       "    <tr style=\"text-align: right;\">\n",
       "      <th></th>\n",
       "      <th>RowNumber</th>\n",
       "      <th>CustomerId</th>\n",
       "      <th>Surname</th>\n",
       "      <th>CreditScore</th>\n",
       "      <th>Geography</th>\n",
       "      <th>Gender</th>\n",
       "      <th>Age</th>\n",
       "      <th>Tenure</th>\n",
       "      <th>Balance</th>\n",
       "      <th>NumOfProducts</th>\n",
       "      <th>HasCrCard</th>\n",
       "      <th>IsActiveMember</th>\n",
       "      <th>EstimatedSalary</th>\n",
       "      <th>Exited</th>\n",
       "    </tr>\n",
       "  </thead>\n",
       "  <tbody>\n",
       "    <tr>\n",
       "      <th>0</th>\n",
       "      <td>1</td>\n",
       "      <td>15634602</td>\n",
       "      <td>Hargrave</td>\n",
       "      <td>619</td>\n",
       "      <td>France</td>\n",
       "      <td>Female</td>\n",
       "      <td>42</td>\n",
       "      <td>2</td>\n",
       "      <td>0.00</td>\n",
       "      <td>1</td>\n",
       "      <td>1</td>\n",
       "      <td>1</td>\n",
       "      <td>101348.88</td>\n",
       "      <td>1</td>\n",
       "    </tr>\n",
       "    <tr>\n",
       "      <th>1</th>\n",
       "      <td>2</td>\n",
       "      <td>15647311</td>\n",
       "      <td>Hill</td>\n",
       "      <td>608</td>\n",
       "      <td>Spain</td>\n",
       "      <td>Female</td>\n",
       "      <td>41</td>\n",
       "      <td>1</td>\n",
       "      <td>83807.86</td>\n",
       "      <td>1</td>\n",
       "      <td>0</td>\n",
       "      <td>1</td>\n",
       "      <td>112542.58</td>\n",
       "      <td>0</td>\n",
       "    </tr>\n",
       "    <tr>\n",
       "      <th>2</th>\n",
       "      <td>3</td>\n",
       "      <td>15619304</td>\n",
       "      <td>Onio</td>\n",
       "      <td>502</td>\n",
       "      <td>France</td>\n",
       "      <td>Female</td>\n",
       "      <td>42</td>\n",
       "      <td>8</td>\n",
       "      <td>159660.80</td>\n",
       "      <td>3</td>\n",
       "      <td>1</td>\n",
       "      <td>0</td>\n",
       "      <td>113931.57</td>\n",
       "      <td>1</td>\n",
       "    </tr>\n",
       "    <tr>\n",
       "      <th>3</th>\n",
       "      <td>4</td>\n",
       "      <td>15701354</td>\n",
       "      <td>Boni</td>\n",
       "      <td>699</td>\n",
       "      <td>France</td>\n",
       "      <td>Female</td>\n",
       "      <td>39</td>\n",
       "      <td>1</td>\n",
       "      <td>0.00</td>\n",
       "      <td>2</td>\n",
       "      <td>0</td>\n",
       "      <td>0</td>\n",
       "      <td>93826.63</td>\n",
       "      <td>0</td>\n",
       "    </tr>\n",
       "    <tr>\n",
       "      <th>4</th>\n",
       "      <td>5</td>\n",
       "      <td>15737888</td>\n",
       "      <td>Mitchell</td>\n",
       "      <td>850</td>\n",
       "      <td>Spain</td>\n",
       "      <td>Female</td>\n",
       "      <td>43</td>\n",
       "      <td>2</td>\n",
       "      <td>125510.82</td>\n",
       "      <td>1</td>\n",
       "      <td>1</td>\n",
       "      <td>1</td>\n",
       "      <td>79084.10</td>\n",
       "      <td>0</td>\n",
       "    </tr>\n",
       "  </tbody>\n",
       "</table>\n",
       "</div>"
      ],
      "text/plain": [
       "   RowNumber  CustomerId   Surname  CreditScore Geography  Gender  Age  \\\n",
       "0          1    15634602  Hargrave          619    France  Female   42   \n",
       "1          2    15647311      Hill          608     Spain  Female   41   \n",
       "2          3    15619304      Onio          502    France  Female   42   \n",
       "3          4    15701354      Boni          699    France  Female   39   \n",
       "4          5    15737888  Mitchell          850     Spain  Female   43   \n",
       "\n",
       "   Tenure    Balance  NumOfProducts  HasCrCard  IsActiveMember  \\\n",
       "0       2       0.00              1          1               1   \n",
       "1       1   83807.86              1          0               1   \n",
       "2       8  159660.80              3          1               0   \n",
       "3       1       0.00              2          0               0   \n",
       "4       2  125510.82              1          1               1   \n",
       "\n",
       "   EstimatedSalary  Exited  \n",
       "0        101348.88       1  \n",
       "1        112542.58       0  \n",
       "2        113931.57       1  \n",
       "3         93826.63       0  \n",
       "4         79084.10       0  "
      ]
     },
     "execution_count": 3,
     "metadata": {},
     "output_type": "execute_result"
    }
   ],
   "source": [
    "ds.head()"
   ]
  },
  {
   "cell_type": "code",
   "execution_count": 4,
   "metadata": {},
   "outputs": [],
   "source": [
    "X=ds.iloc[:,3:-1]"
   ]
  },
  {
   "cell_type": "code",
   "execution_count": 5,
   "metadata": {},
   "outputs": [
    {
     "data": {
      "text/html": [
       "<div>\n",
       "<style scoped>\n",
       "    .dataframe tbody tr th:only-of-type {\n",
       "        vertical-align: middle;\n",
       "    }\n",
       "\n",
       "    .dataframe tbody tr th {\n",
       "        vertical-align: top;\n",
       "    }\n",
       "\n",
       "    .dataframe thead th {\n",
       "        text-align: right;\n",
       "    }\n",
       "</style>\n",
       "<table border=\"1\" class=\"dataframe\">\n",
       "  <thead>\n",
       "    <tr style=\"text-align: right;\">\n",
       "      <th></th>\n",
       "      <th>CreditScore</th>\n",
       "      <th>Geography</th>\n",
       "      <th>Gender</th>\n",
       "      <th>Age</th>\n",
       "      <th>Tenure</th>\n",
       "      <th>Balance</th>\n",
       "      <th>NumOfProducts</th>\n",
       "      <th>HasCrCard</th>\n",
       "      <th>IsActiveMember</th>\n",
       "      <th>EstimatedSalary</th>\n",
       "    </tr>\n",
       "  </thead>\n",
       "  <tbody>\n",
       "    <tr>\n",
       "      <th>0</th>\n",
       "      <td>619</td>\n",
       "      <td>France</td>\n",
       "      <td>Female</td>\n",
       "      <td>42</td>\n",
       "      <td>2</td>\n",
       "      <td>0.00</td>\n",
       "      <td>1</td>\n",
       "      <td>1</td>\n",
       "      <td>1</td>\n",
       "      <td>101348.88</td>\n",
       "    </tr>\n",
       "    <tr>\n",
       "      <th>1</th>\n",
       "      <td>608</td>\n",
       "      <td>Spain</td>\n",
       "      <td>Female</td>\n",
       "      <td>41</td>\n",
       "      <td>1</td>\n",
       "      <td>83807.86</td>\n",
       "      <td>1</td>\n",
       "      <td>0</td>\n",
       "      <td>1</td>\n",
       "      <td>112542.58</td>\n",
       "    </tr>\n",
       "    <tr>\n",
       "      <th>2</th>\n",
       "      <td>502</td>\n",
       "      <td>France</td>\n",
       "      <td>Female</td>\n",
       "      <td>42</td>\n",
       "      <td>8</td>\n",
       "      <td>159660.80</td>\n",
       "      <td>3</td>\n",
       "      <td>1</td>\n",
       "      <td>0</td>\n",
       "      <td>113931.57</td>\n",
       "    </tr>\n",
       "    <tr>\n",
       "      <th>3</th>\n",
       "      <td>699</td>\n",
       "      <td>France</td>\n",
       "      <td>Female</td>\n",
       "      <td>39</td>\n",
       "      <td>1</td>\n",
       "      <td>0.00</td>\n",
       "      <td>2</td>\n",
       "      <td>0</td>\n",
       "      <td>0</td>\n",
       "      <td>93826.63</td>\n",
       "    </tr>\n",
       "    <tr>\n",
       "      <th>4</th>\n",
       "      <td>850</td>\n",
       "      <td>Spain</td>\n",
       "      <td>Female</td>\n",
       "      <td>43</td>\n",
       "      <td>2</td>\n",
       "      <td>125510.82</td>\n",
       "      <td>1</td>\n",
       "      <td>1</td>\n",
       "      <td>1</td>\n",
       "      <td>79084.10</td>\n",
       "    </tr>\n",
       "  </tbody>\n",
       "</table>\n",
       "</div>"
      ],
      "text/plain": [
       "   CreditScore Geography  Gender  Age  Tenure    Balance  NumOfProducts  \\\n",
       "0          619    France  Female   42       2       0.00              1   \n",
       "1          608     Spain  Female   41       1   83807.86              1   \n",
       "2          502    France  Female   42       8  159660.80              3   \n",
       "3          699    France  Female   39       1       0.00              2   \n",
       "4          850     Spain  Female   43       2  125510.82              1   \n",
       "\n",
       "   HasCrCard  IsActiveMember  EstimatedSalary  \n",
       "0          1               1        101348.88  \n",
       "1          0               1        112542.58  \n",
       "2          1               0        113931.57  \n",
       "3          0               0         93826.63  \n",
       "4          1               1         79084.10  "
      ]
     },
     "execution_count": 5,
     "metadata": {},
     "output_type": "execute_result"
    }
   ],
   "source": [
    "X.head()"
   ]
  },
  {
   "cell_type": "code",
   "execution_count": 6,
   "metadata": {},
   "outputs": [],
   "source": [
    "y=ds.iloc[:,-1]"
   ]
  },
  {
   "cell_type": "code",
   "execution_count": 7,
   "metadata": {},
   "outputs": [
    {
     "data": {
      "text/plain": [
       "0       1\n",
       "1       0\n",
       "2       1\n",
       "3       0\n",
       "4       0\n",
       "       ..\n",
       "9995    0\n",
       "9996    0\n",
       "9997    1\n",
       "9998    1\n",
       "9999    0\n",
       "Name: Exited, Length: 10000, dtype: int64"
      ]
     },
     "execution_count": 7,
     "metadata": {},
     "output_type": "execute_result"
    }
   ],
   "source": [
    "y"
   ]
  },
  {
   "cell_type": "markdown",
   "metadata": {},
   "source": [
    "### Handle Categorical Variables"
   ]
  },
  {
   "cell_type": "code",
   "execution_count": 8,
   "metadata": {},
   "outputs": [],
   "source": [
    "geography=pd.get_dummies(X['Geography'],drop_first=True)"
   ]
  },
  {
   "cell_type": "code",
   "execution_count": 9,
   "metadata": {},
   "outputs": [],
   "source": [
    "gender=pd.get_dummies(X['Gender'],drop_first=True)"
   ]
  },
  {
   "cell_type": "code",
   "execution_count": 10,
   "metadata": {},
   "outputs": [
    {
     "data": {
      "text/html": [
       "<div>\n",
       "<style scoped>\n",
       "    .dataframe tbody tr th:only-of-type {\n",
       "        vertical-align: middle;\n",
       "    }\n",
       "\n",
       "    .dataframe tbody tr th {\n",
       "        vertical-align: top;\n",
       "    }\n",
       "\n",
       "    .dataframe thead th {\n",
       "        text-align: right;\n",
       "    }\n",
       "</style>\n",
       "<table border=\"1\" class=\"dataframe\">\n",
       "  <thead>\n",
       "    <tr style=\"text-align: right;\">\n",
       "      <th></th>\n",
       "      <th>Germany</th>\n",
       "      <th>Spain</th>\n",
       "    </tr>\n",
       "  </thead>\n",
       "  <tbody>\n",
       "    <tr>\n",
       "      <th>0</th>\n",
       "      <td>0</td>\n",
       "      <td>0</td>\n",
       "    </tr>\n",
       "    <tr>\n",
       "      <th>1</th>\n",
       "      <td>0</td>\n",
       "      <td>1</td>\n",
       "    </tr>\n",
       "    <tr>\n",
       "      <th>2</th>\n",
       "      <td>0</td>\n",
       "      <td>0</td>\n",
       "    </tr>\n",
       "    <tr>\n",
       "      <th>3</th>\n",
       "      <td>0</td>\n",
       "      <td>0</td>\n",
       "    </tr>\n",
       "    <tr>\n",
       "      <th>4</th>\n",
       "      <td>0</td>\n",
       "      <td>1</td>\n",
       "    </tr>\n",
       "  </tbody>\n",
       "</table>\n",
       "</div>"
      ],
      "text/plain": [
       "   Germany  Spain\n",
       "0        0      0\n",
       "1        0      1\n",
       "2        0      0\n",
       "3        0      0\n",
       "4        0      1"
      ]
     },
     "execution_count": 10,
     "metadata": {},
     "output_type": "execute_result"
    }
   ],
   "source": [
    "geography.head()"
   ]
  },
  {
   "cell_type": "code",
   "execution_count": 11,
   "metadata": {},
   "outputs": [
    {
     "data": {
      "text/html": [
       "<div>\n",
       "<style scoped>\n",
       "    .dataframe tbody tr th:only-of-type {\n",
       "        vertical-align: middle;\n",
       "    }\n",
       "\n",
       "    .dataframe tbody tr th {\n",
       "        vertical-align: top;\n",
       "    }\n",
       "\n",
       "    .dataframe thead th {\n",
       "        text-align: right;\n",
       "    }\n",
       "</style>\n",
       "<table border=\"1\" class=\"dataframe\">\n",
       "  <thead>\n",
       "    <tr style=\"text-align: right;\">\n",
       "      <th></th>\n",
       "      <th>Male</th>\n",
       "    </tr>\n",
       "  </thead>\n",
       "  <tbody>\n",
       "    <tr>\n",
       "      <th>0</th>\n",
       "      <td>0</td>\n",
       "    </tr>\n",
       "    <tr>\n",
       "      <th>1</th>\n",
       "      <td>0</td>\n",
       "    </tr>\n",
       "    <tr>\n",
       "      <th>2</th>\n",
       "      <td>0</td>\n",
       "    </tr>\n",
       "    <tr>\n",
       "      <th>3</th>\n",
       "      <td>0</td>\n",
       "    </tr>\n",
       "    <tr>\n",
       "      <th>4</th>\n",
       "      <td>0</td>\n",
       "    </tr>\n",
       "  </tbody>\n",
       "</table>\n",
       "</div>"
      ],
      "text/plain": [
       "   Male\n",
       "0     0\n",
       "1     0\n",
       "2     0\n",
       "3     0\n",
       "4     0"
      ]
     },
     "execution_count": 11,
     "metadata": {},
     "output_type": "execute_result"
    }
   ],
   "source": [
    "gender.head()"
   ]
  },
  {
   "cell_type": "markdown",
   "metadata": {},
   "source": [
    "### Concat Variables with main data frame"
   ]
  },
  {
   "cell_type": "code",
   "execution_count": 12,
   "metadata": {},
   "outputs": [],
   "source": [
    "X=pd.concat([X,geography,gender],axis=1)"
   ]
  },
  {
   "cell_type": "code",
   "execution_count": 13,
   "metadata": {},
   "outputs": [
    {
     "data": {
      "text/html": [
       "<div>\n",
       "<style scoped>\n",
       "    .dataframe tbody tr th:only-of-type {\n",
       "        vertical-align: middle;\n",
       "    }\n",
       "\n",
       "    .dataframe tbody tr th {\n",
       "        vertical-align: top;\n",
       "    }\n",
       "\n",
       "    .dataframe thead th {\n",
       "        text-align: right;\n",
       "    }\n",
       "</style>\n",
       "<table border=\"1\" class=\"dataframe\">\n",
       "  <thead>\n",
       "    <tr style=\"text-align: right;\">\n",
       "      <th></th>\n",
       "      <th>CreditScore</th>\n",
       "      <th>Geography</th>\n",
       "      <th>Gender</th>\n",
       "      <th>Age</th>\n",
       "      <th>Tenure</th>\n",
       "      <th>Balance</th>\n",
       "      <th>NumOfProducts</th>\n",
       "      <th>HasCrCard</th>\n",
       "      <th>IsActiveMember</th>\n",
       "      <th>EstimatedSalary</th>\n",
       "      <th>Germany</th>\n",
       "      <th>Spain</th>\n",
       "      <th>Male</th>\n",
       "    </tr>\n",
       "  </thead>\n",
       "  <tbody>\n",
       "    <tr>\n",
       "      <th>0</th>\n",
       "      <td>619</td>\n",
       "      <td>France</td>\n",
       "      <td>Female</td>\n",
       "      <td>42</td>\n",
       "      <td>2</td>\n",
       "      <td>0.00</td>\n",
       "      <td>1</td>\n",
       "      <td>1</td>\n",
       "      <td>1</td>\n",
       "      <td>101348.88</td>\n",
       "      <td>0</td>\n",
       "      <td>0</td>\n",
       "      <td>0</td>\n",
       "    </tr>\n",
       "    <tr>\n",
       "      <th>1</th>\n",
       "      <td>608</td>\n",
       "      <td>Spain</td>\n",
       "      <td>Female</td>\n",
       "      <td>41</td>\n",
       "      <td>1</td>\n",
       "      <td>83807.86</td>\n",
       "      <td>1</td>\n",
       "      <td>0</td>\n",
       "      <td>1</td>\n",
       "      <td>112542.58</td>\n",
       "      <td>0</td>\n",
       "      <td>1</td>\n",
       "      <td>0</td>\n",
       "    </tr>\n",
       "    <tr>\n",
       "      <th>2</th>\n",
       "      <td>502</td>\n",
       "      <td>France</td>\n",
       "      <td>Female</td>\n",
       "      <td>42</td>\n",
       "      <td>8</td>\n",
       "      <td>159660.80</td>\n",
       "      <td>3</td>\n",
       "      <td>1</td>\n",
       "      <td>0</td>\n",
       "      <td>113931.57</td>\n",
       "      <td>0</td>\n",
       "      <td>0</td>\n",
       "      <td>0</td>\n",
       "    </tr>\n",
       "    <tr>\n",
       "      <th>3</th>\n",
       "      <td>699</td>\n",
       "      <td>France</td>\n",
       "      <td>Female</td>\n",
       "      <td>39</td>\n",
       "      <td>1</td>\n",
       "      <td>0.00</td>\n",
       "      <td>2</td>\n",
       "      <td>0</td>\n",
       "      <td>0</td>\n",
       "      <td>93826.63</td>\n",
       "      <td>0</td>\n",
       "      <td>0</td>\n",
       "      <td>0</td>\n",
       "    </tr>\n",
       "    <tr>\n",
       "      <th>4</th>\n",
       "      <td>850</td>\n",
       "      <td>Spain</td>\n",
       "      <td>Female</td>\n",
       "      <td>43</td>\n",
       "      <td>2</td>\n",
       "      <td>125510.82</td>\n",
       "      <td>1</td>\n",
       "      <td>1</td>\n",
       "      <td>1</td>\n",
       "      <td>79084.10</td>\n",
       "      <td>0</td>\n",
       "      <td>1</td>\n",
       "      <td>0</td>\n",
       "    </tr>\n",
       "  </tbody>\n",
       "</table>\n",
       "</div>"
      ],
      "text/plain": [
       "   CreditScore Geography  Gender  Age  Tenure    Balance  NumOfProducts  \\\n",
       "0          619    France  Female   42       2       0.00              1   \n",
       "1          608     Spain  Female   41       1   83807.86              1   \n",
       "2          502    France  Female   42       8  159660.80              3   \n",
       "3          699    France  Female   39       1       0.00              2   \n",
       "4          850     Spain  Female   43       2  125510.82              1   \n",
       "\n",
       "   HasCrCard  IsActiveMember  EstimatedSalary  Germany  Spain  Male  \n",
       "0          1               1        101348.88        0      0     0  \n",
       "1          0               1        112542.58        0      1     0  \n",
       "2          1               0        113931.57        0      0     0  \n",
       "3          0               0         93826.63        0      0     0  \n",
       "4          1               1         79084.10        0      1     0  "
      ]
     },
     "execution_count": 13,
     "metadata": {},
     "output_type": "execute_result"
    }
   ],
   "source": [
    "X.head()"
   ]
  },
  {
   "cell_type": "markdown",
   "metadata": {},
   "source": [
    "### Drop Feature Geography & Gender"
   ]
  },
  {
   "cell_type": "code",
   "execution_count": 14,
   "metadata": {},
   "outputs": [],
   "source": [
    "X.drop(columns=['Geography','Gender'],axis=1,inplace=True)"
   ]
  },
  {
   "cell_type": "code",
   "execution_count": 15,
   "metadata": {},
   "outputs": [
    {
     "data": {
      "text/html": [
       "<div>\n",
       "<style scoped>\n",
       "    .dataframe tbody tr th:only-of-type {\n",
       "        vertical-align: middle;\n",
       "    }\n",
       "\n",
       "    .dataframe tbody tr th {\n",
       "        vertical-align: top;\n",
       "    }\n",
       "\n",
       "    .dataframe thead th {\n",
       "        text-align: right;\n",
       "    }\n",
       "</style>\n",
       "<table border=\"1\" class=\"dataframe\">\n",
       "  <thead>\n",
       "    <tr style=\"text-align: right;\">\n",
       "      <th></th>\n",
       "      <th>CreditScore</th>\n",
       "      <th>Age</th>\n",
       "      <th>Tenure</th>\n",
       "      <th>Balance</th>\n",
       "      <th>NumOfProducts</th>\n",
       "      <th>HasCrCard</th>\n",
       "      <th>IsActiveMember</th>\n",
       "      <th>EstimatedSalary</th>\n",
       "      <th>Germany</th>\n",
       "      <th>Spain</th>\n",
       "      <th>Male</th>\n",
       "    </tr>\n",
       "  </thead>\n",
       "  <tbody>\n",
       "    <tr>\n",
       "      <th>0</th>\n",
       "      <td>619</td>\n",
       "      <td>42</td>\n",
       "      <td>2</td>\n",
       "      <td>0.00</td>\n",
       "      <td>1</td>\n",
       "      <td>1</td>\n",
       "      <td>1</td>\n",
       "      <td>101348.88</td>\n",
       "      <td>0</td>\n",
       "      <td>0</td>\n",
       "      <td>0</td>\n",
       "    </tr>\n",
       "    <tr>\n",
       "      <th>1</th>\n",
       "      <td>608</td>\n",
       "      <td>41</td>\n",
       "      <td>1</td>\n",
       "      <td>83807.86</td>\n",
       "      <td>1</td>\n",
       "      <td>0</td>\n",
       "      <td>1</td>\n",
       "      <td>112542.58</td>\n",
       "      <td>0</td>\n",
       "      <td>1</td>\n",
       "      <td>0</td>\n",
       "    </tr>\n",
       "    <tr>\n",
       "      <th>2</th>\n",
       "      <td>502</td>\n",
       "      <td>42</td>\n",
       "      <td>8</td>\n",
       "      <td>159660.80</td>\n",
       "      <td>3</td>\n",
       "      <td>1</td>\n",
       "      <td>0</td>\n",
       "      <td>113931.57</td>\n",
       "      <td>0</td>\n",
       "      <td>0</td>\n",
       "      <td>0</td>\n",
       "    </tr>\n",
       "    <tr>\n",
       "      <th>3</th>\n",
       "      <td>699</td>\n",
       "      <td>39</td>\n",
       "      <td>1</td>\n",
       "      <td>0.00</td>\n",
       "      <td>2</td>\n",
       "      <td>0</td>\n",
       "      <td>0</td>\n",
       "      <td>93826.63</td>\n",
       "      <td>0</td>\n",
       "      <td>0</td>\n",
       "      <td>0</td>\n",
       "    </tr>\n",
       "    <tr>\n",
       "      <th>4</th>\n",
       "      <td>850</td>\n",
       "      <td>43</td>\n",
       "      <td>2</td>\n",
       "      <td>125510.82</td>\n",
       "      <td>1</td>\n",
       "      <td>1</td>\n",
       "      <td>1</td>\n",
       "      <td>79084.10</td>\n",
       "      <td>0</td>\n",
       "      <td>1</td>\n",
       "      <td>0</td>\n",
       "    </tr>\n",
       "  </tbody>\n",
       "</table>\n",
       "</div>"
      ],
      "text/plain": [
       "   CreditScore  Age  Tenure    Balance  NumOfProducts  HasCrCard  \\\n",
       "0          619   42       2       0.00              1          1   \n",
       "1          608   41       1   83807.86              1          0   \n",
       "2          502   42       8  159660.80              3          1   \n",
       "3          699   39       1       0.00              2          0   \n",
       "4          850   43       2  125510.82              1          1   \n",
       "\n",
       "   IsActiveMember  EstimatedSalary  Germany  Spain  Male  \n",
       "0               1        101348.88        0      0     0  \n",
       "1               1        112542.58        0      1     0  \n",
       "2               0        113931.57        0      0     0  \n",
       "3               0         93826.63        0      0     0  \n",
       "4               1         79084.10        0      1     0  "
      ]
     },
     "execution_count": 15,
     "metadata": {},
     "output_type": "execute_result"
    }
   ],
   "source": [
    "X.head()"
   ]
  },
  {
   "cell_type": "markdown",
   "metadata": {},
   "source": [
    "### Train Test Split"
   ]
  },
  {
   "cell_type": "code",
   "execution_count": 16,
   "metadata": {},
   "outputs": [],
   "source": [
    "X_train,X_test,y_train,y_test=train_test_split(X,y,test_size=0.20,random_state=22)"
   ]
  },
  {
   "cell_type": "markdown",
   "metadata": {},
   "source": [
    "### Feature Scaling"
   ]
  },
  {
   "cell_type": "code",
   "execution_count": 17,
   "metadata": {},
   "outputs": [],
   "source": [
    "from sklearn.preprocessing import StandardScaler"
   ]
  },
  {
   "cell_type": "code",
   "execution_count": 18,
   "metadata": {},
   "outputs": [],
   "source": [
    "ss=StandardScaler()"
   ]
  },
  {
   "cell_type": "code",
   "execution_count": 19,
   "metadata": {},
   "outputs": [],
   "source": [
    "scaled_X_train=ss.fit_transform(X_train)"
   ]
  },
  {
   "cell_type": "code",
   "execution_count": 20,
   "metadata": {},
   "outputs": [],
   "source": [
    "scaled_X_test=ss.transform(X_test)"
   ]
  },
  {
   "cell_type": "markdown",
   "metadata": {},
   "source": [
    "### Lets Start building ANN"
   ]
  },
  {
   "cell_type": "code",
   "execution_count": 21,
   "metadata": {},
   "outputs": [
    {
     "name": "stderr",
     "output_type": "stream",
     "text": [
      "Using TensorFlow backend.\n",
      "C:\\Users\\akumar4\\AppData\\Local\\Continuum\\anaconda3\\lib\\site-packages\\tensorflow\\python\\framework\\dtypes.py:526: FutureWarning: Passing (type, 1) or '1type' as a synonym of type is deprecated; in a future version of numpy, it will be understood as (type, (1,)) / '(1,)type'.\n",
      "  _np_qint8 = np.dtype([(\"qint8\", np.int8, 1)])\n",
      "C:\\Users\\akumar4\\AppData\\Local\\Continuum\\anaconda3\\lib\\site-packages\\tensorflow\\python\\framework\\dtypes.py:527: FutureWarning: Passing (type, 1) or '1type' as a synonym of type is deprecated; in a future version of numpy, it will be understood as (type, (1,)) / '(1,)type'.\n",
      "  _np_quint8 = np.dtype([(\"quint8\", np.uint8, 1)])\n",
      "C:\\Users\\akumar4\\AppData\\Local\\Continuum\\anaconda3\\lib\\site-packages\\tensorflow\\python\\framework\\dtypes.py:528: FutureWarning: Passing (type, 1) or '1type' as a synonym of type is deprecated; in a future version of numpy, it will be understood as (type, (1,)) / '(1,)type'.\n",
      "  _np_qint16 = np.dtype([(\"qint16\", np.int16, 1)])\n",
      "C:\\Users\\akumar4\\AppData\\Local\\Continuum\\anaconda3\\lib\\site-packages\\tensorflow\\python\\framework\\dtypes.py:529: FutureWarning: Passing (type, 1) or '1type' as a synonym of type is deprecated; in a future version of numpy, it will be understood as (type, (1,)) / '(1,)type'.\n",
      "  _np_quint16 = np.dtype([(\"quint16\", np.uint16, 1)])\n",
      "C:\\Users\\akumar4\\AppData\\Local\\Continuum\\anaconda3\\lib\\site-packages\\tensorflow\\python\\framework\\dtypes.py:530: FutureWarning: Passing (type, 1) or '1type' as a synonym of type is deprecated; in a future version of numpy, it will be understood as (type, (1,)) / '(1,)type'.\n",
      "  _np_qint32 = np.dtype([(\"qint32\", np.int32, 1)])\n",
      "C:\\Users\\akumar4\\AppData\\Local\\Continuum\\anaconda3\\lib\\site-packages\\tensorflow\\python\\framework\\dtypes.py:535: FutureWarning: Passing (type, 1) or '1type' as a synonym of type is deprecated; in a future version of numpy, it will be understood as (type, (1,)) / '(1,)type'.\n",
      "  np_resource = np.dtype([(\"resource\", np.ubyte, 1)])\n"
     ]
    }
   ],
   "source": [
    "import keras"
   ]
  },
  {
   "cell_type": "code",
   "execution_count": 22,
   "metadata": {},
   "outputs": [],
   "source": [
    "from keras.models import Sequential\n",
    "from keras.layers import Dense\n",
    "from keras.layers import Dropout"
   ]
  },
  {
   "cell_type": "markdown",
   "metadata": {},
   "source": [
    "### Initialize ANN"
   ]
  },
  {
   "cell_type": "code",
   "execution_count": 23,
   "metadata": {},
   "outputs": [],
   "source": [
    "classifier=Sequential()"
   ]
  },
  {
   "cell_type": "markdown",
   "metadata": {},
   "source": [
    "### Adding Input Layer and First Hidden Layer in ANN"
   ]
  },
  {
   "cell_type": "code",
   "execution_count": 24,
   "metadata": {},
   "outputs": [
    {
     "name": "stdout",
     "output_type": "stream",
     "text": [
      "WARNING:tensorflow:From C:\\Users\\akumar4\\AppData\\Local\\Continuum\\anaconda3\\lib\\site-packages\\tensorflow\\python\\ops\\resource_variable_ops.py:435: colocate_with (from tensorflow.python.framework.ops) is deprecated and will be removed in a future version.\n",
      "Instructions for updating:\n",
      "Colocations handled automatically by placer.\n"
     ]
    }
   ],
   "source": [
    "classifier.add(Dense(units=4,kernel_initializer='he_uniform',activation='relu',input_dim=11))"
   ]
  },
  {
   "cell_type": "markdown",
   "metadata": {},
   "source": [
    "### Add Dropuout Layer"
   ]
  },
  {
   "cell_type": "code",
   "execution_count": 25,
   "metadata": {},
   "outputs": [],
   "source": [
    "#classifier.add(Dropout(0.3))"
   ]
  },
  {
   "cell_type": "markdown",
   "metadata": {},
   "source": [
    "### Second Hidden Layer"
   ]
  },
  {
   "cell_type": "code",
   "execution_count": 26,
   "metadata": {},
   "outputs": [],
   "source": [
    "classifier.add(Dense(units=4,kernel_initializer='he_uniform',activation='relu'))"
   ]
  },
  {
   "cell_type": "markdown",
   "metadata": {},
   "source": [
    "### Add Dropout"
   ]
  },
  {
   "cell_type": "code",
   "execution_count": 27,
   "metadata": {},
   "outputs": [],
   "source": [
    "#classifier.add(Dropout(0.2))"
   ]
  },
  {
   "cell_type": "markdown",
   "metadata": {},
   "source": [
    "### Third Hidden Layer"
   ]
  },
  {
   "cell_type": "code",
   "execution_count": 28,
   "metadata": {},
   "outputs": [],
   "source": [
    "#classifier.add(Dense(units=4,kernel_initializer='he_uniform',activation='relu'))"
   ]
  },
  {
   "cell_type": "markdown",
   "metadata": {},
   "source": [
    "### Output layer"
   ]
  },
  {
   "cell_type": "code",
   "execution_count": 29,
   "metadata": {},
   "outputs": [],
   "source": [
    "classifier.add(Dense(kernel_initializer=\"glorot_uniform\", activation=\"sigmoid\", units=1))"
   ]
  },
  {
   "cell_type": "code",
   "execution_count": 30,
   "metadata": {},
   "outputs": [
    {
     "name": "stdout",
     "output_type": "stream",
     "text": [
      "Model: \"sequential_1\"\n",
      "_________________________________________________________________\n",
      "Layer (type)                 Output Shape              Param #   \n",
      "=================================================================\n",
      "dense_1 (Dense)              (None, 4)                 48        \n",
      "_________________________________________________________________\n",
      "dense_2 (Dense)              (None, 4)                 20        \n",
      "_________________________________________________________________\n",
      "dense_3 (Dense)              (None, 1)                 5         \n",
      "=================================================================\n",
      "Total params: 73\n",
      "Trainable params: 73\n",
      "Non-trainable params: 0\n",
      "_________________________________________________________________\n"
     ]
    }
   ],
   "source": [
    "classifier.summary()"
   ]
  },
  {
   "cell_type": "markdown",
   "metadata": {},
   "source": [
    "### Compiling ANN"
   ]
  },
  {
   "cell_type": "code",
   "execution_count": 31,
   "metadata": {},
   "outputs": [],
   "source": [
    "classifier.compile(optimizer='adam',loss='binary_crossentropy',metrics=['accuracy'])"
   ]
  },
  {
   "cell_type": "markdown",
   "metadata": {},
   "source": [
    "### Fitting ANN to training DataSet"
   ]
  },
  {
   "cell_type": "code",
   "execution_count": 32,
   "metadata": {},
   "outputs": [
    {
     "name": "stdout",
     "output_type": "stream",
     "text": [
      "WARNING:tensorflow:From C:\\Users\\akumar4\\AppData\\Local\\Continuum\\anaconda3\\lib\\site-packages\\tensorflow\\python\\ops\\math_ops.py:3066: to_int32 (from tensorflow.python.ops.math_ops) is deprecated and will be removed in a future version.\n",
      "Instructions for updating:\n",
      "Use tf.cast instead.\n",
      "Train on 5359 samples, validate on 2641 samples\n",
      "Epoch 1/100\n",
      "5359/5359 [==============================] - 1s 107us/step - loss: 2.6551 - accuracy: 0.7962 - val_loss: 2.7088 - val_accuracy: 0.7902\n",
      "Epoch 2/100\n",
      "5359/5359 [==============================] - 0s 86us/step - loss: 2.6192 - accuracy: 0.7972 - val_loss: 2.6837 - val_accuracy: 0.7902\n",
      "Epoch 3/100\n",
      "5359/5359 [==============================] - 0s 81us/step - loss: 2.5989 - accuracy: 0.7972 - val_loss: 2.6699 - val_accuracy: 0.7902\n",
      "Epoch 4/100\n",
      "5359/5359 [==============================] - 0s 84us/step - loss: 2.5877 - accuracy: 0.7972 - val_loss: 2.6625 - val_accuracy: 0.7902\n",
      "Epoch 5/100\n",
      "5359/5359 [==============================] - 0s 80us/step - loss: 2.5816 - accuracy: 0.7972 - val_loss: 2.6589 - val_accuracy: 0.7902\n",
      "Epoch 6/100\n",
      "5359/5359 [==============================] - 0s 82us/step - loss: 2.5784 - accuracy: 0.7972 - val_loss: 2.6569 - val_accuracy: 0.7902\n",
      "Epoch 7/100\n",
      "5359/5359 [==============================] - 0s 83us/step - loss: 2.5767 - accuracy: 0.7972 - val_loss: 2.6561 - val_accuracy: 0.7902\n",
      "Epoch 8/100\n",
      "5359/5359 [==============================] - 0s 84us/step - loss: 2.5758 - accuracy: 0.7972 - val_loss: 2.6558 - val_accuracy: 0.7902\n",
      "Epoch 9/100\n",
      "5359/5359 [==============================] - 0s 82us/step - loss: 2.5755 - accuracy: 0.7972 - val_loss: 2.6556 - val_accuracy: 0.7902\n",
      "Epoch 10/100\n",
      "5359/5359 [==============================] - 0s 83us/step - loss: 2.5753 - accuracy: 0.7972 - val_loss: 2.6556 - val_accuracy: 0.7902\n",
      "Epoch 11/100\n",
      "5359/5359 [==============================] - 0s 85us/step - loss: 2.5752 - accuracy: 0.7972 - val_loss: 2.6556 - val_accuracy: 0.7902\n",
      "Epoch 12/100\n",
      "5359/5359 [==============================] - 0s 83us/step - loss: 2.5751 - accuracy: 0.7972 - val_loss: 2.6556 - val_accuracy: 0.7902\n",
      "Epoch 13/100\n",
      "5359/5359 [==============================] - 0s 82us/step - loss: 2.5751 - accuracy: 0.7972 - val_loss: 2.6556 - val_accuracy: 0.7902\n",
      "Epoch 14/100\n",
      "5359/5359 [==============================] - 0s 82us/step - loss: 2.5751 - accuracy: 0.7972 - val_loss: 2.6556 - val_accuracy: 0.7902\n",
      "Epoch 15/100\n",
      "5359/5359 [==============================] - 0s 89us/step - loss: 2.5751 - accuracy: 0.7972 - val_loss: 2.6556 - val_accuracy: 0.7902\n",
      "Epoch 16/100\n",
      "5359/5359 [==============================] - 0s 85us/step - loss: 2.5751 - accuracy: 0.7972 - val_loss: 2.6557 - val_accuracy: 0.7902\n",
      "Epoch 17/100\n",
      "5359/5359 [==============================] - 0s 85us/step - loss: 2.5751 - accuracy: 0.7972 - val_loss: 2.6557 - val_accuracy: 0.7902\n",
      "Epoch 18/100\n",
      "5359/5359 [==============================] - 0s 86us/step - loss: 2.5751 - accuracy: 0.7972 - val_loss: 2.6557 - val_accuracy: 0.7902\n",
      "Epoch 19/100\n",
      "5359/5359 [==============================] - 0s 82us/step - loss: 2.5751 - accuracy: 0.7972 - val_loss: 2.6557 - val_accuracy: 0.7902\n",
      "Epoch 20/100\n",
      "5359/5359 [==============================] - 0s 84us/step - loss: 2.5751 - accuracy: 0.7972 - val_loss: 2.6557 - val_accuracy: 0.7902\n",
      "Epoch 21/100\n",
      "5359/5359 [==============================] - 0s 81us/step - loss: 2.5751 - accuracy: 0.7972 - val_loss: 2.6557 - val_accuracy: 0.7902\n",
      "Epoch 22/100\n",
      "5359/5359 [==============================] - 0s 82us/step - loss: 2.5751 - accuracy: 0.7972 - val_loss: 2.6557 - val_accuracy: 0.7902\n",
      "Epoch 23/100\n",
      "5359/5359 [==============================] - 0s 81us/step - loss: 2.5751 - accuracy: 0.7972 - val_loss: 2.6557 - val_accuracy: 0.7902\n",
      "Epoch 24/100\n",
      "5359/5359 [==============================] - 0s 81us/step - loss: 2.5751 - accuracy: 0.7972 - val_loss: 2.6557 - val_accuracy: 0.7902\n",
      "Epoch 25/100\n",
      "5359/5359 [==============================] - 0s 83us/step - loss: 2.5751 - accuracy: 0.7972 - val_loss: 2.6557 - val_accuracy: 0.7902\n",
      "Epoch 26/100\n",
      "5359/5359 [==============================] - 0s 82us/step - loss: 2.5751 - accuracy: 0.7972 - val_loss: 2.6557 - val_accuracy: 0.7902\n",
      "Epoch 27/100\n",
      "5359/5359 [==============================] - 0s 86us/step - loss: 2.5751 - accuracy: 0.7972 - val_loss: 2.6557 - val_accuracy: 0.7902\n",
      "Epoch 28/100\n",
      "5359/5359 [==============================] - 0s 82us/step - loss: 2.5751 - accuracy: 0.7972 - val_loss: 2.6557 - val_accuracy: 0.7902\n",
      "Epoch 29/100\n",
      "5359/5359 [==============================] - 0s 82us/step - loss: 2.5751 - accuracy: 0.7972 - val_loss: 2.6557 - val_accuracy: 0.7902\n",
      "Epoch 30/100\n",
      "5359/5359 [==============================] - 0s 80us/step - loss: 2.5751 - accuracy: 0.7972 - val_loss: 2.6557 - val_accuracy: 0.7902\n",
      "Epoch 31/100\n",
      "5359/5359 [==============================] - 0s 83us/step - loss: 2.5751 - accuracy: 0.7972 - val_loss: 2.6557 - val_accuracy: 0.7902\n",
      "Epoch 32/100\n",
      "5359/5359 [==============================] - 0s 81us/step - loss: 2.5751 - accuracy: 0.7972 - val_loss: 2.6557 - val_accuracy: 0.7902\n",
      "Epoch 33/100\n",
      "5359/5359 [==============================] - 0s 81us/step - loss: 2.5751 - accuracy: 0.7972 - val_loss: 2.6557 - val_accuracy: 0.7902\n",
      "Epoch 34/100\n",
      "5359/5359 [==============================] - 0s 81us/step - loss: 2.5751 - accuracy: 0.7972 - val_loss: 2.6557 - val_accuracy: 0.7902\n",
      "Epoch 35/100\n",
      "5359/5359 [==============================] - 0s 81us/step - loss: 2.5751 - accuracy: 0.7972 - val_loss: 2.6557 - val_accuracy: 0.7902\n",
      "Epoch 36/100\n",
      "5359/5359 [==============================] - 0s 81us/step - loss: 2.5751 - accuracy: 0.7972 - val_loss: 2.6557 - val_accuracy: 0.7902\n",
      "Epoch 37/100\n",
      "5359/5359 [==============================] - 0s 82us/step - loss: 2.5751 - accuracy: 0.7972 - val_loss: 2.6557 - val_accuracy: 0.7902\n",
      "Epoch 38/100\n",
      "5359/5359 [==============================] - 0s 82us/step - loss: 2.5751 - accuracy: 0.7972 - val_loss: 2.6557 - val_accuracy: 0.7902\n",
      "Epoch 39/100\n",
      "5359/5359 [==============================] - 0s 82us/step - loss: 2.5751 - accuracy: 0.7972 - val_loss: 2.6557 - val_accuracy: 0.7902\n",
      "Epoch 40/100\n",
      "5359/5359 [==============================] - 0s 82us/step - loss: 2.5751 - accuracy: 0.7972 - val_loss: 2.6557 - val_accuracy: 0.7902\n",
      "Epoch 41/100\n",
      "5359/5359 [==============================] - 0s 83us/step - loss: 2.5751 - accuracy: 0.7972 - val_loss: 2.6557 - val_accuracy: 0.7902\n",
      "Epoch 42/100\n",
      "5359/5359 [==============================] - 0s 81us/step - loss: 2.5751 - accuracy: 0.7972 - val_loss: 2.6557 - val_accuracy: 0.7902\n",
      "Epoch 43/100\n",
      "5359/5359 [==============================] - 0s 81us/step - loss: 2.5751 - accuracy: 0.7972 - val_loss: 2.6557 - val_accuracy: 0.7902\n",
      "Epoch 44/100\n",
      "5359/5359 [==============================] - 0s 81us/step - loss: 2.5751 - accuracy: 0.7972 - val_loss: 2.6557 - val_accuracy: 0.7902\n",
      "Epoch 45/100\n",
      "5359/5359 [==============================] - 0s 84us/step - loss: 2.5751 - accuracy: 0.7972 - val_loss: 2.6557 - val_accuracy: 0.7902\n",
      "Epoch 46/100\n",
      "5359/5359 [==============================] - 0s 82us/step - loss: 2.5751 - accuracy: 0.7972 - val_loss: 2.6557 - val_accuracy: 0.7902\n",
      "Epoch 47/100\n",
      "5359/5359 [==============================] - 0s 80us/step - loss: 2.5751 - accuracy: 0.7972 - val_loss: 2.6557 - val_accuracy: 0.7902\n",
      "Epoch 48/100\n",
      "5359/5359 [==============================] - 0s 81us/step - loss: 2.5751 - accuracy: 0.7972 - val_loss: 2.6557 - val_accuracy: 0.7902\n",
      "Epoch 49/100\n",
      "5359/5359 [==============================] - 0s 81us/step - loss: 2.5751 - accuracy: 0.7972 - val_loss: 2.6557 - val_accuracy: 0.7902\n",
      "Epoch 50/100\n",
      "5359/5359 [==============================] - 0s 81us/step - loss: 2.5751 - accuracy: 0.7972 - val_loss: 2.6557 - val_accuracy: 0.7902\n",
      "Epoch 51/100\n",
      "5359/5359 [==============================] - 0s 82us/step - loss: 2.5751 - accuracy: 0.7972 - val_loss: 2.6557 - val_accuracy: 0.7902\n",
      "Epoch 52/100\n",
      "5359/5359 [==============================] - 0s 81us/step - loss: 2.5751 - accuracy: 0.7972 - val_loss: 2.6557 - val_accuracy: 0.7902\n",
      "Epoch 53/100\n",
      "5359/5359 [==============================] - 0s 81us/step - loss: 2.5751 - accuracy: 0.7972 - val_loss: 2.6557 - val_accuracy: 0.7902\n",
      "Epoch 54/100\n",
      "5359/5359 [==============================] - 0s 80us/step - loss: 2.5751 - accuracy: 0.7972 - val_loss: 2.6557 - val_accuracy: 0.7902\n",
      "Epoch 55/100\n",
      "5359/5359 [==============================] - 0s 81us/step - loss: 2.5751 - accuracy: 0.7972 - val_loss: 2.6557 - val_accuracy: 0.7902\n",
      "Epoch 56/100\n",
      "5359/5359 [==============================] - 0s 80us/step - loss: 2.5751 - accuracy: 0.7972 - val_loss: 2.6557 - val_accuracy: 0.7902\n",
      "Epoch 57/100\n",
      "5359/5359 [==============================] - 0s 82us/step - loss: 2.5751 - accuracy: 0.7972 - val_loss: 2.6557 - val_accuracy: 0.7902\n",
      "Epoch 58/100\n",
      "5359/5359 [==============================] - 0s 80us/step - loss: 2.5751 - accuracy: 0.7972 - val_loss: 2.6557 - val_accuracy: 0.7902\n",
      "Epoch 59/100\n",
      "5359/5359 [==============================] - 0s 82us/step - loss: 2.5751 - accuracy: 0.7972 - val_loss: 2.6557 - val_accuracy: 0.7902\n",
      "Epoch 60/100\n",
      "5359/5359 [==============================] - 0s 81us/step - loss: 2.5751 - accuracy: 0.7972 - val_loss: 2.6557 - val_accuracy: 0.7902\n",
      "Epoch 61/100\n",
      "5359/5359 [==============================] - 0s 82us/step - loss: 2.5751 - accuracy: 0.7972 - val_loss: 2.6557 - val_accuracy: 0.7902\n",
      "Epoch 62/100\n",
      "5359/5359 [==============================] - 0s 81us/step - loss: 2.5751 - accuracy: 0.7972 - val_loss: 2.6557 - val_accuracy: 0.7902\n",
      "Epoch 63/100\n",
      "5359/5359 [==============================] - 0s 82us/step - loss: 2.5751 - accuracy: 0.7972 - val_loss: 2.6557 - val_accuracy: 0.7902\n",
      "Epoch 64/100\n",
      "5359/5359 [==============================] - 0s 81us/step - loss: 2.5751 - accuracy: 0.7972 - val_loss: 2.6557 - val_accuracy: 0.7902\n",
      "Epoch 65/100\n",
      "5359/5359 [==============================] - 0s 81us/step - loss: 2.5751 - accuracy: 0.7972 - val_loss: 2.6557 - val_accuracy: 0.7902\n",
      "Epoch 66/100\n",
      "5359/5359 [==============================] - 0s 82us/step - loss: 2.5751 - accuracy: 0.7972 - val_loss: 2.6557 - val_accuracy: 0.7902\n",
      "Epoch 67/100\n",
      "5359/5359 [==============================] - 0s 81us/step - loss: 2.5751 - accuracy: 0.7972 - val_loss: 2.6557 - val_accuracy: 0.7902\n",
      "Epoch 68/100\n",
      "5359/5359 [==============================] - 0s 81us/step - loss: 2.5751 - accuracy: 0.7972 - val_loss: 2.6557 - val_accuracy: 0.7902\n",
      "Epoch 69/100\n",
      "5359/5359 [==============================] - 0s 81us/step - loss: 2.5751 - accuracy: 0.7972 - val_loss: 2.6557 - val_accuracy: 0.7902\n",
      "Epoch 70/100\n",
      "5359/5359 [==============================] - 0s 81us/step - loss: 2.5751 - accuracy: 0.7972 - val_loss: 2.6557 - val_accuracy: 0.7902\n",
      "Epoch 71/100\n",
      "5359/5359 [==============================] - 0s 81us/step - loss: 2.5751 - accuracy: 0.7972 - val_loss: 2.6557 - val_accuracy: 0.7902\n",
      "Epoch 72/100\n",
      "5359/5359 [==============================] - 0s 81us/step - loss: 2.5750 - accuracy: 0.7972 - val_loss: 2.6557 - val_accuracy: 0.7902\n",
      "Epoch 73/100\n",
      "5359/5359 [==============================] - 0s 82us/step - loss: 2.5751 - accuracy: 0.7972 - val_loss: 2.6557 - val_accuracy: 0.7902\n",
      "Epoch 74/100\n",
      "5359/5359 [==============================] - 0s 82us/step - loss: 2.5751 - accuracy: 0.7972 - val_loss: 2.6557 - val_accuracy: 0.7902\n",
      "Epoch 75/100\n",
      "5359/5359 [==============================] - 0s 82us/step - loss: 2.5751 - accuracy: 0.7972 - val_loss: 2.6557 - val_accuracy: 0.7902\n",
      "Epoch 76/100\n",
      "5359/5359 [==============================] - 0s 81us/step - loss: 2.5751 - accuracy: 0.7972 - val_loss: 2.6557 - val_accuracy: 0.7902\n",
      "Epoch 77/100\n",
      "5359/5359 [==============================] - 0s 81us/step - loss: 2.5751 - accuracy: 0.7972 - val_loss: 2.6557 - val_accuracy: 0.7902\n",
      "Epoch 78/100\n",
      "5359/5359 [==============================] - 0s 80us/step - loss: 2.5751 - accuracy: 0.7972 - val_loss: 2.6557 - val_accuracy: 0.7902\n",
      "Epoch 79/100\n",
      "5359/5359 [==============================] - 0s 81us/step - loss: 2.5751 - accuracy: 0.7972 - val_loss: 2.6557 - val_accuracy: 0.7902\n",
      "Epoch 80/100\n",
      "5359/5359 [==============================] - 0s 82us/step - loss: 2.5751 - accuracy: 0.7972 - val_loss: 2.6557 - val_accuracy: 0.7902\n",
      "Epoch 81/100\n",
      "5359/5359 [==============================] - 0s 81us/step - loss: 2.5751 - accuracy: 0.7972 - val_loss: 2.6557 - val_accuracy: 0.7902\n",
      "Epoch 82/100\n",
      "5359/5359 [==============================] - 0s 82us/step - loss: 2.5751 - accuracy: 0.7972 - val_loss: 2.6557 - val_accuracy: 0.7902\n",
      "Epoch 83/100\n",
      "5359/5359 [==============================] - 0s 81us/step - loss: 2.5751 - accuracy: 0.7972 - val_loss: 2.6557 - val_accuracy: 0.7902\n",
      "Epoch 84/100\n",
      "5359/5359 [==============================] - 0s 81us/step - loss: 2.5751 - accuracy: 0.7972 - val_loss: 2.6557 - val_accuracy: 0.7902\n",
      "Epoch 85/100\n",
      "5359/5359 [==============================] - 0s 81us/step - loss: 2.5751 - accuracy: 0.7972 - val_loss: 2.6557 - val_accuracy: 0.7902\n",
      "Epoch 86/100\n",
      "5359/5359 [==============================] - 0s 83us/step - loss: 2.5751 - accuracy: 0.7972 - val_loss: 2.6557 - val_accuracy: 0.7902\n",
      "Epoch 87/100\n",
      "5359/5359 [==============================] - 0s 81us/step - loss: 2.5751 - accuracy: 0.7972 - val_loss: 2.6557 - val_accuracy: 0.7902\n",
      "Epoch 88/100\n",
      "5359/5359 [==============================] - 0s 81us/step - loss: 2.5751 - accuracy: 0.7972 - val_loss: 2.6557 - val_accuracy: 0.7902\n",
      "Epoch 89/100\n",
      "5359/5359 [==============================] - 0s 87us/step - loss: 2.5751 - accuracy: 0.7972 - val_loss: 2.6557 - val_accuracy: 0.7902\n",
      "Epoch 90/100\n",
      "5359/5359 [==============================] - 0s 86us/step - loss: 2.5751 - accuracy: 0.7972 - val_loss: 2.6557 - val_accuracy: 0.7902\n",
      "Epoch 91/100\n",
      "5359/5359 [==============================] - 0s 84us/step - loss: 2.5751 - accuracy: 0.7972 - val_loss: 2.6557 - val_accuracy: 0.7902\n",
      "Epoch 92/100\n",
      "5359/5359 [==============================] - 0s 86us/step - loss: 2.5751 - accuracy: 0.7972 - val_loss: 2.6557 - val_accuracy: 0.7902\n",
      "Epoch 93/100\n",
      "5359/5359 [==============================] - 0s 84us/step - loss: 2.5751 - accuracy: 0.7972 - val_loss: 2.6557 - val_accuracy: 0.7902\n",
      "Epoch 94/100\n",
      "5359/5359 [==============================] - 0s 83us/step - loss: 2.5751 - accuracy: 0.7972 - val_loss: 2.6557 - val_accuracy: 0.7902\n",
      "Epoch 95/100\n",
      "5359/5359 [==============================] - 0s 83us/step - loss: 2.5751 - accuracy: 0.7972 - val_loss: 2.6557 - val_accuracy: 0.7902\n",
      "Epoch 96/100\n",
      "5359/5359 [==============================] - 0s 82us/step - loss: 2.5751 - accuracy: 0.7972 - val_loss: 2.6557 - val_accuracy: 0.7902\n",
      "Epoch 97/100\n",
      "5359/5359 [==============================] - 0s 85us/step - loss: 2.5751 - accuracy: 0.7972 - val_loss: 2.6557 - val_accuracy: 0.7902\n",
      "Epoch 98/100\n",
      "5359/5359 [==============================] - 0s 87us/step - loss: 2.5751 - accuracy: 0.7972 - val_loss: 2.6557 - val_accuracy: 0.7902\n",
      "Epoch 99/100\n",
      "5359/5359 [==============================] - 0s 82us/step - loss: 2.5751 - accuracy: 0.7972 - val_loss: 2.6557 - val_accuracy: 0.7902\n",
      "Epoch 100/100\n",
      "5359/5359 [==============================] - ETA: 0s - loss: 2.5888 - accuracy: 0.79 - 0s 83us/step - loss: 2.5751 - accuracy: 0.7972 - val_loss: 2.6557 - val_accuracy: 0.7902\n"
     ]
    }
   ],
   "source": [
    "model_history=classifier.fit(X_train,y_train,validation_split=0.33,batch_size=10,epochs=100)"
   ]
  },
  {
   "cell_type": "code",
   "execution_count": 33,
   "metadata": {},
   "outputs": [
    {
     "name": "stdout",
     "output_type": "stream",
     "text": [
      "dict_keys(['val_loss', 'val_accuracy', 'loss', 'accuracy'])\n"
     ]
    }
   ],
   "source": [
    "print(model_history.history.keys())"
   ]
  },
  {
   "cell_type": "markdown",
   "metadata": {},
   "source": [
    "### Validate with test Data"
   ]
  },
  {
   "cell_type": "code",
   "execution_count": 34,
   "metadata": {},
   "outputs": [],
   "source": [
    "# Predicting the Test set results\n",
    "y_pred=classifier.predict(X_test)"
   ]
  },
  {
   "cell_type": "code",
   "execution_count": 35,
   "metadata": {},
   "outputs": [],
   "source": [
    "y_pred=(y_pred>0.2)"
   ]
  },
  {
   "cell_type": "code",
   "execution_count": 36,
   "metadata": {},
   "outputs": [],
   "source": [
    "from sklearn.metrics import confusion_matrix,accuracy_score"
   ]
  },
  {
   "cell_type": "code",
   "execution_count": 37,
   "metadata": {},
   "outputs": [
    {
     "data": {
      "text/plain": [
       "array([[1604,    0],\n",
       "       [ 396,    0]], dtype=int64)"
      ]
     },
     "execution_count": 37,
     "metadata": {},
     "output_type": "execute_result"
    }
   ],
   "source": [
    "confusion_matrix(y_test,y_pred)"
   ]
  },
  {
   "cell_type": "code",
   "execution_count": 38,
   "metadata": {},
   "outputs": [
    {
     "data": {
      "text/plain": [
       "0.802"
      ]
     },
     "execution_count": 38,
     "metadata": {},
     "output_type": "execute_result"
    }
   ],
   "source": [
    "accuracy_score(y_test,y_pred)"
   ]
  },
  {
   "cell_type": "markdown",
   "metadata": {},
   "source": [
    "### summarize history for loss"
   ]
  },
  {
   "cell_type": "code",
   "execution_count": 39,
   "metadata": {},
   "outputs": [
    {
     "data": {
      "image/png": "[encoded data removed]",
      "text/plain": [
       "<Figure size 432x288 with 1 Axes>"
      ]
     },
     "metadata": {
      "needs_background": "light"
     },
     "output_type": "display_data"
    }
   ],
   "source": [
    "plt.plot(model_history.history['loss'])\n",
    "plt.plot(model_history.history['val_loss'])\n",
    "plt.xlabel('Epoc')\n",
    "plt.ylabel('Loss')\n",
    "plt.title('Model Loss')\n",
    "plt.legend(['train','test'],loc='upper left')\n",
    "plt.show()"
   ]
  },
  {
   "cell_type": "code",
   "execution_count": null,
   "metadata": {},
   "outputs": [],
   "source": []
  }
 ],
 "metadata": {
  "kernelspec": {
   "display_name": "Python 3",
   "language": "python",
   "name": "python3"
  },
  "language_info": {
   "codemirror_mode": {
    "name": "ipython",
    "version": 3
   },
   "file_extension": ".py",
   "mimetype": "text/x-python",
   "name": "python",
   "nbconvert_exporter": "python",
   "pygments_lexer": "ipython3",
   "version": "3.7.3"
  }
 },
 "nbformat": 4,
 "nbformat_minor": 4
}
