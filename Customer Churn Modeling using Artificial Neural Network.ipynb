{
 "cells": [
  {
   "cell_type": "code",
   "execution_count": 1,
   "metadata": {},
   "outputs": [
    {
     "name": "stderr",
     "output_type": "stream",
     "text": [
      "Using TensorFlow backend.\n"
     ]
    }
   ],
   "source": [
    "import pandas as pd\n",
    "import numpy as np\n",
    "import matplotlib.pyplot as plt\n",
    "from sklearn.model_selection import train_test_split\n",
    "from keras.models import Sequential\n",
    "from keras.layers import Dropout\n",
    "import keras\n",
    "from keras.wrappers.scikit_learn import KerasClassifier\n",
    "from sklearn.model_selection import GridSearchCV\n",
    "from keras.layers import Dense,Activation,LeakyReLU,Embedding,Flatten\n",
    "from keras.activations import sigmoid,relu"
   ]
  },
  {
   "cell_type": "code",
   "execution_count": 2,
   "metadata": {},
   "outputs": [],
   "source": [
    "ds=pd.read_csv('../Churn_Modelling.csv')"
   ]
  },
  {
   "cell_type": "code",
   "execution_count": 3,
   "metadata": {},
   "outputs": [
    {
     "data": {
      "text/html": [
       "<div>\n",
       "<style scoped>\n",
       "    .dataframe tbody tr th:only-of-type {\n",
       "        vertical-align: middle;\n",
       "    }\n",
       "\n",
       "    .dataframe tbody tr th {\n",
       "        vertical-align: top;\n",
       "    }\n",
       "\n",
       "    .dataframe thead th {\n",
       "        text-align: right;\n",
       "    }\n",
       "</style>\n",
       "<table border=\"1\" class=\"dataframe\">\n",
       "  <thead>\n",
       "    <tr style=\"text-align: right;\">\n",
       "      <th></th>\n",
       "      <th>RowNumber</th>\n",
       "      <th>CustomerId</th>\n",
       "      <th>Surname</th>\n",
       "      <th>CreditScore</th>\n",
       "      <th>Geography</th>\n",
       "      <th>Gender</th>\n",
       "      <th>Age</th>\n",
       "      <th>Tenure</th>\n",
       "      <th>Balance</th>\n",
       "      <th>NumOfProducts</th>\n",
       "      <th>HasCrCard</th>\n",
       "      <th>IsActiveMember</th>\n",
       "      <th>EstimatedSalary</th>\n",
       "      <th>Exited</th>\n",
       "    </tr>\n",
       "  </thead>\n",
       "  <tbody>\n",
       "    <tr>\n",
       "      <th>0</th>\n",
       "      <td>1</td>\n",
       "      <td>15634602</td>\n",
       "      <td>Hargrave</td>\n",
       "      <td>619</td>\n",
       "      <td>France</td>\n",
       "      <td>Female</td>\n",
       "      <td>42</td>\n",
       "      <td>2</td>\n",
       "      <td>0.00</td>\n",
       "      <td>1</td>\n",
       "      <td>1</td>\n",
       "      <td>1</td>\n",
       "      <td>101348.88</td>\n",
       "      <td>1</td>\n",
       "    </tr>\n",
       "    <tr>\n",
       "      <th>1</th>\n",
       "      <td>2</td>\n",
       "      <td>15647311</td>\n",
       "      <td>Hill</td>\n",
       "      <td>608</td>\n",
       "      <td>Spain</td>\n",
       "      <td>Female</td>\n",
       "      <td>41</td>\n",
       "      <td>1</td>\n",
       "      <td>83807.86</td>\n",
       "      <td>1</td>\n",
       "      <td>0</td>\n",
       "      <td>1</td>\n",
       "      <td>112542.58</td>\n",
       "      <td>0</td>\n",
       "    </tr>\n",
       "    <tr>\n",
       "      <th>2</th>\n",
       "      <td>3</td>\n",
       "      <td>15619304</td>\n",
       "      <td>Onio</td>\n",
       "      <td>502</td>\n",
       "      <td>France</td>\n",
       "      <td>Female</td>\n",
       "      <td>42</td>\n",
       "      <td>8</td>\n",
       "      <td>159660.80</td>\n",
       "      <td>3</td>\n",
       "      <td>1</td>\n",
       "      <td>0</td>\n",
       "      <td>113931.57</td>\n",
       "      <td>1</td>\n",
       "    </tr>\n",
       "    <tr>\n",
       "      <th>3</th>\n",
       "      <td>4</td>\n",
       "      <td>15701354</td>\n",
       "      <td>Boni</td>\n",
       "      <td>699</td>\n",
       "      <td>France</td>\n",
       "      <td>Female</td>\n",
       "      <td>39</td>\n",
       "      <td>1</td>\n",
       "      <td>0.00</td>\n",
       "      <td>2</td>\n",
       "      <td>0</td>\n",
       "      <td>0</td>\n",
       "      <td>93826.63</td>\n",
       "      <td>0</td>\n",
       "    </tr>\n",
       "    <tr>\n",
       "      <th>4</th>\n",
       "      <td>5</td>\n",
       "      <td>15737888</td>\n",
       "      <td>Mitchell</td>\n",
       "      <td>850</td>\n",
       "      <td>Spain</td>\n",
       "      <td>Female</td>\n",
       "      <td>43</td>\n",
       "      <td>2</td>\n",
       "      <td>125510.82</td>\n",
       "      <td>1</td>\n",
       "      <td>1</td>\n",
       "      <td>1</td>\n",
       "      <td>79084.10</td>\n",
       "      <td>0</td>\n",
       "    </tr>\n",
       "  </tbody>\n",
       "</table>\n",
       "</div>"
      ],
      "text/plain": [
       "   RowNumber  CustomerId   Surname  CreditScore Geography  Gender  Age  \\\n",
       "0          1    15634602  Hargrave          619    France  Female   42   \n",
       "1          2    15647311      Hill          608     Spain  Female   41   \n",
       "2          3    15619304      Onio          502    France  Female   42   \n",
       "3          4    15701354      Boni          699    France  Female   39   \n",
       "4          5    15737888  Mitchell          850     Spain  Female   43   \n",
       "\n",
       "   Tenure    Balance  NumOfProducts  HasCrCard  IsActiveMember  \\\n",
       "0       2       0.00              1          1               1   \n",
       "1       1   83807.86              1          0               1   \n",
       "2       8  159660.80              3          1               0   \n",
       "3       1       0.00              2          0               0   \n",
       "4       2  125510.82              1          1               1   \n",
       "\n",
       "   EstimatedSalary  Exited  \n",
       "0        101348.88       1  \n",
       "1        112542.58       0  \n",
       "2        113931.57       1  \n",
       "3         93826.63       0  \n",
       "4         79084.10       0  "
      ]
     },
     "execution_count": 3,
     "metadata": {},
     "output_type": "execute_result"
    }
   ],
   "source": [
    "ds.head()"
   ]
  },
  {
   "cell_type": "code",
   "execution_count": 4,
   "metadata": {},
   "outputs": [],
   "source": [
    "X=ds.iloc[:,3:-1]"
   ]
  },
  {
   "cell_type": "code",
   "execution_count": 5,
   "metadata": {},
   "outputs": [
    {
     "data": {
      "text/html": [
       "<div>\n",
       "<style scoped>\n",
       "    .dataframe tbody tr th:only-of-type {\n",
       "        vertical-align: middle;\n",
       "    }\n",
       "\n",
       "    .dataframe tbody tr th {\n",
       "        vertical-align: top;\n",
       "    }\n",
       "\n",
       "    .dataframe thead th {\n",
       "        text-align: right;\n",
       "    }\n",
       "</style>\n",
       "<table border=\"1\" class=\"dataframe\">\n",
       "  <thead>\n",
       "    <tr style=\"text-align: right;\">\n",
       "      <th></th>\n",
       "      <th>CreditScore</th>\n",
       "      <th>Geography</th>\n",
       "      <th>Gender</th>\n",
       "      <th>Age</th>\n",
       "      <th>Tenure</th>\n",
       "      <th>Balance</th>\n",
       "      <th>NumOfProducts</th>\n",
       "      <th>HasCrCard</th>\n",
       "      <th>IsActiveMember</th>\n",
       "      <th>EstimatedSalary</th>\n",
       "    </tr>\n",
       "  </thead>\n",
       "  <tbody>\n",
       "    <tr>\n",
       "      <th>0</th>\n",
       "      <td>619</td>\n",
       "      <td>France</td>\n",
       "      <td>Female</td>\n",
       "      <td>42</td>\n",
       "      <td>2</td>\n",
       "      <td>0.00</td>\n",
       "      <td>1</td>\n",
       "      <td>1</td>\n",
       "      <td>1</td>\n",
       "      <td>101348.88</td>\n",
       "    </tr>\n",
       "    <tr>\n",
       "      <th>1</th>\n",
       "      <td>608</td>\n",
       "      <td>Spain</td>\n",
       "      <td>Female</td>\n",
       "      <td>41</td>\n",
       "      <td>1</td>\n",
       "      <td>83807.86</td>\n",
       "      <td>1</td>\n",
       "      <td>0</td>\n",
       "      <td>1</td>\n",
       "      <td>112542.58</td>\n",
       "    </tr>\n",
       "    <tr>\n",
       "      <th>2</th>\n",
       "      <td>502</td>\n",
       "      <td>France</td>\n",
       "      <td>Female</td>\n",
       "      <td>42</td>\n",
       "      <td>8</td>\n",
       "      <td>159660.80</td>\n",
       "      <td>3</td>\n",
       "      <td>1</td>\n",
       "      <td>0</td>\n",
       "      <td>113931.57</td>\n",
       "    </tr>\n",
       "    <tr>\n",
       "      <th>3</th>\n",
       "      <td>699</td>\n",
       "      <td>France</td>\n",
       "      <td>Female</td>\n",
       "      <td>39</td>\n",
       "      <td>1</td>\n",
       "      <td>0.00</td>\n",
       "      <td>2</td>\n",
       "      <td>0</td>\n",
       "      <td>0</td>\n",
       "      <td>93826.63</td>\n",
       "    </tr>\n",
       "    <tr>\n",
       "      <th>4</th>\n",
       "      <td>850</td>\n",
       "      <td>Spain</td>\n",
       "      <td>Female</td>\n",
       "      <td>43</td>\n",
       "      <td>2</td>\n",
       "      <td>125510.82</td>\n",
       "      <td>1</td>\n",
       "      <td>1</td>\n",
       "      <td>1</td>\n",
       "      <td>79084.10</td>\n",
       "    </tr>\n",
       "  </tbody>\n",
       "</table>\n",
       "</div>"
      ],
      "text/plain": [
       "   CreditScore Geography  Gender  Age  Tenure    Balance  NumOfProducts  \\\n",
       "0          619    France  Female   42       2       0.00              1   \n",
       "1          608     Spain  Female   41       1   83807.86              1   \n",
       "2          502    France  Female   42       8  159660.80              3   \n",
       "3          699    France  Female   39       1       0.00              2   \n",
       "4          850     Spain  Female   43       2  125510.82              1   \n",
       "\n",
       "   HasCrCard  IsActiveMember  EstimatedSalary  \n",
       "0          1               1        101348.88  \n",
       "1          0               1        112542.58  \n",
       "2          1               0        113931.57  \n",
       "3          0               0         93826.63  \n",
       "4          1               1         79084.10  "
      ]
     },
     "execution_count": 5,
     "metadata": {},
     "output_type": "execute_result"
    }
   ],
   "source": [
    "X.head()"
   ]
  },
  {
   "cell_type": "code",
   "execution_count": 6,
   "metadata": {},
   "outputs": [],
   "source": [
    "y=ds.iloc[:,-1]"
   ]
  },
  {
   "cell_type": "code",
   "execution_count": 7,
   "metadata": {},
   "outputs": [
    {
     "data": {
      "text/plain": [
       "0       1\n",
       "1       0\n",
       "2       1\n",
       "3       0\n",
       "4       0\n",
       "       ..\n",
       "9995    0\n",
       "9996    0\n",
       "9997    1\n",
       "9998    1\n",
       "9999    0\n",
       "Name: Exited, Length: 10000, dtype: int64"
      ]
     },
     "execution_count": 7,
     "metadata": {},
     "output_type": "execute_result"
    }
   ],
   "source": [
    "y"
   ]
  },
  {
   "cell_type": "markdown",
   "metadata": {},
   "source": [
    "### Handle Categorical Variables"
   ]
  },
  {
   "cell_type": "code",
   "execution_count": 8,
   "metadata": {},
   "outputs": [],
   "source": [
    "geography=pd.get_dummies(X['Geography'],drop_first=True)"
   ]
  },
  {
   "cell_type": "code",
   "execution_count": 9,
   "metadata": {},
   "outputs": [],
   "source": [
    "gender=pd.get_dummies(X['Gender'],drop_first=True)"
   ]
  },
  {
   "cell_type": "code",
   "execution_count": 10,
   "metadata": {},
   "outputs": [
    {
     "data": {
      "text/html": [
       "<div>\n",
       "<style scoped>\n",
       "    .dataframe tbody tr th:only-of-type {\n",
       "        vertical-align: middle;\n",
       "    }\n",
       "\n",
       "    .dataframe tbody tr th {\n",
       "        vertical-align: top;\n",
       "    }\n",
       "\n",
       "    .dataframe thead th {\n",
       "        text-align: right;\n",
       "    }\n",
       "</style>\n",
       "<table border=\"1\" class=\"dataframe\">\n",
       "  <thead>\n",
       "    <tr style=\"text-align: right;\">\n",
       "      <th></th>\n",
       "      <th>Germany</th>\n",
       "      <th>Spain</th>\n",
       "    </tr>\n",
       "  </thead>\n",
       "  <tbody>\n",
       "    <tr>\n",
       "      <th>0</th>\n",
       "      <td>0</td>\n",
       "      <td>0</td>\n",
       "    </tr>\n",
       "    <tr>\n",
       "      <th>1</th>\n",
       "      <td>0</td>\n",
       "      <td>1</td>\n",
       "    </tr>\n",
       "    <tr>\n",
       "      <th>2</th>\n",
       "      <td>0</td>\n",
       "      <td>0</td>\n",
       "    </tr>\n",
       "    <tr>\n",
       "      <th>3</th>\n",
       "      <td>0</td>\n",
       "      <td>0</td>\n",
       "    </tr>\n",
       "    <tr>\n",
       "      <th>4</th>\n",
       "      <td>0</td>\n",
       "      <td>1</td>\n",
       "    </tr>\n",
       "  </tbody>\n",
       "</table>\n",
       "</div>"
      ],
      "text/plain": [
       "   Germany  Spain\n",
       "0        0      0\n",
       "1        0      1\n",
       "2        0      0\n",
       "3        0      0\n",
       "4        0      1"
      ]
     },
     "execution_count": 10,
     "metadata": {},
     "output_type": "execute_result"
    }
   ],
   "source": [
    "geography.head()"
   ]
  },
  {
   "cell_type": "code",
   "execution_count": 11,
   "metadata": {},
   "outputs": [
    {
     "data": {
      "text/html": [
       "<div>\n",
       "<style scoped>\n",
       "    .dataframe tbody tr th:only-of-type {\n",
       "        vertical-align: middle;\n",
       "    }\n",
       "\n",
       "    .dataframe tbody tr th {\n",
       "        vertical-align: top;\n",
       "    }\n",
       "\n",
       "    .dataframe thead th {\n",
       "        text-align: right;\n",
       "    }\n",
       "</style>\n",
       "<table border=\"1\" class=\"dataframe\">\n",
       "  <thead>\n",
       "    <tr style=\"text-align: right;\">\n",
       "      <th></th>\n",
       "      <th>Male</th>\n",
       "    </tr>\n",
       "  </thead>\n",
       "  <tbody>\n",
       "    <tr>\n",
       "      <th>0</th>\n",
       "      <td>0</td>\n",
       "    </tr>\n",
       "    <tr>\n",
       "      <th>1</th>\n",
       "      <td>0</td>\n",
       "    </tr>\n",
       "    <tr>\n",
       "      <th>2</th>\n",
       "      <td>0</td>\n",
       "    </tr>\n",
       "    <tr>\n",
       "      <th>3</th>\n",
       "      <td>0</td>\n",
       "    </tr>\n",
       "    <tr>\n",
       "      <th>4</th>\n",
       "      <td>0</td>\n",
       "    </tr>\n",
       "  </tbody>\n",
       "</table>\n",
       "</div>"
      ],
      "text/plain": [
       "   Male\n",
       "0     0\n",
       "1     0\n",
       "2     0\n",
       "3     0\n",
       "4     0"
      ]
     },
     "execution_count": 11,
     "metadata": {},
     "output_type": "execute_result"
    }
   ],
   "source": [
    "gender.head()"
   ]
  },
  {
   "cell_type": "markdown",
   "metadata": {},
   "source": [
    "### Concat Variables with main data frame"
   ]
  },
  {
   "cell_type": "code",
   "execution_count": 12,
   "metadata": {},
   "outputs": [],
   "source": [
    "X=pd.concat([X,geography,gender],axis=1)"
   ]
  },
  {
   "cell_type": "code",
   "execution_count": 13,
   "metadata": {},
   "outputs": [
    {
     "data": {
      "text/html": [
       "<div>\n",
       "<style scoped>\n",
       "    .dataframe tbody tr th:only-of-type {\n",
       "        vertical-align: middle;\n",
       "    }\n",
       "\n",
       "    .dataframe tbody tr th {\n",
       "        vertical-align: top;\n",
       "    }\n",
       "\n",
       "    .dataframe thead th {\n",
       "        text-align: right;\n",
       "    }\n",
       "</style>\n",
       "<table border=\"1\" class=\"dataframe\">\n",
       "  <thead>\n",
       "    <tr style=\"text-align: right;\">\n",
       "      <th></th>\n",
       "      <th>CreditScore</th>\n",
       "      <th>Geography</th>\n",
       "      <th>Gender</th>\n",
       "      <th>Age</th>\n",
       "      <th>Tenure</th>\n",
       "      <th>Balance</th>\n",
       "      <th>NumOfProducts</th>\n",
       "      <th>HasCrCard</th>\n",
       "      <th>IsActiveMember</th>\n",
       "      <th>EstimatedSalary</th>\n",
       "      <th>Germany</th>\n",
       "      <th>Spain</th>\n",
       "      <th>Male</th>\n",
       "    </tr>\n",
       "  </thead>\n",
       "  <tbody>\n",
       "    <tr>\n",
       "      <th>0</th>\n",
       "      <td>619</td>\n",
       "      <td>France</td>\n",
       "      <td>Female</td>\n",
       "      <td>42</td>\n",
       "      <td>2</td>\n",
       "      <td>0.00</td>\n",
       "      <td>1</td>\n",
       "      <td>1</td>\n",
       "      <td>1</td>\n",
       "      <td>101348.88</td>\n",
       "      <td>0</td>\n",
       "      <td>0</td>\n",
       "      <td>0</td>\n",
       "    </tr>\n",
       "    <tr>\n",
       "      <th>1</th>\n",
       "      <td>608</td>\n",
       "      <td>Spain</td>\n",
       "      <td>Female</td>\n",
       "      <td>41</td>\n",
       "      <td>1</td>\n",
       "      <td>83807.86</td>\n",
       "      <td>1</td>\n",
       "      <td>0</td>\n",
       "      <td>1</td>\n",
       "      <td>112542.58</td>\n",
       "      <td>0</td>\n",
       "      <td>1</td>\n",
       "      <td>0</td>\n",
       "    </tr>\n",
       "    <tr>\n",
       "      <th>2</th>\n",
       "      <td>502</td>\n",
       "      <td>France</td>\n",
       "      <td>Female</td>\n",
       "      <td>42</td>\n",
       "      <td>8</td>\n",
       "      <td>159660.80</td>\n",
       "      <td>3</td>\n",
       "      <td>1</td>\n",
       "      <td>0</td>\n",
       "      <td>113931.57</td>\n",
       "      <td>0</td>\n",
       "      <td>0</td>\n",
       "      <td>0</td>\n",
       "    </tr>\n",
       "    <tr>\n",
       "      <th>3</th>\n",
       "      <td>699</td>\n",
       "      <td>France</td>\n",
       "      <td>Female</td>\n",
       "      <td>39</td>\n",
       "      <td>1</td>\n",
       "      <td>0.00</td>\n",
       "      <td>2</td>\n",
       "      <td>0</td>\n",
       "      <td>0</td>\n",
       "      <td>93826.63</td>\n",
       "      <td>0</td>\n",
       "      <td>0</td>\n",
       "      <td>0</td>\n",
       "    </tr>\n",
       "    <tr>\n",
       "      <th>4</th>\n",
       "      <td>850</td>\n",
       "      <td>Spain</td>\n",
       "      <td>Female</td>\n",
       "      <td>43</td>\n",
       "      <td>2</td>\n",
       "      <td>125510.82</td>\n",
       "      <td>1</td>\n",
       "      <td>1</td>\n",
       "      <td>1</td>\n",
       "      <td>79084.10</td>\n",
       "      <td>0</td>\n",
       "      <td>1</td>\n",
       "      <td>0</td>\n",
       "    </tr>\n",
       "  </tbody>\n",
       "</table>\n",
       "</div>"
      ],
      "text/plain": [
       "   CreditScore Geography  Gender  Age  Tenure    Balance  NumOfProducts  \\\n",
       "0          619    France  Female   42       2       0.00              1   \n",
       "1          608     Spain  Female   41       1   83807.86              1   \n",
       "2          502    France  Female   42       8  159660.80              3   \n",
       "3          699    France  Female   39       1       0.00              2   \n",
       "4          850     Spain  Female   43       2  125510.82              1   \n",
       "\n",
       "   HasCrCard  IsActiveMember  EstimatedSalary  Germany  Spain  Male  \n",
       "0          1               1        101348.88        0      0     0  \n",
       "1          0               1        112542.58        0      1     0  \n",
       "2          1               0        113931.57        0      0     0  \n",
       "3          0               0         93826.63        0      0     0  \n",
       "4          1               1         79084.10        0      1     0  "
      ]
     },
     "execution_count": 13,
     "metadata": {},
     "output_type": "execute_result"
    }
   ],
   "source": [
    "X.head()"
   ]
  },
  {
   "cell_type": "markdown",
   "metadata": {},
   "source": [
    "### Drop Feature Geography & Gender"
   ]
  },
  {
   "cell_type": "code",
   "execution_count": 14,
   "metadata": {},
   "outputs": [],
   "source": [
    "X.drop(columns=['Geography','Gender'],axis=1,inplace=True)"
   ]
  },
  {
   "cell_type": "code",
   "execution_count": 15,
   "metadata": {},
   "outputs": [
    {
     "data": {
      "text/html": [
       "<div>\n",
       "<style scoped>\n",
       "    .dataframe tbody tr th:only-of-type {\n",
       "        vertical-align: middle;\n",
       "    }\n",
       "\n",
       "    .dataframe tbody tr th {\n",
       "        vertical-align: top;\n",
       "    }\n",
       "\n",
       "    .dataframe thead th {\n",
       "        text-align: right;\n",
       "    }\n",
       "</style>\n",
       "<table border=\"1\" class=\"dataframe\">\n",
       "  <thead>\n",
       "    <tr style=\"text-align: right;\">\n",
       "      <th></th>\n",
       "      <th>CreditScore</th>\n",
       "      <th>Age</th>\n",
       "      <th>Tenure</th>\n",
       "      <th>Balance</th>\n",
       "      <th>NumOfProducts</th>\n",
       "      <th>HasCrCard</th>\n",
       "      <th>IsActiveMember</th>\n",
       "      <th>EstimatedSalary</th>\n",
       "      <th>Germany</th>\n",
       "      <th>Spain</th>\n",
       "      <th>Male</th>\n",
       "    </tr>\n",
       "  </thead>\n",
       "  <tbody>\n",
       "    <tr>\n",
       "      <th>0</th>\n",
       "      <td>619</td>\n",
       "      <td>42</td>\n",
       "      <td>2</td>\n",
       "      <td>0.00</td>\n",
       "      <td>1</td>\n",
       "      <td>1</td>\n",
       "      <td>1</td>\n",
       "      <td>101348.88</td>\n",
       "      <td>0</td>\n",
       "      <td>0</td>\n",
       "      <td>0</td>\n",
       "    </tr>\n",
       "    <tr>\n",
       "      <th>1</th>\n",
       "      <td>608</td>\n",
       "      <td>41</td>\n",
       "      <td>1</td>\n",
       "      <td>83807.86</td>\n",
       "      <td>1</td>\n",
       "      <td>0</td>\n",
       "      <td>1</td>\n",
       "      <td>112542.58</td>\n",
       "      <td>0</td>\n",
       "      <td>1</td>\n",
       "      <td>0</td>\n",
       "    </tr>\n",
       "    <tr>\n",
       "      <th>2</th>\n",
       "      <td>502</td>\n",
       "      <td>42</td>\n",
       "      <td>8</td>\n",
       "      <td>159660.80</td>\n",
       "      <td>3</td>\n",
       "      <td>1</td>\n",
       "      <td>0</td>\n",
       "      <td>113931.57</td>\n",
       "      <td>0</td>\n",
       "      <td>0</td>\n",
       "      <td>0</td>\n",
       "    </tr>\n",
       "    <tr>\n",
       "      <th>3</th>\n",
       "      <td>699</td>\n",
       "      <td>39</td>\n",
       "      <td>1</td>\n",
       "      <td>0.00</td>\n",
       "      <td>2</td>\n",
       "      <td>0</td>\n",
       "      <td>0</td>\n",
       "      <td>93826.63</td>\n",
       "      <td>0</td>\n",
       "      <td>0</td>\n",
       "      <td>0</td>\n",
       "    </tr>\n",
       "    <tr>\n",
       "      <th>4</th>\n",
       "      <td>850</td>\n",
       "      <td>43</td>\n",
       "      <td>2</td>\n",
       "      <td>125510.82</td>\n",
       "      <td>1</td>\n",
       "      <td>1</td>\n",
       "      <td>1</td>\n",
       "      <td>79084.10</td>\n",
       "      <td>0</td>\n",
       "      <td>1</td>\n",
       "      <td>0</td>\n",
       "    </tr>\n",
       "  </tbody>\n",
       "</table>\n",
       "</div>"
      ],
      "text/plain": [
       "   CreditScore  Age  Tenure    Balance  NumOfProducts  HasCrCard  \\\n",
       "0          619   42       2       0.00              1          1   \n",
       "1          608   41       1   83807.86              1          0   \n",
       "2          502   42       8  159660.80              3          1   \n",
       "3          699   39       1       0.00              2          0   \n",
       "4          850   43       2  125510.82              1          1   \n",
       "\n",
       "   IsActiveMember  EstimatedSalary  Germany  Spain  Male  \n",
       "0               1        101348.88        0      0     0  \n",
       "1               1        112542.58        0      1     0  \n",
       "2               0        113931.57        0      0     0  \n",
       "3               0         93826.63        0      0     0  \n",
       "4               1         79084.10        0      1     0  "
      ]
     },
     "execution_count": 15,
     "metadata": {},
     "output_type": "execute_result"
    }
   ],
   "source": [
    "X.head()"
   ]
  },
  {
   "cell_type": "markdown",
   "metadata": {},
   "source": [
    "### Train Test Split"
   ]
  },
  {
   "cell_type": "code",
   "execution_count": 16,
   "metadata": {},
   "outputs": [],
   "source": [
    "X_train,X_test,y_train,y_test=train_test_split(X,y,test_size=0.20,random_state=22)"
   ]
  },
  {
   "cell_type": "markdown",
   "metadata": {},
   "source": [
    "### Feature Scaling"
   ]
  },
  {
   "cell_type": "code",
   "execution_count": 17,
   "metadata": {},
   "outputs": [],
   "source": [
    "from sklearn.preprocessing import StandardScaler"
   ]
  },
  {
   "cell_type": "code",
   "execution_count": 18,
   "metadata": {},
   "outputs": [],
   "source": [
    "ss=StandardScaler()"
   ]
  },
  {
   "cell_type": "code",
   "execution_count": 19,
   "metadata": {},
   "outputs": [],
   "source": [
    "X_train=ss.fit_transform(X_train)"
   ]
  },
  {
   "cell_type": "code",
   "execution_count": 20,
   "metadata": {},
   "outputs": [],
   "source": [
    "X_test=ss.transform(X_test)"
   ]
  },
  {
   "cell_type": "code",
   "execution_count": 21,
   "metadata": {},
   "outputs": [],
   "source": [
    "# def create_model(layers, activation):\n",
    "#     model = Sequential()\n",
    "#     for i, nodes in enumerate(layers):\n",
    "#         if i==0:\n",
    "#             model.add(Dense(nodes,input_dim=X_train.shape[1]))\n",
    "#             model.add(Activation(activation))\n",
    "#             model.add(Dropout(0.3))\n",
    "#         else:\n",
    "#             model.add(Dense(nodes))\n",
    "#             model.add(Activation(activation))\n",
    "#             model.add(Dropout(0.3))\n",
    "            \n",
    "#     model.add(Dense(units = 1, kernel_initializer= 'glorot_uniform', activation = 'sigmoid')) # Note: no activation beyond this point\n",
    "    \n",
    "#     model.compile(optimizer='adam', loss='binary_crossentropy',metrics=['accuracy'])\n",
    "#     return model\n",
    "    \n",
    "# model = KerasClassifier(build_fn=create_model, verbose=0)\n",
    "\n"
   ]
  },
  {
   "cell_type": "code",
   "execution_count": 22,
   "metadata": {},
   "outputs": [],
   "source": [
    "# layers = [[20], [40, 20], [45, 30, 15]]\n",
    "# activations = ['sigmoid', 'relu']\n",
    "# param_grid = dict(layers=layers, activation=activations, batch_size = [128, 256], epochs=[30])\n",
    "# grid = GridSearchCV(estimator=model, param_grid=param_grid,cv=5)\n",
    "\n",
    "# grid_result = grid.fit(X_train, y_train)"
   ]
  },
  {
   "cell_type": "markdown",
   "metadata": {},
   "source": [
    "### Lets Start building ANN"
   ]
  },
  {
   "cell_type": "markdown",
   "metadata": {},
   "source": [
    "### Initialize ANN"
   ]
  },
  {
   "cell_type": "code",
   "execution_count": 23,
   "metadata": {},
   "outputs": [],
   "source": [
    "classifier=Sequential()"
   ]
  },
  {
   "cell_type": "markdown",
   "metadata": {},
   "source": [
    "### Adding Input Layer and First Hidden Layer in ANN"
   ]
  },
  {
   "cell_type": "code",
   "execution_count": 24,
   "metadata": {},
   "outputs": [],
   "source": [
    "classifier.add(Dense(units=4,kernel_initializer='he_uniform',activation='relu',input_dim=11))"
   ]
  },
  {
   "cell_type": "markdown",
   "metadata": {},
   "source": [
    "### Add Dropuout Layer"
   ]
  },
  {
   "cell_type": "code",
   "execution_count": 25,
   "metadata": {},
   "outputs": [],
   "source": [
    "#classifier.add(Dropout(0.3))"
   ]
  },
  {
   "cell_type": "markdown",
   "metadata": {},
   "source": [
    "### Second Hidden Layer"
   ]
  },
  {
   "cell_type": "code",
   "execution_count": 26,
   "metadata": {},
   "outputs": [],
   "source": [
    "classifier.add(Dense(units=4,kernel_initializer='he_uniform',activation='relu'))"
   ]
  },
  {
   "cell_type": "markdown",
   "metadata": {},
   "source": [
    "### Add Dropout"
   ]
  },
  {
   "cell_type": "code",
   "execution_count": 27,
   "metadata": {},
   "outputs": [],
   "source": [
    "#classifier.add(Dropout(0.2))"
   ]
  },
  {
   "cell_type": "markdown",
   "metadata": {},
   "source": [
    "### Third Hidden Layer"
   ]
  },
  {
   "cell_type": "code",
   "execution_count": 28,
   "metadata": {},
   "outputs": [],
   "source": [
    "#classifier.add(Dense(units=4,kernel_initializer='he_uniform',activation='relu'))"
   ]
  },
  {
   "cell_type": "markdown",
   "metadata": {},
   "source": [
    "### Output layer"
   ]
  },
  {
   "cell_type": "code",
   "execution_count": 29,
   "metadata": {},
   "outputs": [],
   "source": [
    "classifier.add(Dense(kernel_initializer=\"glorot_uniform\", activation=\"sigmoid\", units=1))"
   ]
  },
  {
   "cell_type": "code",
   "execution_count": 30,
   "metadata": {},
   "outputs": [
    {
     "name": "stdout",
     "output_type": "stream",
     "text": [
      "Model: \"sequential_1\"\n",
      "_________________________________________________________________\n",
      "Layer (type)                 Output Shape              Param #   \n",
      "=================================================================\n",
      "dense_1 (Dense)              (None, 4)                 48        \n",
      "_________________________________________________________________\n",
      "dense_2 (Dense)              (None, 4)                 20        \n",
      "_________________________________________________________________\n",
      "dense_3 (Dense)              (None, 1)                 5         \n",
      "=================================================================\n",
      "Total params: 73\n",
      "Trainable params: 73\n",
      "Non-trainable params: 0\n",
      "_________________________________________________________________\n"
     ]
    }
   ],
   "source": [
    "classifier.summary()"
   ]
  },
  {
   "cell_type": "markdown",
   "metadata": {},
   "source": [
    "### Compiling ANN"
   ]
  },
  {
   "cell_type": "code",
   "execution_count": 31,
   "metadata": {},
   "outputs": [],
   "source": [
    "classifier.compile(optimizer='adam',loss='binary_crossentropy',metrics=['accuracy'])"
   ]
  },
  {
   "cell_type": "markdown",
   "metadata": {},
   "source": [
    "### Fitting ANN to training DataSet"
   ]
  },
  {
   "cell_type": "code",
   "execution_count": 32,
   "metadata": {},
   "outputs": [
    {
     "name": "stdout",
     "output_type": "stream",
     "text": [
      "Train on 5359 samples, validate on 2641 samples\n",
      "Epoch 1/100\n",
      "5359/5359 [==============================] - 1s 108us/step - loss: 0.6532 - accuracy: 0.6837 - val_loss: 0.5433 - val_accuracy: 0.7747\n",
      "Epoch 2/100\n",
      "5359/5359 [==============================] - 0s 87us/step - loss: 0.4984 - accuracy: 0.7955 - val_loss: 0.4977 - val_accuracy: 0.7883\n",
      "Epoch 3/100\n",
      "5359/5359 [==============================] - 0s 88us/step - loss: 0.4655 - accuracy: 0.8033 - val_loss: 0.4750 - val_accuracy: 0.7914\n",
      "Epoch 4/100\n",
      "5359/5359 [==============================] - 0s 74us/step - loss: 0.4472 - accuracy: 0.8071 - val_loss: 0.4601 - val_accuracy: 0.7948\n",
      "Epoch 5/100\n",
      "5359/5359 [==============================] - 0s 78us/step - loss: 0.4352 - accuracy: 0.8097 - val_loss: 0.4519 - val_accuracy: 0.7970\n",
      "Epoch 6/100\n",
      "5359/5359 [==============================] - 0s 80us/step - loss: 0.4276 - accuracy: 0.8130 - val_loss: 0.4409 - val_accuracy: 0.7993\n",
      "Epoch 7/100\n",
      "5359/5359 [==============================] - 0s 86us/step - loss: 0.4230 - accuracy: 0.8147 - val_loss: 0.4360 - val_accuracy: 0.7993\n",
      "Epoch 8/100\n",
      "5359/5359 [==============================] - 0s 84us/step - loss: 0.4191 - accuracy: 0.8162 - val_loss: 0.4346 - val_accuracy: 0.8001\n",
      "Epoch 9/100\n",
      "5359/5359 [==============================] - 0s 82us/step - loss: 0.4160 - accuracy: 0.8184 - val_loss: 0.4286 - val_accuracy: 0.8069\n",
      "Epoch 10/100\n",
      "5359/5359 [==============================] - 0s 81us/step - loss: 0.4139 - accuracy: 0.8181 - val_loss: 0.4249 - val_accuracy: 0.8084\n",
      "Epoch 11/100\n",
      "5359/5359 [==============================] - 0s 88us/step - loss: 0.4110 - accuracy: 0.8227 - val_loss: 0.4228 - val_accuracy: 0.8129\n",
      "Epoch 12/100\n",
      "5359/5359 [==============================] - 0s 75us/step - loss: 0.4084 - accuracy: 0.8231 - val_loss: 0.4202 - val_accuracy: 0.8099\n",
      "Epoch 13/100\n",
      "5359/5359 [==============================] - 0s 83us/step - loss: 0.4048 - accuracy: 0.8246 - val_loss: 0.4170 - val_accuracy: 0.8156\n",
      "Epoch 14/100\n",
      "5359/5359 [==============================] - 0s 80us/step - loss: 0.4018 - accuracy: 0.8259 - val_loss: 0.4153 - val_accuracy: 0.8129\n",
      "Epoch 15/100\n",
      "5359/5359 [==============================] - 0s 85us/step - loss: 0.3991 - accuracy: 0.8266 - val_loss: 0.4118 - val_accuracy: 0.8175\n",
      "Epoch 16/100\n",
      "5359/5359 [==============================] - 0s 80us/step - loss: 0.3967 - accuracy: 0.8285 - val_loss: 0.4097 - val_accuracy: 0.8179\n",
      "Epoch 17/100\n",
      "5359/5359 [==============================] - 0s 84us/step - loss: 0.3941 - accuracy: 0.8287 - val_loss: 0.4083 - val_accuracy: 0.8198\n",
      "Epoch 18/100\n",
      "5359/5359 [==============================] - 0s 79us/step - loss: 0.3923 - accuracy: 0.8287 - val_loss: 0.4065 - val_accuracy: 0.8167\n",
      "Epoch 19/100\n",
      "5359/5359 [==============================] - 0s 82us/step - loss: 0.3904 - accuracy: 0.8317 - val_loss: 0.4065 - val_accuracy: 0.8156\n",
      "Epoch 20/100\n",
      "5359/5359 [==============================] - 0s 77us/step - loss: 0.3891 - accuracy: 0.8298 - val_loss: 0.4041 - val_accuracy: 0.8198\n",
      "Epoch 21/100\n",
      "5359/5359 [==============================] - 0s 79us/step - loss: 0.3871 - accuracy: 0.8304 - val_loss: 0.4032 - val_accuracy: 0.8145\n",
      "Epoch 22/100\n",
      "5359/5359 [==============================] - 0s 85us/step - loss: 0.3861 - accuracy: 0.8291 - val_loss: 0.4006 - val_accuracy: 0.8179\n",
      "Epoch 23/100\n",
      "5359/5359 [==============================] - 0s 86us/step - loss: 0.3848 - accuracy: 0.8293 - val_loss: 0.3987 - val_accuracy: 0.8220\n",
      "Epoch 24/100\n",
      "5359/5359 [==============================] - 0s 77us/step - loss: 0.3831 - accuracy: 0.8311 - val_loss: 0.3967 - val_accuracy: 0.8220\n",
      "Epoch 25/100\n",
      "5359/5359 [==============================] - 0s 75us/step - loss: 0.3810 - accuracy: 0.8324 - val_loss: 0.3960 - val_accuracy: 0.8205\n",
      "Epoch 26/100\n",
      "5359/5359 [==============================] - 0s 75us/step - loss: 0.3791 - accuracy: 0.8309 - val_loss: 0.3933 - val_accuracy: 0.8232\n",
      "Epoch 27/100\n",
      "5359/5359 [==============================] - 0s 75us/step - loss: 0.3768 - accuracy: 0.8332 - val_loss: 0.3916 - val_accuracy: 0.8228\n",
      "Epoch 28/100\n",
      "5359/5359 [==============================] - 0s 86us/step - loss: 0.3752 - accuracy: 0.8324 - val_loss: 0.3895 - val_accuracy: 0.8224\n",
      "Epoch 29/100\n",
      "5359/5359 [==============================] - 0s 79us/step - loss: 0.3744 - accuracy: 0.8330 - val_loss: 0.3866 - val_accuracy: 0.8251\n",
      "Epoch 30/100\n",
      "5359/5359 [==============================] - 0s 78us/step - loss: 0.3731 - accuracy: 0.8343 - val_loss: 0.3859 - val_accuracy: 0.8254\n",
      "Epoch 31/100\n",
      "5359/5359 [==============================] - 0s 76us/step - loss: 0.3714 - accuracy: 0.8332 - val_loss: 0.3854 - val_accuracy: 0.8258\n",
      "Epoch 32/100\n",
      "5359/5359 [==============================] - 0s 76us/step - loss: 0.3706 - accuracy: 0.8364 - val_loss: 0.3825 - val_accuracy: 0.8266\n",
      "Epoch 33/100\n",
      "5359/5359 [==============================] - 0s 78us/step - loss: 0.3694 - accuracy: 0.8350 - val_loss: 0.3817 - val_accuracy: 0.8251\n",
      "Epoch 34/100\n",
      "5359/5359 [==============================] - 0s 77us/step - loss: 0.3688 - accuracy: 0.8343 - val_loss: 0.3798 - val_accuracy: 0.8258\n",
      "Epoch 35/100\n",
      "5359/5359 [==============================] - 0s 84us/step - loss: 0.3675 - accuracy: 0.8352 - val_loss: 0.3775 - val_accuracy: 0.8262\n",
      "Epoch 36/100\n",
      "5359/5359 [==============================] - 0s 77us/step - loss: 0.3664 - accuracy: 0.8367 - val_loss: 0.3776 - val_accuracy: 0.8270\n",
      "Epoch 37/100\n",
      "5359/5359 [==============================] - 0s 72us/step - loss: 0.3662 - accuracy: 0.8373 - val_loss: 0.3765 - val_accuracy: 0.8410\n",
      "Epoch 38/100\n",
      "5359/5359 [==============================] - 0s 78us/step - loss: 0.3651 - accuracy: 0.8434 - val_loss: 0.3754 - val_accuracy: 0.8425\n",
      "Epoch 39/100\n",
      "5359/5359 [==============================] - 0s 75us/step - loss: 0.3637 - accuracy: 0.8457 - val_loss: 0.3740 - val_accuracy: 0.8421\n",
      "Epoch 40/100\n",
      "5359/5359 [==============================] - 0s 75us/step - loss: 0.3635 - accuracy: 0.8474 - val_loss: 0.3715 - val_accuracy: 0.8459\n",
      "Epoch 41/100\n",
      "5359/5359 [==============================] - 0s 74us/step - loss: 0.3620 - accuracy: 0.8474 - val_loss: 0.3708 - val_accuracy: 0.8466\n",
      "Epoch 42/100\n",
      "5359/5359 [==============================] - 0s 77us/step - loss: 0.3614 - accuracy: 0.8481 - val_loss: 0.3710 - val_accuracy: 0.8451\n",
      "Epoch 43/100\n",
      "5359/5359 [==============================] - 0s 77us/step - loss: 0.3607 - accuracy: 0.8492 - val_loss: 0.3709 - val_accuracy: 0.8432\n",
      "Epoch 44/100\n",
      "5359/5359 [==============================] - 0s 75us/step - loss: 0.3602 - accuracy: 0.8489 - val_loss: 0.3689 - val_accuracy: 0.8448\n",
      "Epoch 45/100\n",
      "5359/5359 [==============================] - 0s 72us/step - loss: 0.3599 - accuracy: 0.8503 - val_loss: 0.3678 - val_accuracy: 0.8466\n",
      "Epoch 46/100\n",
      "5359/5359 [==============================] - 0s 76us/step - loss: 0.3582 - accuracy: 0.8487 - val_loss: 0.3673 - val_accuracy: 0.8478\n",
      "Epoch 47/100\n",
      "5359/5359 [==============================] - 0s 75us/step - loss: 0.3576 - accuracy: 0.8502 - val_loss: 0.3644 - val_accuracy: 0.8485\n",
      "Epoch 48/100\n",
      "5359/5359 [==============================] - 0s 76us/step - loss: 0.3564 - accuracy: 0.8507 - val_loss: 0.3642 - val_accuracy: 0.8504\n",
      "Epoch 49/100\n",
      "5359/5359 [==============================] - 0s 72us/step - loss: 0.3559 - accuracy: 0.8487 - val_loss: 0.3626 - val_accuracy: 0.8512\n",
      "Epoch 50/100\n",
      "5359/5359 [==============================] - 0s 81us/step - loss: 0.3544 - accuracy: 0.8509 - val_loss: 0.3616 - val_accuracy: 0.8512\n",
      "Epoch 51/100\n",
      "5359/5359 [==============================] - 0s 75us/step - loss: 0.3541 - accuracy: 0.8500 - val_loss: 0.3622 - val_accuracy: 0.8482\n",
      "Epoch 52/100\n",
      "5359/5359 [==============================] - 0s 75us/step - loss: 0.3531 - accuracy: 0.8507 - val_loss: 0.3600 - val_accuracy: 0.8512\n",
      "Epoch 53/100\n",
      "5359/5359 [==============================] - 0s 75us/step - loss: 0.3523 - accuracy: 0.8522 - val_loss: 0.3610 - val_accuracy: 0.8482\n",
      "Epoch 54/100\n",
      "5359/5359 [==============================] - 0s 79us/step - loss: 0.3513 - accuracy: 0.8509 - val_loss: 0.3586 - val_accuracy: 0.8508\n",
      "Epoch 55/100\n",
      "5359/5359 [==============================] - 0s 75us/step - loss: 0.3502 - accuracy: 0.8502 - val_loss: 0.3640 - val_accuracy: 0.8413\n",
      "Epoch 56/100\n",
      "5359/5359 [==============================] - 0s 75us/step - loss: 0.3497 - accuracy: 0.8507 - val_loss: 0.3574 - val_accuracy: 0.8519\n",
      "Epoch 57/100\n",
      "5359/5359 [==============================] - 0s 75us/step - loss: 0.3491 - accuracy: 0.8530 - val_loss: 0.3572 - val_accuracy: 0.8550\n",
      "Epoch 58/100\n",
      "5359/5359 [==============================] - 0s 79us/step - loss: 0.3487 - accuracy: 0.8535 - val_loss: 0.3578 - val_accuracy: 0.8512\n",
      "Epoch 59/100\n",
      "5359/5359 [==============================] - 0s 73us/step - loss: 0.3476 - accuracy: 0.8535 - val_loss: 0.3582 - val_accuracy: 0.8512\n",
      "Epoch 60/100\n",
      "5359/5359 [==============================] - 0s 75us/step - loss: 0.3473 - accuracy: 0.8531 - val_loss: 0.3560 - val_accuracy: 0.8516\n",
      "Epoch 61/100\n",
      "5359/5359 [==============================] - 0s 75us/step - loss: 0.3470 - accuracy: 0.8554 - val_loss: 0.3589 - val_accuracy: 0.8485\n",
      "Epoch 62/100\n",
      "5359/5359 [==============================] - 0s 86us/step - loss: 0.3463 - accuracy: 0.8537 - val_loss: 0.3559 - val_accuracy: 0.8508\n",
      "Epoch 63/100\n",
      "5359/5359 [==============================] - 0s 76us/step - loss: 0.3457 - accuracy: 0.8520 - val_loss: 0.3564 - val_accuracy: 0.8546\n",
      "Epoch 64/100\n",
      "5359/5359 [==============================] - 0s 83us/step - loss: 0.3453 - accuracy: 0.8556 - val_loss: 0.3544 - val_accuracy: 0.8501\n",
      "Epoch 65/100\n",
      "5359/5359 [==============================] - 0s 76us/step - loss: 0.3450 - accuracy: 0.8537 - val_loss: 0.3533 - val_accuracy: 0.8516\n",
      "Epoch 66/100\n",
      "5359/5359 [==============================] - 0s 75us/step - loss: 0.3441 - accuracy: 0.8537 - val_loss: 0.3547 - val_accuracy: 0.8542\n",
      "Epoch 67/100\n",
      "5359/5359 [==============================] - 0s 86us/step - loss: 0.3445 - accuracy: 0.8545 - val_loss: 0.3534 - val_accuracy: 0.8523\n",
      "Epoch 68/100\n",
      "5359/5359 [==============================] - 0s 75us/step - loss: 0.3438 - accuracy: 0.8552 - val_loss: 0.3526 - val_accuracy: 0.8497\n",
      "Epoch 69/100\n",
      "5359/5359 [==============================] - 0s 86us/step - loss: 0.3437 - accuracy: 0.8543 - val_loss: 0.3539 - val_accuracy: 0.8466\n",
      "Epoch 70/100\n",
      "5359/5359 [==============================] - 0s 77us/step - loss: 0.3435 - accuracy: 0.8522 - val_loss: 0.3526 - val_accuracy: 0.8508\n",
      "Epoch 71/100\n",
      "5359/5359 [==============================] - 0s 88us/step - loss: 0.3430 - accuracy: 0.8528 - val_loss: 0.3500 - val_accuracy: 0.8546\n",
      "Epoch 72/100\n",
      "5359/5359 [==============================] - 0s 87us/step - loss: 0.3425 - accuracy: 0.8539 - val_loss: 0.3545 - val_accuracy: 0.8497\n",
      "Epoch 73/100\n",
      "5359/5359 [==============================] - 0s 74us/step - loss: 0.3414 - accuracy: 0.8545 - val_loss: 0.3492 - val_accuracy: 0.8550\n",
      "Epoch 74/100\n",
      "5359/5359 [==============================] - 0s 77us/step - loss: 0.3421 - accuracy: 0.8572 - val_loss: 0.3508 - val_accuracy: 0.8501\n",
      "Epoch 75/100\n",
      "5359/5359 [==============================] - 0s 83us/step - loss: 0.3414 - accuracy: 0.8546 - val_loss: 0.3486 - val_accuracy: 0.8542\n",
      "Epoch 76/100\n",
      "5359/5359 [==============================] - 0s 75us/step - loss: 0.3415 - accuracy: 0.8548 - val_loss: 0.3497 - val_accuracy: 0.8542\n",
      "Epoch 77/100\n",
      "5359/5359 [==============================] - 0s 75us/step - loss: 0.3409 - accuracy: 0.8543 - val_loss: 0.3521 - val_accuracy: 0.8516\n",
      "Epoch 78/100\n",
      "5359/5359 [==============================] - 0s 79us/step - loss: 0.3405 - accuracy: 0.8541 - val_loss: 0.3514 - val_accuracy: 0.8538\n",
      "Epoch 79/100\n",
      "5359/5359 [==============================] - 0s 77us/step - loss: 0.3405 - accuracy: 0.8558 - val_loss: 0.3504 - val_accuracy: 0.8512\n",
      "Epoch 80/100\n",
      "5359/5359 [==============================] - 0s 71us/step - loss: 0.3402 - accuracy: 0.8578 - val_loss: 0.3478 - val_accuracy: 0.8542\n",
      "Epoch 81/100\n",
      "5359/5359 [==============================] - 0s 75us/step - loss: 0.3399 - accuracy: 0.8552 - val_loss: 0.3520 - val_accuracy: 0.8519\n",
      "Epoch 82/100\n",
      "5359/5359 [==============================] - 0s 76us/step - loss: 0.3400 - accuracy: 0.8561 - val_loss: 0.3504 - val_accuracy: 0.8554\n",
      "Epoch 83/100\n",
      "5359/5359 [==============================] - 0s 73us/step - loss: 0.3398 - accuracy: 0.8561 - val_loss: 0.3477 - val_accuracy: 0.8546\n",
      "Epoch 84/100\n",
      "5359/5359 [==============================] - 0s 77us/step - loss: 0.3393 - accuracy: 0.8556 - val_loss: 0.3505 - val_accuracy: 0.8497\n",
      "Epoch 85/100\n",
      "5359/5359 [==============================] - 0s 72us/step - loss: 0.3399 - accuracy: 0.8554 - val_loss: 0.3498 - val_accuracy: 0.8535\n",
      "Epoch 86/100\n",
      "5359/5359 [==============================] - 0s 75us/step - loss: 0.3392 - accuracy: 0.8569 - val_loss: 0.3490 - val_accuracy: 0.8565\n",
      "Epoch 87/100\n",
      "5359/5359 [==============================] - 0s 72us/step - loss: 0.3390 - accuracy: 0.8561 - val_loss: 0.3467 - val_accuracy: 0.8565\n",
      "Epoch 88/100\n",
      "5359/5359 [==============================] - 0s 75us/step - loss: 0.3383 - accuracy: 0.8559 - val_loss: 0.3478 - val_accuracy: 0.8565\n",
      "Epoch 89/100\n",
      "5359/5359 [==============================] - 0s 76us/step - loss: 0.3389 - accuracy: 0.8569 - val_loss: 0.3472 - val_accuracy: 0.8550\n",
      "Epoch 90/100\n",
      "5359/5359 [==============================] - 0s 73us/step - loss: 0.3387 - accuracy: 0.8567 - val_loss: 0.3490 - val_accuracy: 0.8584\n",
      "Epoch 91/100\n",
      "5359/5359 [==============================] - 0s 74us/step - loss: 0.3383 - accuracy: 0.8578 - val_loss: 0.3478 - val_accuracy: 0.8565\n",
      "Epoch 92/100\n",
      "5359/5359 [==============================] - 0s 74us/step - loss: 0.3381 - accuracy: 0.8578 - val_loss: 0.3482 - val_accuracy: 0.8595\n",
      "Epoch 93/100\n",
      "5359/5359 [==============================] - 0s 74us/step - loss: 0.3388 - accuracy: 0.8593 - val_loss: 0.3484 - val_accuracy: 0.8580\n",
      "Epoch 94/100\n",
      "5359/5359 [==============================] - 0s 73us/step - loss: 0.3386 - accuracy: 0.8599 - val_loss: 0.3457 - val_accuracy: 0.8595\n",
      "Epoch 95/100\n",
      "5359/5359 [==============================] - 0s 76us/step - loss: 0.3384 - accuracy: 0.8604 - val_loss: 0.3458 - val_accuracy: 0.8603\n",
      "Epoch 96/100\n",
      "5359/5359 [==============================] - 0s 75us/step - loss: 0.3383 - accuracy: 0.8587 - val_loss: 0.3458 - val_accuracy: 0.8599\n",
      "Epoch 97/100\n",
      "5359/5359 [==============================] - 0s 74us/step - loss: 0.3388 - accuracy: 0.8586 - val_loss: 0.3459 - val_accuracy: 0.8610\n",
      "Epoch 98/100\n",
      "5359/5359 [==============================] - 0s 74us/step - loss: 0.3377 - accuracy: 0.8587 - val_loss: 0.3468 - val_accuracy: 0.8584\n",
      "Epoch 99/100\n",
      "5359/5359 [==============================] - 0s 74us/step - loss: 0.3380 - accuracy: 0.8597 - val_loss: 0.3472 - val_accuracy: 0.8595\n",
      "Epoch 100/100\n",
      "5359/5359 [==============================] - 0s 72us/step - loss: 0.3380 - accuracy: 0.8591 - val_loss: 0.3443 - val_accuracy: 0.8588\n"
     ]
    }
   ],
   "source": [
    "model_history=classifier.fit(X_train,y_train,validation_split=0.33,batch_size=10,epochs=100)"
   ]
  },
  {
   "cell_type": "code",
   "execution_count": 33,
   "metadata": {},
   "outputs": [
    {
     "name": "stdout",
     "output_type": "stream",
     "text": [
      "dict_keys(['val_loss', 'val_accuracy', 'loss', 'accuracy'])\n"
     ]
    }
   ],
   "source": [
    "print(model_history.history.keys())"
   ]
  },
  {
   "cell_type": "markdown",
   "metadata": {},
   "source": [
    "### Validate with test Data"
   ]
  },
  {
   "cell_type": "code",
   "execution_count": 34,
   "metadata": {},
   "outputs": [],
   "source": [
    "# Predicting the Test set results\n",
    "y_pred=classifier.predict(X_test)"
   ]
  },
  {
   "cell_type": "code",
   "execution_count": 35,
   "metadata": {},
   "outputs": [],
   "source": [
    "y_pred=(y_pred>0.5)"
   ]
  },
  {
   "cell_type": "code",
   "execution_count": 36,
   "metadata": {},
   "outputs": [],
   "source": [
    "from sklearn.metrics import confusion_matrix,accuracy_score"
   ]
  },
  {
   "cell_type": "code",
   "execution_count": 37,
   "metadata": {},
   "outputs": [
    {
     "data": {
      "text/plain": [
       "array([[1286,  318],\n",
       "       [ 117,  279]], dtype=int64)"
      ]
     },
     "execution_count": 37,
     "metadata": {},
     "output_type": "execute_result"
    }
   ],
   "source": [
    "confusion_matrix(y_test,y_pred)"
   ]
  },
  {
   "cell_type": "code",
   "execution_count": 38,
   "metadata": {},
   "outputs": [
    {
     "data": {
      "text/plain": [
       "0.7825"
      ]
     },
     "execution_count": 38,
     "metadata": {},
     "output_type": "execute_result"
    }
   ],
   "source": [
    "accuracy_score(y_test,y_pred)"
   ]
  },
  {
   "cell_type": "markdown",
   "metadata": {},
   "source": [
    "### summarize history for loss"
   ]
  },
  {
   "cell_type": "code",
   "execution_count": 39,
   "metadata": {},
   "outputs": [
    {
     "data": {
      "image/png": "[encoded data removed]",
      "text/plain": [
       "<Figure size 432x288 with 1 Axes>"
      ]
     },
     "metadata": {
      "needs_background": "light"
     },
     "output_type": "display_data"
    }
   ],
   "source": [
    "plt.plot(model_history.history['loss'])\n",
    "plt.plot(model_history.history['val_loss'])\n",
    "plt.xlabel('Epoc')\n",
    "plt.ylabel('Loss')\n",
    "plt.title('Model Loss')\n",
    "plt.legend(['train','test'],loc='upper left')\n",
    "plt.show()"
   ]
  },
  {
   "cell_type": "code",
   "execution_count": null,
   "metadata": {},
   "outputs": [],
   "source": []
  }
 ],
 "metadata": {
  "kernelspec": {
   "display_name": "Python 3",
   "language": "python",
   "name": "python3"
  },
  "language_info": {
   "codemirror_mode": {
    "name": "ipython",
    "version": 3
   },
   "file_extension": ".py",
   "mimetype": "text/x-python",
   "name": "python",
   "nbconvert_exporter": "python",
   "pygments_lexer": "ipython3",
   "version": "3.7.3"
  }
 },
 "nbformat": 4,
 "nbformat_minor": 4
}
