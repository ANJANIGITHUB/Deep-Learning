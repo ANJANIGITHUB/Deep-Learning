{
 "cells": [
  {
   "cell_type": "markdown",
   "metadata": {},
   "source": [
    "### Import Libraries"
   ]
  },
  {
   "cell_type": "code",
   "execution_count": 1,
   "metadata": {},
   "outputs": [],
   "source": [
    "import pandas as pd\n",
    "import numpy as np\n",
    "import matplotlib.pyplot as plt\n",
    "from sklearn.model_selection import train_test_split\n",
    "from sklearn.preprocessing import StandardScaler\n",
    "import warnings\n",
    "warnings.filterwarnings('ignore')"
   ]
  },
  {
   "cell_type": "code",
   "execution_count": 2,
   "metadata": {},
   "outputs": [],
   "source": [
    "#import os"
   ]
  },
  {
   "cell_type": "code",
   "execution_count": 3,
   "metadata": {},
   "outputs": [],
   "source": [
    "#os.listdir()"
   ]
  },
  {
   "cell_type": "code",
   "execution_count": 4,
   "metadata": {},
   "outputs": [],
   "source": [
    "df=pd.read_csv('Churn_Modelling.csv')"
   ]
  },
  {
   "cell_type": "code",
   "execution_count": 5,
   "metadata": {},
   "outputs": [],
   "source": [
    "X=df.iloc[:,3:-1]"
   ]
  },
  {
   "cell_type": "code",
   "execution_count": 6,
   "metadata": {},
   "outputs": [],
   "source": [
    "y=df.iloc[:,-1]"
   ]
  },
  {
   "cell_type": "code",
   "execution_count": 7,
   "metadata": {},
   "outputs": [
    {
     "data": {
      "text/html": [
       "<div>\n",
       "<style scoped>\n",
       "    .dataframe tbody tr th:only-of-type {\n",
       "        vertical-align: middle;\n",
       "    }\n",
       "\n",
       "    .dataframe tbody tr th {\n",
       "        vertical-align: top;\n",
       "    }\n",
       "\n",
       "    .dataframe thead th {\n",
       "        text-align: right;\n",
       "    }\n",
       "</style>\n",
       "<table border=\"1\" class=\"dataframe\">\n",
       "  <thead>\n",
       "    <tr style=\"text-align: right;\">\n",
       "      <th></th>\n",
       "      <th>CreditScore</th>\n",
       "      <th>Geography</th>\n",
       "      <th>Gender</th>\n",
       "      <th>Age</th>\n",
       "      <th>Tenure</th>\n",
       "      <th>Balance</th>\n",
       "      <th>NumOfProducts</th>\n",
       "      <th>HasCrCard</th>\n",
       "      <th>IsActiveMember</th>\n",
       "      <th>EstimatedSalary</th>\n",
       "    </tr>\n",
       "  </thead>\n",
       "  <tbody>\n",
       "    <tr>\n",
       "      <th>0</th>\n",
       "      <td>619</td>\n",
       "      <td>France</td>\n",
       "      <td>Female</td>\n",
       "      <td>42</td>\n",
       "      <td>2</td>\n",
       "      <td>0.00</td>\n",
       "      <td>1</td>\n",
       "      <td>1</td>\n",
       "      <td>1</td>\n",
       "      <td>101348.88</td>\n",
       "    </tr>\n",
       "    <tr>\n",
       "      <th>1</th>\n",
       "      <td>608</td>\n",
       "      <td>Spain</td>\n",
       "      <td>Female</td>\n",
       "      <td>41</td>\n",
       "      <td>1</td>\n",
       "      <td>83807.86</td>\n",
       "      <td>1</td>\n",
       "      <td>0</td>\n",
       "      <td>1</td>\n",
       "      <td>112542.58</td>\n",
       "    </tr>\n",
       "    <tr>\n",
       "      <th>2</th>\n",
       "      <td>502</td>\n",
       "      <td>France</td>\n",
       "      <td>Female</td>\n",
       "      <td>42</td>\n",
       "      <td>8</td>\n",
       "      <td>159660.80</td>\n",
       "      <td>3</td>\n",
       "      <td>1</td>\n",
       "      <td>0</td>\n",
       "      <td>113931.57</td>\n",
       "    </tr>\n",
       "    <tr>\n",
       "      <th>3</th>\n",
       "      <td>699</td>\n",
       "      <td>France</td>\n",
       "      <td>Female</td>\n",
       "      <td>39</td>\n",
       "      <td>1</td>\n",
       "      <td>0.00</td>\n",
       "      <td>2</td>\n",
       "      <td>0</td>\n",
       "      <td>0</td>\n",
       "      <td>93826.63</td>\n",
       "    </tr>\n",
       "    <tr>\n",
       "      <th>4</th>\n",
       "      <td>850</td>\n",
       "      <td>Spain</td>\n",
       "      <td>Female</td>\n",
       "      <td>43</td>\n",
       "      <td>2</td>\n",
       "      <td>125510.82</td>\n",
       "      <td>1</td>\n",
       "      <td>1</td>\n",
       "      <td>1</td>\n",
       "      <td>79084.10</td>\n",
       "    </tr>\n",
       "  </tbody>\n",
       "</table>\n",
       "</div>"
      ],
      "text/plain": [
       "   CreditScore Geography  Gender  Age  Tenure    Balance  NumOfProducts  \\\n",
       "0          619    France  Female   42       2       0.00              1   \n",
       "1          608     Spain  Female   41       1   83807.86              1   \n",
       "2          502    France  Female   42       8  159660.80              3   \n",
       "3          699    France  Female   39       1       0.00              2   \n",
       "4          850     Spain  Female   43       2  125510.82              1   \n",
       "\n",
       "   HasCrCard  IsActiveMember  EstimatedSalary  \n",
       "0          1               1        101348.88  \n",
       "1          0               1        112542.58  \n",
       "2          1               0        113931.57  \n",
       "3          0               0         93826.63  \n",
       "4          1               1         79084.10  "
      ]
     },
     "execution_count": 7,
     "metadata": {},
     "output_type": "execute_result"
    }
   ],
   "source": [
    "X.head()"
   ]
  },
  {
   "cell_type": "code",
   "execution_count": 8,
   "metadata": {},
   "outputs": [
    {
     "data": {
      "text/plain": [
       "0    1\n",
       "1    0\n",
       "2    1\n",
       "3    0\n",
       "4    0\n",
       "Name: Exited, dtype: int64"
      ]
     },
     "execution_count": 8,
     "metadata": {},
     "output_type": "execute_result"
    }
   ],
   "source": [
    "y.head()"
   ]
  },
  {
   "cell_type": "markdown",
   "metadata": {},
   "source": [
    "### Handling Categories Variables"
   ]
  },
  {
   "cell_type": "code",
   "execution_count": 9,
   "metadata": {},
   "outputs": [],
   "source": [
    "Geography=pd.get_dummies(X['Geography'],drop_first=True)"
   ]
  },
  {
   "cell_type": "code",
   "execution_count": 10,
   "metadata": {},
   "outputs": [],
   "source": [
    "Gender=pd.get_dummies(X['Gender'],drop_first=True)"
   ]
  },
  {
   "cell_type": "code",
   "execution_count": 11,
   "metadata": {},
   "outputs": [],
   "source": [
    "X=pd.concat([X,Geography,Gender],axis=1)"
   ]
  },
  {
   "cell_type": "code",
   "execution_count": 12,
   "metadata": {},
   "outputs": [],
   "source": [
    "X=X.drop(['Geography','Gender'],axis=1)"
   ]
  },
  {
   "cell_type": "code",
   "execution_count": 13,
   "metadata": {},
   "outputs": [
    {
     "data": {
      "text/html": [
       "<div>\n",
       "<style scoped>\n",
       "    .dataframe tbody tr th:only-of-type {\n",
       "        vertical-align: middle;\n",
       "    }\n",
       "\n",
       "    .dataframe tbody tr th {\n",
       "        vertical-align: top;\n",
       "    }\n",
       "\n",
       "    .dataframe thead th {\n",
       "        text-align: right;\n",
       "    }\n",
       "</style>\n",
       "<table border=\"1\" class=\"dataframe\">\n",
       "  <thead>\n",
       "    <tr style=\"text-align: right;\">\n",
       "      <th></th>\n",
       "      <th>CreditScore</th>\n",
       "      <th>Age</th>\n",
       "      <th>Tenure</th>\n",
       "      <th>Balance</th>\n",
       "      <th>NumOfProducts</th>\n",
       "      <th>HasCrCard</th>\n",
       "      <th>IsActiveMember</th>\n",
       "      <th>EstimatedSalary</th>\n",
       "      <th>Germany</th>\n",
       "      <th>Spain</th>\n",
       "      <th>Male</th>\n",
       "    </tr>\n",
       "  </thead>\n",
       "  <tbody>\n",
       "    <tr>\n",
       "      <th>0</th>\n",
       "      <td>619</td>\n",
       "      <td>42</td>\n",
       "      <td>2</td>\n",
       "      <td>0.00</td>\n",
       "      <td>1</td>\n",
       "      <td>1</td>\n",
       "      <td>1</td>\n",
       "      <td>101348.88</td>\n",
       "      <td>0</td>\n",
       "      <td>0</td>\n",
       "      <td>0</td>\n",
       "    </tr>\n",
       "    <tr>\n",
       "      <th>1</th>\n",
       "      <td>608</td>\n",
       "      <td>41</td>\n",
       "      <td>1</td>\n",
       "      <td>83807.86</td>\n",
       "      <td>1</td>\n",
       "      <td>0</td>\n",
       "      <td>1</td>\n",
       "      <td>112542.58</td>\n",
       "      <td>0</td>\n",
       "      <td>1</td>\n",
       "      <td>0</td>\n",
       "    </tr>\n",
       "    <tr>\n",
       "      <th>2</th>\n",
       "      <td>502</td>\n",
       "      <td>42</td>\n",
       "      <td>8</td>\n",
       "      <td>159660.80</td>\n",
       "      <td>3</td>\n",
       "      <td>1</td>\n",
       "      <td>0</td>\n",
       "      <td>113931.57</td>\n",
       "      <td>0</td>\n",
       "      <td>0</td>\n",
       "      <td>0</td>\n",
       "    </tr>\n",
       "    <tr>\n",
       "      <th>3</th>\n",
       "      <td>699</td>\n",
       "      <td>39</td>\n",
       "      <td>1</td>\n",
       "      <td>0.00</td>\n",
       "      <td>2</td>\n",
       "      <td>0</td>\n",
       "      <td>0</td>\n",
       "      <td>93826.63</td>\n",
       "      <td>0</td>\n",
       "      <td>0</td>\n",
       "      <td>0</td>\n",
       "    </tr>\n",
       "    <tr>\n",
       "      <th>4</th>\n",
       "      <td>850</td>\n",
       "      <td>43</td>\n",
       "      <td>2</td>\n",
       "      <td>125510.82</td>\n",
       "      <td>1</td>\n",
       "      <td>1</td>\n",
       "      <td>1</td>\n",
       "      <td>79084.10</td>\n",
       "      <td>0</td>\n",
       "      <td>1</td>\n",
       "      <td>0</td>\n",
       "    </tr>\n",
       "  </tbody>\n",
       "</table>\n",
       "</div>"
      ],
      "text/plain": [
       "   CreditScore  Age  Tenure    Balance  NumOfProducts  HasCrCard  \\\n",
       "0          619   42       2       0.00              1          1   \n",
       "1          608   41       1   83807.86              1          0   \n",
       "2          502   42       8  159660.80              3          1   \n",
       "3          699   39       1       0.00              2          0   \n",
       "4          850   43       2  125510.82              1          1   \n",
       "\n",
       "   IsActiveMember  EstimatedSalary  Germany  Spain  Male  \n",
       "0               1        101348.88        0      0     0  \n",
       "1               1        112542.58        0      1     0  \n",
       "2               0        113931.57        0      0     0  \n",
       "3               0         93826.63        0      0     0  \n",
       "4               1         79084.10        0      1     0  "
      ]
     },
     "execution_count": 13,
     "metadata": {},
     "output_type": "execute_result"
    }
   ],
   "source": [
    "X.head()"
   ]
  },
  {
   "cell_type": "markdown",
   "metadata": {},
   "source": [
    "### Standardization"
   ]
  },
  {
   "cell_type": "code",
   "execution_count": 14,
   "metadata": {},
   "outputs": [],
   "source": [
    "ss=StandardScaler()"
   ]
  },
  {
   "cell_type": "code",
   "execution_count": 15,
   "metadata": {},
   "outputs": [],
   "source": [
    "X=ss.fit_transform(X)"
   ]
  },
  {
   "cell_type": "code",
   "execution_count": 16,
   "metadata": {},
   "outputs": [
    {
     "data": {
      "text/plain": [
       "array([[-0.32622142,  0.29351742, -1.04175968, ..., -0.57873591,\n",
       "        -0.57380915, -1.09598752],\n",
       "       [-0.44003595,  0.19816383, -1.38753759, ..., -0.57873591,\n",
       "         1.74273971, -1.09598752],\n",
       "       [-1.53679418,  0.29351742,  1.03290776, ..., -0.57873591,\n",
       "        -0.57380915, -1.09598752],\n",
       "       ...,\n",
       "       [ 0.60498839, -0.27860412,  0.68712986, ..., -0.57873591,\n",
       "        -0.57380915, -1.09598752],\n",
       "       [ 1.25683526,  0.29351742, -0.69598177, ...,  1.72790383,\n",
       "        -0.57380915,  0.91241915],\n",
       "       [ 1.46377078, -1.04143285, -0.35020386, ..., -0.57873591,\n",
       "        -0.57380915, -1.09598752]])"
      ]
     },
     "execution_count": 16,
     "metadata": {},
     "output_type": "execute_result"
    }
   ],
   "source": [
    "X"
   ]
  },
  {
   "cell_type": "code",
   "execution_count": 17,
   "metadata": {},
   "outputs": [
    {
     "data": {
      "text/plain": [
       "0    1\n",
       "1    0\n",
       "2    1\n",
       "3    0\n",
       "4    0\n",
       "Name: Exited, dtype: int64"
      ]
     },
     "execution_count": 17,
     "metadata": {},
     "output_type": "execute_result"
    }
   ],
   "source": [
    "y.head()"
   ]
  },
  {
   "cell_type": "markdown",
   "metadata": {},
   "source": [
    "### Train_Test_Split"
   ]
  },
  {
   "cell_type": "code",
   "execution_count": 18,
   "metadata": {},
   "outputs": [],
   "source": [
    "X_train,X_test,y_train,y_test=train_test_split(X,y,test_size=0.20,random_state=54)"
   ]
  },
  {
   "cell_type": "markdown",
   "metadata": {},
   "source": [
    "### Using Deep Learning"
   ]
  },
  {
   "cell_type": "code",
   "execution_count": 19,
   "metadata": {},
   "outputs": [
    {
     "name": "stderr",
     "output_type": "stream",
     "text": [
      "Using TensorFlow backend.\n"
     ]
    }
   ],
   "source": [
    "import keras"
   ]
  },
  {
   "cell_type": "code",
   "execution_count": 20,
   "metadata": {},
   "outputs": [],
   "source": [
    "from keras.models import Sequential "
   ]
  },
  {
   "cell_type": "code",
   "execution_count": 21,
   "metadata": {},
   "outputs": [],
   "source": [
    "from keras.layers import Dense"
   ]
  },
  {
   "cell_type": "code",
   "execution_count": 22,
   "metadata": {},
   "outputs": [],
   "source": [
    "classifier=Sequential()"
   ]
  },
  {
   "cell_type": "markdown",
   "metadata": {},
   "source": [
    "### First Deep Neural Net Layer"
   ]
  },
  {
   "cell_type": "code",
   "execution_count": 23,
   "metadata": {},
   "outputs": [],
   "source": [
    "classifier.add(Dense(input_dim=11,units=6,activation='relu',kernel_initializer='uniform'))"
   ]
  },
  {
   "cell_type": "markdown",
   "metadata": {},
   "source": [
    "### Second Layer"
   ]
  },
  {
   "cell_type": "code",
   "execution_count": 24,
   "metadata": {},
   "outputs": [],
   "source": [
    "classifier.add(Dense(units=6,activation='relu',kernel_initializer='uniform'))"
   ]
  },
  {
   "cell_type": "markdown",
   "metadata": {},
   "source": [
    "### Output Layer"
   ]
  },
  {
   "cell_type": "code",
   "execution_count": 25,
   "metadata": {},
   "outputs": [],
   "source": [
    "classifier.add(Dense(units=1,activation='sigmoid',kernel_initializer='uniform'))"
   ]
  },
  {
   "cell_type": "code",
   "execution_count": 26,
   "metadata": {},
   "outputs": [
    {
     "name": "stdout",
     "output_type": "stream",
     "text": [
      "Model: \"sequential_1\"\n",
      "_________________________________________________________________\n",
      "Layer (type)                 Output Shape              Param #   \n",
      "=================================================================\n",
      "dense_1 (Dense)              (None, 6)                 72        \n",
      "_________________________________________________________________\n",
      "dense_2 (Dense)              (None, 6)                 42        \n",
      "_________________________________________________________________\n",
      "dense_3 (Dense)              (None, 1)                 7         \n",
      "=================================================================\n",
      "Total params: 121\n",
      "Trainable params: 121\n",
      "Non-trainable params: 0\n",
      "_________________________________________________________________\n"
     ]
    }
   ],
   "source": [
    "classifier.summary()"
   ]
  },
  {
   "cell_type": "markdown",
   "metadata": {},
   "source": [
    "### Compile Model"
   ]
  },
  {
   "cell_type": "code",
   "execution_count": 27,
   "metadata": {},
   "outputs": [],
   "source": [
    "classifier.compile(optimizer='adam',loss='binary_crossentropy',metrics=['accuracy'])"
   ]
  },
  {
   "cell_type": "code",
   "execution_count": 28,
   "metadata": {},
   "outputs": [
    {
     "name": "stdout",
     "output_type": "stream",
     "text": [
      "Model: \"sequential_1\"\n",
      "_________________________________________________________________\n",
      "Layer (type)                 Output Shape              Param #   \n",
      "=================================================================\n",
      "dense_1 (Dense)              (None, 6)                 72        \n",
      "_________________________________________________________________\n",
      "dense_2 (Dense)              (None, 6)                 42        \n",
      "_________________________________________________________________\n",
      "dense_3 (Dense)              (None, 1)                 7         \n",
      "=================================================================\n",
      "Total params: 121\n",
      "Trainable params: 121\n",
      "Non-trainable params: 0\n",
      "_________________________________________________________________\n"
     ]
    }
   ],
   "source": [
    "classifier.summary()"
   ]
  },
  {
   "cell_type": "markdown",
   "metadata": {},
   "source": [
    "### Fitting Model with Traning Data"
   ]
  },
  {
   "cell_type": "code",
   "execution_count": 29,
   "metadata": {},
   "outputs": [
    {
     "name": "stdout",
     "output_type": "stream",
     "text": [
      "Epoch 1/100\n",
      "8000/8000 [==============================] - 1s 73us/step - loss: 0.4825 - accuracy: 0.7929\n",
      "Epoch 2/100\n",
      "8000/8000 [==============================] - 0s 62us/step - loss: 0.4314 - accuracy: 0.7929\n",
      "Epoch 3/100\n",
      "8000/8000 [==============================] - 0s 62us/step - loss: 0.4249 - accuracy: 0.8101\n",
      "Epoch 4/100\n",
      "8000/8000 [==============================] - 0s 62us/step - loss: 0.4190 - accuracy: 0.8244\n",
      "Epoch 5/100\n",
      "8000/8000 [==============================] - 1s 64us/step - loss: 0.4132 - accuracy: 0.8311\n",
      "Epoch 6/100\n",
      "8000/8000 [==============================] - 1s 64us/step - loss: 0.4096 - accuracy: 0.8322\n",
      "Epoch 7/100\n",
      "8000/8000 [==============================] - 1s 64us/step - loss: 0.4067 - accuracy: 0.8331\n",
      "Epoch 8/100\n",
      "8000/8000 [==============================] - 0s 62us/step - loss: 0.4049 - accuracy: 0.8336\n",
      "Epoch 9/100\n",
      "8000/8000 [==============================] - 0s 62us/step - loss: 0.4031 - accuracy: 0.8339\n",
      "Epoch 10/100\n",
      "8000/8000 [==============================] - 1s 64us/step - loss: 0.4019 - accuracy: 0.8330\n",
      "Epoch 11/100\n",
      "8000/8000 [==============================] - 1s 65us/step - loss: 0.4011 - accuracy: 0.8349\n",
      "Epoch 12/100\n",
      "8000/8000 [==============================] - 1s 63us/step - loss: 0.4003 - accuracy: 0.8340\n",
      "Epoch 13/100\n",
      "8000/8000 [==============================] - 1s 63us/step - loss: 0.3993 - accuracy: 0.8342\n",
      "Epoch 14/100\n",
      "8000/8000 [==============================] - 1s 66us/step - loss: 0.3986 - accuracy: 0.8363\n",
      "Epoch 15/100\n",
      "8000/8000 [==============================] - 1s 65us/step - loss: 0.3984 - accuracy: 0.8349\n",
      "Epoch 16/100\n",
      "8000/8000 [==============================] - 1s 64us/step - loss: 0.3981 - accuracy: 0.8364\n",
      "Epoch 17/100\n",
      "8000/8000 [==============================] - 1s 65us/step - loss: 0.3986 - accuracy: 0.8344\n",
      "Epoch 18/100\n",
      "8000/8000 [==============================] - 1s 65us/step - loss: 0.3978 - accuracy: 0.8366\n",
      "Epoch 19/100\n",
      "8000/8000 [==============================] - 1s 65us/step - loss: 0.3975 - accuracy: 0.8347\n",
      "Epoch 20/100\n",
      "8000/8000 [==============================] - 1s 65us/step - loss: 0.3966 - accuracy: 0.8356\n",
      "Epoch 21/100\n",
      "8000/8000 [==============================] - 1s 64us/step - loss: 0.3973 - accuracy: 0.8355\n",
      "Epoch 22/100\n",
      "8000/8000 [==============================] - 1s 64us/step - loss: 0.3961 - accuracy: 0.8369\n",
      "Epoch 23/100\n",
      "8000/8000 [==============================] - 1s 64us/step - loss: 0.3968 - accuracy: 0.8353\n",
      "Epoch 24/100\n",
      "8000/8000 [==============================] - 1s 65us/step - loss: 0.3968 - accuracy: 0.8363\n",
      "Epoch 25/100\n",
      "8000/8000 [==============================] - 1s 64us/step - loss: 0.3969 - accuracy: 0.8369\n",
      "Epoch 26/100\n",
      "8000/8000 [==============================] - 0s 62us/step - loss: 0.3970 - accuracy: 0.8381\n",
      "Epoch 27/100\n",
      "8000/8000 [==============================] - 1s 64us/step - loss: 0.3967 - accuracy: 0.8354\n",
      "Epoch 28/100\n",
      "8000/8000 [==============================] - 0s 62us/step - loss: 0.3966 - accuracy: 0.8367\n",
      "Epoch 29/100\n",
      "8000/8000 [==============================] - 0s 58us/step - loss: 0.3962 - accuracy: 0.8371\n",
      "Epoch 30/100\n",
      "8000/8000 [==============================] - 1s 64us/step - loss: 0.3959 - accuracy: 0.8366\n",
      "Epoch 31/100\n",
      "8000/8000 [==============================] - 1s 64us/step - loss: 0.3966 - accuracy: 0.8338\n",
      "Epoch 32/100\n",
      "8000/8000 [==============================] - 1s 64us/step - loss: 0.3964 - accuracy: 0.8361\n",
      "Epoch 33/100\n",
      "8000/8000 [==============================] - 1s 65us/step - loss: 0.3958 - accuracy: 0.8369\n",
      "Epoch 34/100\n",
      "8000/8000 [==============================] - 1s 65us/step - loss: 0.3959 - accuracy: 0.8370\n",
      "Epoch 35/100\n",
      "8000/8000 [==============================] - 1s 64us/step - loss: 0.3956 - accuracy: 0.8372\n",
      "Epoch 36/100\n",
      "8000/8000 [==============================] - 1s 65us/step - loss: 0.3962 - accuracy: 0.8374\n",
      "Epoch 37/100\n",
      "8000/8000 [==============================] - 1s 65us/step - loss: 0.3960 - accuracy: 0.8357\n",
      "Epoch 38/100\n",
      "8000/8000 [==============================] - 1s 64us/step - loss: 0.3962 - accuracy: 0.8364\n",
      "Epoch 39/100\n",
      "8000/8000 [==============================] - 1s 64us/step - loss: 0.3958 - accuracy: 0.8374\n",
      "Epoch 40/100\n",
      "8000/8000 [==============================] - 1s 65us/step - loss: 0.3953 - accuracy: 0.8367\n",
      "Epoch 41/100\n",
      "8000/8000 [==============================] - 1s 65us/step - loss: 0.3959 - accuracy: 0.8366\n",
      "Epoch 42/100\n",
      "8000/8000 [==============================] - 1s 65us/step - loss: 0.3954 - accuracy: 0.8367\n",
      "Epoch 43/100\n",
      "8000/8000 [==============================] - 1s 64us/step - loss: 0.3954 - accuracy: 0.8380\n",
      "Epoch 44/100\n",
      "8000/8000 [==============================] - 1s 65us/step - loss: 0.3957 - accuracy: 0.8374\n",
      "Epoch 45/100\n",
      "8000/8000 [==============================] - 1s 65us/step - loss: 0.3959 - accuracy: 0.8367\n",
      "Epoch 46/100\n",
      "8000/8000 [==============================] - 1s 65us/step - loss: 0.3959 - accuracy: 0.8342\n",
      "Epoch 47/100\n",
      "8000/8000 [==============================] - 1s 65us/step - loss: 0.3959 - accuracy: 0.8367\n",
      "Epoch 48/100\n",
      "8000/8000 [==============================] - 0s 59us/step - loss: 0.3957 - accuracy: 0.8370\n",
      "Epoch 49/100\n",
      "8000/8000 [==============================] - 1s 64us/step - loss: 0.3952 - accuracy: 0.8360\n",
      "Epoch 50/100\n",
      "8000/8000 [==============================] - 1s 65us/step - loss: 0.3952 - accuracy: 0.8357\n",
      "Epoch 51/100\n",
      "8000/8000 [==============================] - 1s 65us/step - loss: 0.3956 - accuracy: 0.8366\n",
      "Epoch 52/100\n",
      "8000/8000 [==============================] - 1s 64us/step - loss: 0.3955 - accuracy: 0.8375\n",
      "Epoch 53/100\n",
      "8000/8000 [==============================] - 1s 64us/step - loss: 0.3956 - accuracy: 0.8355\n",
      "Epoch 54/100\n",
      "8000/8000 [==============================] - 1s 64us/step - loss: 0.3954 - accuracy: 0.8350\n",
      "Epoch 55/100\n",
      "8000/8000 [==============================] - 1s 65us/step - loss: 0.3955 - accuracy: 0.8363\n",
      "Epoch 56/100\n",
      "8000/8000 [==============================] - 1s 64us/step - loss: 0.3956 - accuracy: 0.8367\n",
      "Epoch 57/100\n",
      "8000/8000 [==============================] - 1s 64us/step - loss: 0.3952 - accuracy: 0.8350\n",
      "Epoch 58/100\n",
      "8000/8000 [==============================] - 1s 64us/step - loss: 0.3951 - accuracy: 0.8361 0s - loss: 0.3953 - accuracy: 0.83\n",
      "Epoch 59/100\n",
      "8000/8000 [==============================] - 0s 62us/step - loss: 0.3950 - accuracy: 0.8360\n",
      "Epoch 60/100\n",
      "8000/8000 [==============================] - 1s 64us/step - loss: 0.3950 - accuracy: 0.8359\n",
      "Epoch 61/100\n",
      "8000/8000 [==============================] - 1s 65us/step - loss: 0.3946 - accuracy: 0.8356\n",
      "Epoch 62/100\n",
      "8000/8000 [==============================] - 1s 64us/step - loss: 0.3956 - accuracy: 0.8366\n",
      "Epoch 63/100\n",
      "8000/8000 [==============================] - 1s 64us/step - loss: 0.3956 - accuracy: 0.8366\n",
      "Epoch 64/100\n",
      "8000/8000 [==============================] - 1s 65us/step - loss: 0.3951 - accuracy: 0.8369\n",
      "Epoch 65/100\n",
      "8000/8000 [==============================] - 1s 65us/step - loss: 0.3954 - accuracy: 0.8356\n",
      "Epoch 66/100\n",
      "8000/8000 [==============================] - 1s 65us/step - loss: 0.3954 - accuracy: 0.8366\n",
      "Epoch 67/100\n",
      "8000/8000 [==============================] - 1s 65us/step - loss: 0.3948 - accuracy: 0.8361\n",
      "Epoch 68/100\n",
      "8000/8000 [==============================] - 1s 64us/step - loss: 0.3947 - accuracy: 0.8353\n",
      "Epoch 69/100\n",
      "8000/8000 [==============================] - 1s 65us/step - loss: 0.3953 - accuracy: 0.8335\n",
      "Epoch 70/100\n",
      "8000/8000 [==============================] - 1s 65us/step - loss: 0.3953 - accuracy: 0.8357\n",
      "Epoch 71/100\n",
      "8000/8000 [==============================] - 1s 65us/step - loss: 0.3952 - accuracy: 0.8351\n",
      "Epoch 72/100\n",
      "8000/8000 [==============================] - 0s 62us/step - loss: 0.3952 - accuracy: 0.8369\n",
      "Epoch 73/100\n",
      "8000/8000 [==============================] - 1s 63us/step - loss: 0.3950 - accuracy: 0.8354\n",
      "Epoch 74/100\n",
      "8000/8000 [==============================] - 1s 64us/step - loss: 0.3949 - accuracy: 0.8370\n",
      "Epoch 75/100\n",
      "8000/8000 [==============================] - 1s 65us/step - loss: 0.3948 - accuracy: 0.8356\n",
      "Epoch 76/100\n",
      "8000/8000 [==============================] - 1s 65us/step - loss: 0.3946 - accuracy: 0.8357\n",
      "Epoch 77/100\n",
      "8000/8000 [==============================] - 1s 65us/step - loss: 0.3950 - accuracy: 0.8365\n",
      "Epoch 78/100\n",
      "8000/8000 [==============================] - 1s 64us/step - loss: 0.3943 - accuracy: 0.8364\n",
      "Epoch 79/100\n",
      "8000/8000 [==============================] - 1s 63us/step - loss: 0.3941 - accuracy: 0.8366\n",
      "Epoch 80/100\n",
      "8000/8000 [==============================] - 1s 64us/step - loss: 0.3943 - accuracy: 0.8366\n",
      "Epoch 81/100\n",
      "8000/8000 [==============================] - 1s 63us/step - loss: 0.3934 - accuracy: 0.8372\n",
      "Epoch 82/100\n",
      "8000/8000 [==============================] - 1s 63us/step - loss: 0.3946 - accuracy: 0.8351\n",
      "Epoch 83/100\n",
      "8000/8000 [==============================] - 0s 61us/step - loss: 0.3945 - accuracy: 0.8371\n",
      "Epoch 84/100\n",
      "8000/8000 [==============================] - 0s 62us/step - loss: 0.3941 - accuracy: 0.8349\n",
      "Epoch 85/100\n",
      "8000/8000 [==============================] - 1s 63us/step - loss: 0.3939 - accuracy: 0.8367\n",
      "Epoch 86/100\n",
      "8000/8000 [==============================] - 1s 64us/step - loss: 0.3941 - accuracy: 0.8369\n",
      "Epoch 87/100\n",
      "8000/8000 [==============================] - 1s 64us/step - loss: 0.3939 - accuracy: 0.8372\n",
      "Epoch 88/100\n",
      "8000/8000 [==============================] - 1s 64us/step - loss: 0.3943 - accuracy: 0.8376\n",
      "Epoch 89/100\n",
      "8000/8000 [==============================] - 1s 64us/step - loss: 0.3936 - accuracy: 0.8369\n",
      "Epoch 90/100\n",
      "8000/8000 [==============================] - 1s 64us/step - loss: 0.3928 - accuracy: 0.8360\n",
      "Epoch 91/100\n",
      "8000/8000 [==============================] - 1s 64us/step - loss: 0.3917 - accuracy: 0.8379\n",
      "Epoch 92/100\n",
      "8000/8000 [==============================] - 1s 63us/step - loss: 0.3894 - accuracy: 0.8367\n",
      "Epoch 93/100\n",
      "8000/8000 [==============================] - 1s 64us/step - loss: 0.3870 - accuracy: 0.8376\n",
      "Epoch 94/100\n",
      "8000/8000 [==============================] - 1s 64us/step - loss: 0.3823 - accuracy: 0.8393\n",
      "Epoch 95/100\n",
      "8000/8000 [==============================] - 0s 62us/step - loss: 0.3768 - accuracy: 0.8389\n",
      "Epoch 96/100\n",
      "8000/8000 [==============================] - 1s 64us/step - loss: 0.3733 - accuracy: 0.8430\n",
      "Epoch 97/100\n",
      "8000/8000 [==============================] - 0s 62us/step - loss: 0.3700 - accuracy: 0.8445\n",
      "Epoch 98/100\n",
      "8000/8000 [==============================] - 1s 64us/step - loss: 0.3651 - accuracy: 0.8482\n",
      "Epoch 99/100\n",
      "8000/8000 [==============================] - 1s 64us/step - loss: 0.3633 - accuracy: 0.8511\n",
      "Epoch 100/100\n",
      "8000/8000 [==============================] - 1s 64us/step - loss: 0.3601 - accuracy: 0.8537\n"
     ]
    },
    {
     "data": {
      "text/plain": [
       "<keras.callbacks.callbacks.History at 0x2068ee35ac8>"
      ]
     },
     "execution_count": 29,
     "metadata": {},
     "output_type": "execute_result"
    }
   ],
   "source": [
    "classifier.fit(X_train,y_train,batch_size=10,epochs=100)"
   ]
  },
  {
   "cell_type": "code",
   "execution_count": 30,
   "metadata": {},
   "outputs": [],
   "source": [
    "#y_pred=classifier.predict(X_test)"
   ]
  },
  {
   "cell_type": "markdown",
   "metadata": {},
   "source": [
    "### Predict on Test Data"
   ]
  },
  {
   "cell_type": "code",
   "execution_count": 31,
   "metadata": {},
   "outputs": [],
   "source": [
    "y_pred = classifier.predict(X_test)\n",
    "y_pred = (y_pred>0.5)"
   ]
  },
  {
   "cell_type": "code",
   "execution_count": 32,
   "metadata": {},
   "outputs": [],
   "source": [
    "from sklearn.metrics import confusion_matrix,accuracy_score"
   ]
  },
  {
   "cell_type": "code",
   "execution_count": 33,
   "metadata": {},
   "outputs": [],
   "source": [
    "cm=confusion_matrix(y_test,y_pred)"
   ]
  },
  {
   "cell_type": "markdown",
   "metadata": {},
   "source": [
    "### Confusion_Matrix"
   ]
  },
  {
   "cell_type": "code",
   "execution_count": 34,
   "metadata": {},
   "outputs": [
    {
     "data": {
      "text/plain": [
       "array([[1536,   84],\n",
       "       [ 192,  188]], dtype=int64)"
      ]
     },
     "execution_count": 34,
     "metadata": {},
     "output_type": "execute_result"
    }
   ],
   "source": [
    "cm"
   ]
  },
  {
   "cell_type": "code",
   "execution_count": 35,
   "metadata": {},
   "outputs": [],
   "source": [
    "ac=accuracy_score(y_test,y_pred)"
   ]
  },
  {
   "cell_type": "markdown",
   "metadata": {},
   "source": [
    "### Accuracy"
   ]
  },
  {
   "cell_type": "code",
   "execution_count": 36,
   "metadata": {},
   "outputs": [
    {
     "data": {
      "text/plain": [
       "0.862"
      ]
     },
     "execution_count": 36,
     "metadata": {},
     "output_type": "execute_result"
    }
   ],
   "source": [
    "ac"
   ]
  },
  {
   "cell_type": "code",
   "execution_count": null,
   "metadata": {},
   "outputs": [],
   "source": []
  }
 ],
 "metadata": {
  "kernelspec": {
   "display_name": "Python 3",
   "language": "python",
   "name": "python3"
  },
  "language_info": {
   "codemirror_mode": {
    "name": "ipython",
    "version": 3
   },
   "file_extension": ".py",
   "mimetype": "text/x-python",
   "name": "python",
   "nbconvert_exporter": "python",
   "pygments_lexer": "ipython3",
   "version": "3.7.3"
  }
 },
 "nbformat": 4,
 "nbformat_minor": 4
}
