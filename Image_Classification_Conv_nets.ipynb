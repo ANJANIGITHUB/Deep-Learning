{
 "cells": [
  {
   "cell_type": "code",
   "execution_count": 1,
   "metadata": {},
   "outputs": [
    {
     "name": "stderr",
     "output_type": "stream",
     "text": [
      "Using TensorFlow backend.\n"
     ]
    }
   ],
   "source": [
    "import keras"
   ]
  },
  {
   "cell_type": "code",
   "execution_count": 2,
   "metadata": {},
   "outputs": [],
   "source": [
    "from keras.models import Sequential\n",
    "from keras.layers import Conv2D,MaxPooling2D\n",
    "from keras.layers import Activation,Flatten,Dense,Dropout\n",
    "from keras.preprocessing.image import ImageDataGenerator,img_to_array,array_to_img,load_img\n",
    "from keras import backend as K"
   ]
  },
  {
   "cell_type": "code",
   "execution_count": 3,
   "metadata": {},
   "outputs": [],
   "source": [
    "model=Sequential()"
   ]
  },
  {
   "cell_type": "code",
   "execution_count": 4,
   "metadata": {},
   "outputs": [],
   "source": [
    "# dimensions of our images.\n",
    "img_width, img_height = 150, 150\n",
    "\n",
    "train_data_dir = 'data/train'\n",
    "validation_data_dir = 'data/validation'\n",
    "nb_train_samples = 2000\n",
    "nb_validation_samples = 800\n",
    "epochs = 100\n",
    "batch_size = 16\n",
    "\n",
    "if K.image_data_format() == 'channels_first':\n",
    "    input_shape = (3, img_width, img_height)\n",
    "else:\n",
    "    input_shape = (img_width, img_height, 3)"
   ]
  },
  {
   "cell_type": "markdown",
   "metadata": {},
   "source": [
    "### First Layer"
   ]
  },
  {
   "cell_type": "code",
   "execution_count": 5,
   "metadata": {},
   "outputs": [],
   "source": [
    "model.add(Conv2D(32,(3,3),input_shape=input_shape))\n",
    "model.add(Activation('relu'))\n",
    "model.add(MaxPooling2D(pool_size=(2,2)))"
   ]
  },
  {
   "cell_type": "markdown",
   "metadata": {},
   "source": [
    "### Second Layer "
   ]
  },
  {
   "cell_type": "code",
   "execution_count": 6,
   "metadata": {},
   "outputs": [],
   "source": [
    "model.add(Conv2D(32,(3,3)))\n",
    "model.add(Activation('relu'))\n",
    "model.add(MaxPooling2D(pool_size=(2,2)))"
   ]
  },
  {
   "cell_type": "markdown",
   "metadata": {},
   "source": [
    "### Third Layer"
   ]
  },
  {
   "cell_type": "code",
   "execution_count": 7,
   "metadata": {},
   "outputs": [],
   "source": [
    "model.add(Conv2D(64,(3,3)))\n",
    "model.add(Activation('relu'))\n",
    "model.add(MaxPooling2D(pool_size=(2,2)))\n",
    "# the model so far outputs 3D feature maps (height, width, features)"
   ]
  },
  {
   "cell_type": "code",
   "execution_count": 8,
   "metadata": {},
   "outputs": [],
   "source": [
    "model.add(Flatten())# this converts our 3D feature maps to 1D feature vectors"
   ]
  },
  {
   "cell_type": "code",
   "execution_count": 9,
   "metadata": {},
   "outputs": [],
   "source": [
    "model.add(Dense(64))\n",
    "model.add(Activation('relu'))"
   ]
  },
  {
   "cell_type": "code",
   "execution_count": 10,
   "metadata": {},
   "outputs": [],
   "source": [
    "model.add(Dropout(0.5))"
   ]
  },
  {
   "cell_type": "code",
   "execution_count": 11,
   "metadata": {},
   "outputs": [],
   "source": [
    "model.add(Dense(1))\n",
    "model.add(Activation('sigmoid'))"
   ]
  },
  {
   "cell_type": "markdown",
   "metadata": {},
   "source": [
    "### Compile Model"
   ]
  },
  {
   "cell_type": "code",
   "execution_count": 12,
   "metadata": {},
   "outputs": [],
   "source": [
    "model.compile(loss='binary_crossentropy',optimizer='rmsprop',metrics=['accuracy'])"
   ]
  },
  {
   "cell_type": "markdown",
   "metadata": {},
   "source": [
    "### Prepare Dataset"
   ]
  },
  {
   "cell_type": "code",
   "execution_count": 13,
   "metadata": {},
   "outputs": [],
   "source": [
    "# this is the augmentation configuration we will use for training\n",
    "train_datagen=ImageDataGenerator(rescale=1./255,\n",
    "        shear_range=0.2,\n",
    "        zoom_range=0.2,\n",
    "        horizontal_flip=True)"
   ]
  },
  {
   "cell_type": "code",
   "execution_count": 14,
   "metadata": {},
   "outputs": [],
   "source": [
    "# this is the augmentation configuration we will use for testing:\n",
    "# only rescaling\n",
    "test_datagen=ImageDataGenerator(rescale=1./255)"
   ]
  },
  {
   "cell_type": "code",
   "execution_count": 15,
   "metadata": {},
   "outputs": [
    {
     "name": "stdout",
     "output_type": "stream",
     "text": [
      "Found 2000 images belonging to 2 classes.\n"
     ]
    }
   ],
   "source": [
    "train_generator=train_datagen.flow_from_directory('preview/train',\n",
    "                                                  target_size=(150,150),\n",
    "                                                  batch_size=batch_size,\n",
    "                                                  class_mode='binary')"
   ]
  },
  {
   "cell_type": "code",
   "execution_count": 16,
   "metadata": {},
   "outputs": [
    {
     "name": "stdout",
     "output_type": "stream",
     "text": [
      "Found 800 images belonging to 2 classes.\n"
     ]
    }
   ],
   "source": [
    "# this is a similar generator, for validation data\n",
    "validation_generator = test_datagen.flow_from_directory(\n",
    "        'preview/validation',\n",
    "        target_size=(img_width, img_height),\n",
    "        batch_size=batch_size,\n",
    "        class_mode='binary')"
   ]
  },
  {
   "cell_type": "markdown",
   "metadata": {},
   "source": [
    "### Train Model"
   ]
  },
  {
   "cell_type": "code",
   "execution_count": 17,
   "metadata": {},
   "outputs": [
    {
     "name": "stdout",
     "output_type": "stream",
     "text": [
      "Epoch 1/100\n",
      "125/125 [==============================] - 28s 223ms/step - loss: 0.6931 - accuracy: 0.5400 - val_loss: 0.6283 - val_accuracy: 0.6438\n",
      "Epoch 2/100\n",
      "125/125 [==============================] - 29s 235ms/step - loss: 0.6543 - accuracy: 0.6240 - val_loss: 0.5970 - val_accuracy: 0.6687\n",
      "Epoch 3/100\n",
      "125/125 [==============================] - 29s 233ms/step - loss: 0.6282 - accuracy: 0.6525 - val_loss: 0.6749 - val_accuracy: 0.6662\n",
      "Epoch 4/100\n",
      "125/125 [==============================] - 29s 233ms/step - loss: 0.6139 - accuracy: 0.6730 - val_loss: 0.5010 - val_accuracy: 0.6538\n",
      "Epoch 5/100\n",
      "125/125 [==============================] - 29s 232ms/step - loss: 0.6000 - accuracy: 0.6815 - val_loss: 0.5796 - val_accuracy: 0.6963\n",
      "Epoch 6/100\n",
      "125/125 [==============================] - 29s 232ms/step - loss: 0.5685 - accuracy: 0.7100 - val_loss: 0.7005 - val_accuracy: 0.5825\n",
      "Epoch 7/100\n",
      "125/125 [==============================] - 29s 232ms/step - loss: 0.5655 - accuracy: 0.7105 - val_loss: 0.6232 - val_accuracy: 0.7050\n",
      "Epoch 8/100\n",
      "125/125 [==============================] - 29s 233ms/step - loss: 0.5532 - accuracy: 0.7235 - val_loss: 0.2603 - val_accuracy: 0.7262\n",
      "Epoch 9/100\n",
      "125/125 [==============================] - 29s 232ms/step - loss: 0.5374 - accuracy: 0.7280 - val_loss: 0.6015 - val_accuracy: 0.7200\n",
      "Epoch 10/100\n",
      "125/125 [==============================] - 29s 232ms/step - loss: 0.5288 - accuracy: 0.7465 - val_loss: 0.5257 - val_accuracy: 0.6513\n",
      "Epoch 11/100\n",
      "125/125 [==============================] - 29s 234ms/step - loss: 0.5324 - accuracy: 0.7375 - val_loss: 0.6634 - val_accuracy: 0.7563\n",
      "Epoch 12/100\n",
      "125/125 [==============================] - 29s 233ms/step - loss: 0.4964 - accuracy: 0.7615 - val_loss: 0.6230 - val_accuracy: 0.6775\n",
      "Epoch 13/100\n",
      "125/125 [==============================] - 30s 237ms/step - loss: 0.5085 - accuracy: 0.7625 - val_loss: 0.5327 - val_accuracy: 0.7575\n",
      "Epoch 14/100\n",
      "125/125 [==============================] - 29s 234ms/step - loss: 0.4975 - accuracy: 0.7640 - val_loss: 0.4048 - val_accuracy: 0.7525\n",
      "Epoch 15/100\n",
      "125/125 [==============================] - 29s 232ms/step - loss: 0.4846 - accuracy: 0.7760 - val_loss: 0.8364 - val_accuracy: 0.7450\n",
      "Epoch 16/100\n",
      "125/125 [==============================] - 29s 232ms/step - loss: 0.4876 - accuracy: 0.7805 - val_loss: 0.7480 - val_accuracy: 0.7650\n",
      "Epoch 17/100\n",
      "125/125 [==============================] - 29s 233ms/step - loss: 0.4624 - accuracy: 0.7890 - val_loss: 0.8080 - val_accuracy: 0.7450\n",
      "Epoch 18/100\n",
      "125/125 [==============================] - 29s 232ms/step - loss: 0.4514 - accuracy: 0.7985 - val_loss: 0.3570 - val_accuracy: 0.7788\n",
      "Epoch 19/100\n",
      "125/125 [==============================] - 29s 234ms/step - loss: 0.4650 - accuracy: 0.8000 - val_loss: 0.3150 - val_accuracy: 0.7750\n",
      "Epoch 20/100\n",
      "125/125 [==============================] - 31s 244ms/step - loss: 0.4607 - accuracy: 0.7950 - val_loss: 0.4797 - val_accuracy: 0.7800\n",
      "Epoch 21/100\n",
      "125/125 [==============================] - 29s 234ms/step - loss: 0.4427 - accuracy: 0.8060 - val_loss: 0.1816 - val_accuracy: 0.7862\n",
      "Epoch 22/100\n",
      "125/125 [==============================] - 29s 232ms/step - loss: 0.4410 - accuracy: 0.8110 - val_loss: 0.4361 - val_accuracy: 0.7887\n",
      "Epoch 23/100\n",
      "125/125 [==============================] - 29s 236ms/step - loss: 0.4510 - accuracy: 0.7980 - val_loss: 0.8255 - val_accuracy: 0.7588\n",
      "Epoch 24/100\n",
      "125/125 [==============================] - 29s 232ms/step - loss: 0.4244 - accuracy: 0.8190 - val_loss: 0.5874 - val_accuracy: 0.7937\n",
      "Epoch 25/100\n",
      "125/125 [==============================] - 29s 232ms/step - loss: 0.4132 - accuracy: 0.8150 - val_loss: 0.9263 - val_accuracy: 0.7713\n",
      "Epoch 26/100\n",
      "125/125 [==============================] - 29s 234ms/step - loss: 0.4110 - accuracy: 0.8115 - val_loss: 0.4148 - val_accuracy: 0.7750\n",
      "Epoch 27/100\n",
      "125/125 [==============================] - 30s 242ms/step - loss: 0.4166 - accuracy: 0.8200 - val_loss: 0.2915 - val_accuracy: 0.7663\n",
      "Epoch 28/100\n",
      "125/125 [==============================] - 31s 244ms/step - loss: 0.4160 - accuracy: 0.8150 - val_loss: 0.5439 - val_accuracy: 0.7513\n",
      "Epoch 29/100\n",
      "125/125 [==============================] - 31s 245ms/step - loss: 0.4072 - accuracy: 0.8330 - val_loss: 0.7526 - val_accuracy: 0.7550\n",
      "Epoch 30/100\n",
      "125/125 [==============================] - 31s 250ms/step - loss: 0.4008 - accuracy: 0.8330 - val_loss: 0.2696 - val_accuracy: 0.8125\n",
      "Epoch 31/100\n",
      "125/125 [==============================] - 31s 244ms/step - loss: 0.4018 - accuracy: 0.8265 - val_loss: 0.2006 - val_accuracy: 0.7862\n",
      "Epoch 32/100\n",
      "125/125 [==============================] - 31s 244ms/step - loss: 0.4005 - accuracy: 0.8360 - val_loss: 0.2837 - val_accuracy: 0.7713\n",
      "Epoch 33/100\n",
      "125/125 [==============================] - 31s 247ms/step - loss: 0.4103 - accuracy: 0.8335 - val_loss: 0.2468 - val_accuracy: 0.7800\n",
      "Epoch 34/100\n",
      "125/125 [==============================] - 31s 244ms/step - loss: 0.3956 - accuracy: 0.8305 - val_loss: 0.7385 - val_accuracy: 0.7812\n",
      "Epoch 35/100\n",
      "125/125 [==============================] - 31s 246ms/step - loss: 0.3926 - accuracy: 0.8325 - val_loss: 0.3334 - val_accuracy: 0.7925\n",
      "Epoch 36/100\n",
      "125/125 [==============================] - 30s 244ms/step - loss: 0.4003 - accuracy: 0.8240 - val_loss: 0.4224 - val_accuracy: 0.8062\n",
      "Epoch 37/100\n",
      "125/125 [==============================] - 30s 241ms/step - loss: 0.3954 - accuracy: 0.8305 - val_loss: 0.3237 - val_accuracy: 0.7800\n",
      "Epoch 38/100\n",
      "125/125 [==============================] - 29s 233ms/step - loss: 0.3892 - accuracy: 0.8400 - val_loss: 0.5346 - val_accuracy: 0.7900\n",
      "Epoch 39/100\n",
      "125/125 [==============================] - 29s 233ms/step - loss: 0.3996 - accuracy: 0.8295 - val_loss: 1.0780 - val_accuracy: 0.7887\n",
      "Epoch 40/100\n",
      "125/125 [==============================] - 29s 232ms/step - loss: 0.4054 - accuracy: 0.8355 - val_loss: 0.8754 - val_accuracy: 0.7987\n",
      "Epoch 41/100\n",
      "125/125 [==============================] - 29s 233ms/step - loss: 0.3784 - accuracy: 0.8455 - val_loss: 0.4439 - val_accuracy: 0.7900\n",
      "Epoch 42/100\n",
      "125/125 [==============================] - 29s 232ms/step - loss: 0.3861 - accuracy: 0.8420 - val_loss: 0.4897 - val_accuracy: 0.7900\n",
      "Epoch 43/100\n",
      "125/125 [==============================] - 30s 237ms/step - loss: 0.3922 - accuracy: 0.8590 - val_loss: 0.2256 - val_accuracy: 0.7925\n",
      "Epoch 44/100\n",
      "125/125 [==============================] - 29s 235ms/step - loss: 0.3824 - accuracy: 0.8510 - val_loss: 0.5879 - val_accuracy: 0.7437\n",
      "Epoch 45/100\n",
      "125/125 [==============================] - 29s 235ms/step - loss: 0.3770 - accuracy: 0.8400 - val_loss: 0.3601 - val_accuracy: 0.7625\n",
      "Epoch 46/100\n",
      "125/125 [==============================] - 29s 235ms/step - loss: 0.4054 - accuracy: 0.8345 - val_loss: 1.0653 - val_accuracy: 0.7962\n",
      "Epoch 47/100\n",
      "125/125 [==============================] - 29s 234ms/step - loss: 0.3891 - accuracy: 0.8535 - val_loss: 0.7539 - val_accuracy: 0.7738\n",
      "Epoch 48/100\n",
      "125/125 [==============================] - 29s 234ms/step - loss: 0.3746 - accuracy: 0.8475 - val_loss: 1.9768 - val_accuracy: 0.7200\n",
      "Epoch 49/100\n",
      "125/125 [==============================] - 29s 233ms/step - loss: 0.3772 - accuracy: 0.8440 - val_loss: 0.4161 - val_accuracy: 0.7800\n",
      "Epoch 50/100\n",
      "125/125 [==============================] - 29s 231ms/step - loss: 0.3911 - accuracy: 0.8475 - val_loss: 0.4195 - val_accuracy: 0.7937\n",
      "Epoch 51/100\n",
      "125/125 [==============================] - 29s 233ms/step - loss: 0.3680 - accuracy: 0.8445 - val_loss: 0.4147 - val_accuracy: 0.7800\n",
      "Epoch 52/100\n",
      "125/125 [==============================] - 29s 232ms/step - loss: 0.3732 - accuracy: 0.8465 - val_loss: 0.4082 - val_accuracy: 0.7962\n",
      "Epoch 53/100\n",
      "125/125 [==============================] - 30s 239ms/step - loss: 0.3786 - accuracy: 0.8460 - val_loss: 0.6457 - val_accuracy: 0.7925\n",
      "Epoch 54/100\n",
      "125/125 [==============================] - 29s 233ms/step - loss: 0.3771 - accuracy: 0.8445 - val_loss: 0.6816 - val_accuracy: 0.7962\n",
      "Epoch 55/100\n",
      "125/125 [==============================] - 29s 233ms/step - loss: 0.4012 - accuracy: 0.8580 - val_loss: 0.4968 - val_accuracy: 0.7775\n",
      "Epoch 56/100\n",
      "125/125 [==============================] - 29s 232ms/step - loss: 0.3921 - accuracy: 0.8465 - val_loss: 0.7466 - val_accuracy: 0.8025\n",
      "Epoch 57/100\n",
      "125/125 [==============================] - 30s 243ms/step - loss: 0.3966 - accuracy: 0.8440 - val_loss: 0.5650 - val_accuracy: 0.7812\n",
      "Epoch 58/100\n",
      "125/125 [==============================] - 30s 243ms/step - loss: 0.3834 - accuracy: 0.8490 - val_loss: 0.5018 - val_accuracy: 0.8000\n",
      "Epoch 59/100\n",
      "125/125 [==============================] - 31s 245ms/step - loss: 0.3828 - accuracy: 0.8490 - val_loss: 0.4006 - val_accuracy: 0.7675\n",
      "Epoch 60/100\n",
      "125/125 [==============================] - 30s 243ms/step - loss: 0.3958 - accuracy: 0.8435 - val_loss: 0.4086 - val_accuracy: 0.7588\n",
      "Epoch 61/100\n",
      "125/125 [==============================] - 31s 244ms/step - loss: 0.3780 - accuracy: 0.8540 - val_loss: 1.8721 - val_accuracy: 0.6913\n",
      "Epoch 62/100\n",
      "125/125 [==============================] - 31s 244ms/step - loss: 0.3809 - accuracy: 0.8450 - val_loss: 0.8694 - val_accuracy: 0.7225\n",
      "Epoch 63/100\n",
      "125/125 [==============================] - 31s 249ms/step - loss: 0.4092 - accuracy: 0.8305 - val_loss: 0.6867 - val_accuracy: 0.7425\n",
      "Epoch 64/100\n",
      "125/125 [==============================] - 31s 245ms/step - loss: 0.4018 - accuracy: 0.8410 - val_loss: 0.4209 - val_accuracy: 0.7837\n",
      "Epoch 65/100\n",
      "125/125 [==============================] - 31s 248ms/step - loss: 0.3972 - accuracy: 0.8555 - val_loss: 0.3314 - val_accuracy: 0.7862\n",
      "Epoch 66/100\n",
      "125/125 [==============================] - 30s 243ms/step - loss: 0.3780 - accuracy: 0.8455 - val_loss: 0.4487 - val_accuracy: 0.8050\n",
      "Epoch 67/100\n",
      "125/125 [==============================] - 31s 244ms/step - loss: 0.3963 - accuracy: 0.8410 - val_loss: 0.9558 - val_accuracy: 0.7837\n",
      "Epoch 68/100\n",
      "125/125 [==============================] - 29s 232ms/step - loss: 0.3739 - accuracy: 0.8440 - val_loss: 1.4228 - val_accuracy: 0.7788\n",
      "Epoch 69/100\n",
      "125/125 [==============================] - 29s 235ms/step - loss: 0.3630 - accuracy: 0.8570 - val_loss: 0.4269 - val_accuracy: 0.7925\n",
      "Epoch 70/100\n",
      "125/125 [==============================] - 30s 238ms/step - loss: 0.3832 - accuracy: 0.8395 - val_loss: 0.2808 - val_accuracy: 0.7987\n",
      "Epoch 71/100\n",
      "125/125 [==============================] - 30s 238ms/step - loss: 0.3749 - accuracy: 0.8395 - val_loss: 0.6917 - val_accuracy: 0.8025\n",
      "Epoch 72/100\n",
      "125/125 [==============================] - 30s 241ms/step - loss: 0.3378 - accuracy: 0.8590 - val_loss: 0.1540 - val_accuracy: 0.8062\n",
      "Epoch 73/100\n",
      "125/125 [==============================] - 31s 250ms/step - loss: 0.3825 - accuracy: 0.8455 - val_loss: 0.3368 - val_accuracy: 0.7887\n",
      "Epoch 74/100\n",
      "125/125 [==============================] - 31s 249ms/step - loss: 0.3629 - accuracy: 0.8470 - val_loss: 0.4845 - val_accuracy: 0.7875\n",
      "Epoch 75/100\n",
      "125/125 [==============================] - 30s 243ms/step - loss: 0.3713 - accuracy: 0.8510 - val_loss: 0.5038 - val_accuracy: 0.8037\n",
      "Epoch 76/100\n",
      "125/125 [==============================] - 31s 247ms/step - loss: 0.3883 - accuracy: 0.8480 - val_loss: 0.9345 - val_accuracy: 0.7713\n",
      "Epoch 77/100\n",
      "125/125 [==============================] - 31s 247ms/step - loss: 0.3748 - accuracy: 0.8570 - val_loss: 0.5991 - val_accuracy: 0.8075\n",
      "Epoch 78/100\n",
      "125/125 [==============================] - 30s 240ms/step - loss: 0.4093 - accuracy: 0.8465 - val_loss: 1.3531 - val_accuracy: 0.7400\n",
      "Epoch 79/100\n",
      "125/125 [==============================] - 30s 237ms/step - loss: 0.3939 - accuracy: 0.8360 - val_loss: 0.3053 - val_accuracy: 0.7775\n",
      "Epoch 80/100\n",
      "125/125 [==============================] - 29s 233ms/step - loss: 0.4030 - accuracy: 0.8340 - val_loss: 0.6779 - val_accuracy: 0.7800\n",
      "Epoch 81/100\n",
      "125/125 [==============================] - 29s 234ms/step - loss: 0.3759 - accuracy: 0.8430 - val_loss: 0.3071 - val_accuracy: 0.7900\n",
      "Epoch 82/100\n",
      "125/125 [==============================] - 29s 233ms/step - loss: 0.3717 - accuracy: 0.8510 - val_loss: 0.5550 - val_accuracy: 0.7862\n",
      "Epoch 83/100\n",
      "125/125 [==============================] - 30s 239ms/step - loss: 0.3714 - accuracy: 0.8565 - val_loss: 0.5975 - val_accuracy: 0.7837\n",
      "Epoch 84/100\n",
      "125/125 [==============================] - 29s 233ms/step - loss: 0.3863 - accuracy: 0.8445 - val_loss: 0.3151 - val_accuracy: 0.7937\n",
      "Epoch 85/100\n",
      "125/125 [==============================] - 30s 240ms/step - loss: 0.3585 - accuracy: 0.8665 - val_loss: 1.3595 - val_accuracy: 0.7987\n",
      "Epoch 86/100\n",
      "125/125 [==============================] - 29s 233ms/step - loss: 0.3714 - accuracy: 0.8475 - val_loss: 0.6336 - val_accuracy: 0.7675\n",
      "Epoch 87/100\n",
      "125/125 [==============================] - 30s 244ms/step - loss: 0.3928 - accuracy: 0.8525 - val_loss: 0.9863 - val_accuracy: 0.8200\n",
      "Epoch 88/100\n",
      "125/125 [==============================] - 30s 243ms/step - loss: 0.3441 - accuracy: 0.8575 - val_loss: 0.3674 - val_accuracy: 0.7950\n",
      "Epoch 89/100\n",
      "125/125 [==============================] - 31s 245ms/step - loss: 0.3857 - accuracy: 0.8465 - val_loss: 0.6085 - val_accuracy: 0.7400\n",
      "Epoch 90/100\n",
      "125/125 [==============================] - 30s 244ms/step - loss: 0.3781 - accuracy: 0.8405 - val_loss: 0.4967 - val_accuracy: 0.7887\n",
      "Epoch 91/100\n",
      "125/125 [==============================] - 31s 249ms/step - loss: 0.3880 - accuracy: 0.8405 - val_loss: 0.2382 - val_accuracy: 0.7975\n",
      "Epoch 92/100\n",
      "125/125 [==============================] - 31s 252ms/step - loss: 0.3692 - accuracy: 0.8480 - val_loss: 0.3242 - val_accuracy: 0.8025\n",
      "Epoch 93/100\n",
      "125/125 [==============================] - 33s 263ms/step - loss: 0.4044 - accuracy: 0.8365 - val_loss: 0.2726 - val_accuracy: 0.8225\n",
      "Epoch 94/100\n",
      "125/125 [==============================] - 32s 253ms/step - loss: 0.4249 - accuracy: 0.8345 - val_loss: 0.6264 - val_accuracy: 0.8087\n",
      "Epoch 95/100\n",
      "125/125 [==============================] - 32s 252ms/step - loss: 0.3921 - accuracy: 0.8290 - val_loss: 0.4667 - val_accuracy: 0.7275\n",
      "Epoch 96/100\n",
      "125/125 [==============================] - 32s 257ms/step - loss: 0.3666 - accuracy: 0.8465 - val_loss: 0.7440 - val_accuracy: 0.8062\n",
      "Epoch 97/100\n",
      "125/125 [==============================] - 31s 251ms/step - loss: 0.3672 - accuracy: 0.8605 - val_loss: 1.5482 - val_accuracy: 0.7262\n",
      "Epoch 98/100\n",
      "125/125 [==============================] - 32s 254ms/step - loss: 0.3572 - accuracy: 0.8605 - val_loss: 0.7103 - val_accuracy: 0.7525\n",
      "Epoch 99/100\n",
      "125/125 [==============================] - 31s 248ms/step - loss: 0.3978 - accuracy: 0.8445 - val_loss: 0.9767 - val_accuracy: 0.8100\n",
      "Epoch 100/100\n",
      "125/125 [==============================] - 29s 235ms/step - loss: 0.3931 - accuracy: 0.8480 - val_loss: 0.6995 - val_accuracy: 0.7763\n"
     ]
    }
   ],
   "source": [
    "#Model is trained\n",
    "model.fit_generator(\n",
    "    train_generator,\n",
    "    steps_per_epoch=nb_train_samples // batch_size,\n",
    "    epochs=epochs,\n",
    "    validation_data=validation_generator,\n",
    "    validation_steps=nb_validation_samples // batch_size)\n",
    "\n",
    "#model.save_weights('first_try.h5') \n",
    "model.save('64x3-CNN.model') "
   ]
  },
  {
   "cell_type": "markdown",
   "metadata": {},
   "source": [
    "### Test Model"
   ]
  },
  {
   "cell_type": "code",
   "execution_count": 18,
   "metadata": {},
   "outputs": [],
   "source": [
    "import numpy as np\n",
    "from keras.preprocessing import image"
   ]
  },
  {
   "cell_type": "code",
   "execution_count": 30,
   "metadata": {},
   "outputs": [
    {
     "name": "stdout",
     "output_type": "stream",
     "text": [
      "Cat\n"
     ]
    }
   ],
   "source": [
    "test_image=image.load_img('preview/cat.1014.jpg',target_size=(150,150))\n",
    "test_image=image.img_to_array(test_image)\n",
    "test_image=np.expand_dims(test_image,axis = 0)\n",
    "\n",
    "result=model.predict(test_image)\n",
    "\n",
    "train_generator.class_indices\n",
    "\n",
    "if result[0][0] >=0.5:\n",
    "    prediction='Dog'\n",
    "else:\n",
    "    prediction='Cat'\n",
    "print(prediction)"
   ]
  },
  {
   "cell_type": "code",
   "execution_count": null,
   "metadata": {},
   "outputs": [],
   "source": []
  }
 ],
 "metadata": {
  "kernelspec": {
   "display_name": "Python 3",
   "language": "python",
   "name": "python3"
  },
  "language_info": {
   "codemirror_mode": {
    "name": "ipython",
    "version": 3
   },
   "file_extension": ".py",
   "mimetype": "text/x-python",
   "name": "python",
   "nbconvert_exporter": "python",
   "pygments_lexer": "ipython3",
   "version": "3.7.3"
  }
 },
 "nbformat": 4,
 "nbformat_minor": 4
}
