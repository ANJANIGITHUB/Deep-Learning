{
 "cells": [
  {
   "cell_type": "code",
   "execution_count": 1,
   "metadata": {},
   "outputs": [],
   "source": [
    "import pandas as pd\n",
    "import numpy as np\n",
    "from sklearn.preprocessing import StandardScaler\n",
    "from sklearn.model_selection import train_test_split\n",
    "import matplotlib.pyplot as plt\n",
    "import warnings\n",
    "warnings.filterwarnings('ignore')"
   ]
  },
  {
   "cell_type": "code",
   "execution_count": 2,
   "metadata": {},
   "outputs": [],
   "source": [
    "dataset=pd.read_csv('Churn_Modelling.csv')"
   ]
  },
  {
   "cell_type": "code",
   "execution_count": 3,
   "metadata": {},
   "outputs": [
    {
     "data": {
      "text/html": [
       "<div>\n",
       "<style scoped>\n",
       "    .dataframe tbody tr th:only-of-type {\n",
       "        vertical-align: middle;\n",
       "    }\n",
       "\n",
       "    .dataframe tbody tr th {\n",
       "        vertical-align: top;\n",
       "    }\n",
       "\n",
       "    .dataframe thead th {\n",
       "        text-align: right;\n",
       "    }\n",
       "</style>\n",
       "<table border=\"1\" class=\"dataframe\">\n",
       "  <thead>\n",
       "    <tr style=\"text-align: right;\">\n",
       "      <th></th>\n",
       "      <th>RowNumber</th>\n",
       "      <th>CustomerId</th>\n",
       "      <th>Surname</th>\n",
       "      <th>CreditScore</th>\n",
       "      <th>Geography</th>\n",
       "      <th>Gender</th>\n",
       "      <th>Age</th>\n",
       "      <th>Tenure</th>\n",
       "      <th>Balance</th>\n",
       "      <th>NumOfProducts</th>\n",
       "      <th>HasCrCard</th>\n",
       "      <th>IsActiveMember</th>\n",
       "      <th>EstimatedSalary</th>\n",
       "      <th>Exited</th>\n",
       "    </tr>\n",
       "  </thead>\n",
       "  <tbody>\n",
       "    <tr>\n",
       "      <th>0</th>\n",
       "      <td>1</td>\n",
       "      <td>15634602</td>\n",
       "      <td>Hargrave</td>\n",
       "      <td>619</td>\n",
       "      <td>France</td>\n",
       "      <td>Female</td>\n",
       "      <td>42</td>\n",
       "      <td>2</td>\n",
       "      <td>0.00</td>\n",
       "      <td>1</td>\n",
       "      <td>1</td>\n",
       "      <td>1</td>\n",
       "      <td>101348.88</td>\n",
       "      <td>1</td>\n",
       "    </tr>\n",
       "    <tr>\n",
       "      <th>1</th>\n",
       "      <td>2</td>\n",
       "      <td>15647311</td>\n",
       "      <td>Hill</td>\n",
       "      <td>608</td>\n",
       "      <td>Spain</td>\n",
       "      <td>Female</td>\n",
       "      <td>41</td>\n",
       "      <td>1</td>\n",
       "      <td>83807.86</td>\n",
       "      <td>1</td>\n",
       "      <td>0</td>\n",
       "      <td>1</td>\n",
       "      <td>112542.58</td>\n",
       "      <td>0</td>\n",
       "    </tr>\n",
       "    <tr>\n",
       "      <th>2</th>\n",
       "      <td>3</td>\n",
       "      <td>15619304</td>\n",
       "      <td>Onio</td>\n",
       "      <td>502</td>\n",
       "      <td>France</td>\n",
       "      <td>Female</td>\n",
       "      <td>42</td>\n",
       "      <td>8</td>\n",
       "      <td>159660.80</td>\n",
       "      <td>3</td>\n",
       "      <td>1</td>\n",
       "      <td>0</td>\n",
       "      <td>113931.57</td>\n",
       "      <td>1</td>\n",
       "    </tr>\n",
       "    <tr>\n",
       "      <th>3</th>\n",
       "      <td>4</td>\n",
       "      <td>15701354</td>\n",
       "      <td>Boni</td>\n",
       "      <td>699</td>\n",
       "      <td>France</td>\n",
       "      <td>Female</td>\n",
       "      <td>39</td>\n",
       "      <td>1</td>\n",
       "      <td>0.00</td>\n",
       "      <td>2</td>\n",
       "      <td>0</td>\n",
       "      <td>0</td>\n",
       "      <td>93826.63</td>\n",
       "      <td>0</td>\n",
       "    </tr>\n",
       "    <tr>\n",
       "      <th>4</th>\n",
       "      <td>5</td>\n",
       "      <td>15737888</td>\n",
       "      <td>Mitchell</td>\n",
       "      <td>850</td>\n",
       "      <td>Spain</td>\n",
       "      <td>Female</td>\n",
       "      <td>43</td>\n",
       "      <td>2</td>\n",
       "      <td>125510.82</td>\n",
       "      <td>1</td>\n",
       "      <td>1</td>\n",
       "      <td>1</td>\n",
       "      <td>79084.10</td>\n",
       "      <td>0</td>\n",
       "    </tr>\n",
       "  </tbody>\n",
       "</table>\n",
       "</div>"
      ],
      "text/plain": [
       "   RowNumber  CustomerId   Surname  CreditScore Geography  Gender  Age  \\\n",
       "0          1    15634602  Hargrave          619    France  Female   42   \n",
       "1          2    15647311      Hill          608     Spain  Female   41   \n",
       "2          3    15619304      Onio          502    France  Female   42   \n",
       "3          4    15701354      Boni          699    France  Female   39   \n",
       "4          5    15737888  Mitchell          850     Spain  Female   43   \n",
       "\n",
       "   Tenure    Balance  NumOfProducts  HasCrCard  IsActiveMember  \\\n",
       "0       2       0.00              1          1               1   \n",
       "1       1   83807.86              1          0               1   \n",
       "2       8  159660.80              3          1               0   \n",
       "3       1       0.00              2          0               0   \n",
       "4       2  125510.82              1          1               1   \n",
       "\n",
       "   EstimatedSalary  Exited  \n",
       "0        101348.88       1  \n",
       "1        112542.58       0  \n",
       "2        113931.57       1  \n",
       "3         93826.63       0  \n",
       "4         79084.10       0  "
      ]
     },
     "execution_count": 3,
     "metadata": {},
     "output_type": "execute_result"
    }
   ],
   "source": [
    "dataset.head()"
   ]
  },
  {
   "cell_type": "code",
   "execution_count": 4,
   "metadata": {},
   "outputs": [
    {
     "data": {
      "text/plain": [
       "RowNumber          10000\n",
       "CustomerId         10000\n",
       "Surname            10000\n",
       "CreditScore        10000\n",
       "Geography          10000\n",
       "Gender             10000\n",
       "Age                10000\n",
       "Tenure             10000\n",
       "Balance            10000\n",
       "NumOfProducts      10000\n",
       "HasCrCard          10000\n",
       "IsActiveMember     10000\n",
       "EstimatedSalary    10000\n",
       "Exited             10000\n",
       "dtype: int64"
      ]
     },
     "execution_count": 4,
     "metadata": {},
     "output_type": "execute_result"
    }
   ],
   "source": [
    "dataset.isnull().count()"
   ]
  },
  {
   "cell_type": "markdown",
   "metadata": {},
   "source": [
    "### Select Columns required for model"
   ]
  },
  {
   "cell_type": "code",
   "execution_count": 5,
   "metadata": {},
   "outputs": [],
   "source": [
    "X=dataset.iloc[:,3:-1]"
   ]
  },
  {
   "cell_type": "code",
   "execution_count": 6,
   "metadata": {},
   "outputs": [],
   "source": [
    "y=dataset.iloc[:,-1]"
   ]
  },
  {
   "cell_type": "code",
   "execution_count": 7,
   "metadata": {},
   "outputs": [
    {
     "data": {
      "text/html": [
       "<div>\n",
       "<style scoped>\n",
       "    .dataframe tbody tr th:only-of-type {\n",
       "        vertical-align: middle;\n",
       "    }\n",
       "\n",
       "    .dataframe tbody tr th {\n",
       "        vertical-align: top;\n",
       "    }\n",
       "\n",
       "    .dataframe thead th {\n",
       "        text-align: right;\n",
       "    }\n",
       "</style>\n",
       "<table border=\"1\" class=\"dataframe\">\n",
       "  <thead>\n",
       "    <tr style=\"text-align: right;\">\n",
       "      <th></th>\n",
       "      <th>CreditScore</th>\n",
       "      <th>Geography</th>\n",
       "      <th>Gender</th>\n",
       "      <th>Age</th>\n",
       "      <th>Tenure</th>\n",
       "      <th>Balance</th>\n",
       "      <th>NumOfProducts</th>\n",
       "      <th>HasCrCard</th>\n",
       "      <th>IsActiveMember</th>\n",
       "      <th>EstimatedSalary</th>\n",
       "    </tr>\n",
       "  </thead>\n",
       "  <tbody>\n",
       "    <tr>\n",
       "      <th>0</th>\n",
       "      <td>619</td>\n",
       "      <td>France</td>\n",
       "      <td>Female</td>\n",
       "      <td>42</td>\n",
       "      <td>2</td>\n",
       "      <td>0.00</td>\n",
       "      <td>1</td>\n",
       "      <td>1</td>\n",
       "      <td>1</td>\n",
       "      <td>101348.88</td>\n",
       "    </tr>\n",
       "    <tr>\n",
       "      <th>1</th>\n",
       "      <td>608</td>\n",
       "      <td>Spain</td>\n",
       "      <td>Female</td>\n",
       "      <td>41</td>\n",
       "      <td>1</td>\n",
       "      <td>83807.86</td>\n",
       "      <td>1</td>\n",
       "      <td>0</td>\n",
       "      <td>1</td>\n",
       "      <td>112542.58</td>\n",
       "    </tr>\n",
       "    <tr>\n",
       "      <th>2</th>\n",
       "      <td>502</td>\n",
       "      <td>France</td>\n",
       "      <td>Female</td>\n",
       "      <td>42</td>\n",
       "      <td>8</td>\n",
       "      <td>159660.80</td>\n",
       "      <td>3</td>\n",
       "      <td>1</td>\n",
       "      <td>0</td>\n",
       "      <td>113931.57</td>\n",
       "    </tr>\n",
       "    <tr>\n",
       "      <th>3</th>\n",
       "      <td>699</td>\n",
       "      <td>France</td>\n",
       "      <td>Female</td>\n",
       "      <td>39</td>\n",
       "      <td>1</td>\n",
       "      <td>0.00</td>\n",
       "      <td>2</td>\n",
       "      <td>0</td>\n",
       "      <td>0</td>\n",
       "      <td>93826.63</td>\n",
       "    </tr>\n",
       "    <tr>\n",
       "      <th>4</th>\n",
       "      <td>850</td>\n",
       "      <td>Spain</td>\n",
       "      <td>Female</td>\n",
       "      <td>43</td>\n",
       "      <td>2</td>\n",
       "      <td>125510.82</td>\n",
       "      <td>1</td>\n",
       "      <td>1</td>\n",
       "      <td>1</td>\n",
       "      <td>79084.10</td>\n",
       "    </tr>\n",
       "  </tbody>\n",
       "</table>\n",
       "</div>"
      ],
      "text/plain": [
       "   CreditScore Geography  Gender  Age  Tenure    Balance  NumOfProducts  \\\n",
       "0          619    France  Female   42       2       0.00              1   \n",
       "1          608     Spain  Female   41       1   83807.86              1   \n",
       "2          502    France  Female   42       8  159660.80              3   \n",
       "3          699    France  Female   39       1       0.00              2   \n",
       "4          850     Spain  Female   43       2  125510.82              1   \n",
       "\n",
       "   HasCrCard  IsActiveMember  EstimatedSalary  \n",
       "0          1               1        101348.88  \n",
       "1          0               1        112542.58  \n",
       "2          1               0        113931.57  \n",
       "3          0               0         93826.63  \n",
       "4          1               1         79084.10  "
      ]
     },
     "execution_count": 7,
     "metadata": {},
     "output_type": "execute_result"
    }
   ],
   "source": [
    "X.head()"
   ]
  },
  {
   "cell_type": "code",
   "execution_count": 8,
   "metadata": {},
   "outputs": [
    {
     "data": {
      "text/plain": [
       "0       1\n",
       "1       0\n",
       "2       1\n",
       "3       0\n",
       "4       0\n",
       "       ..\n",
       "9995    0\n",
       "9996    0\n",
       "9997    1\n",
       "9998    1\n",
       "9999    0\n",
       "Name: Exited, Length: 10000, dtype: int64"
      ]
     },
     "execution_count": 8,
     "metadata": {},
     "output_type": "execute_result"
    }
   ],
   "source": [
    "y"
   ]
  },
  {
   "cell_type": "markdown",
   "metadata": {},
   "source": [
    "### Dummy Variables for Categorical Variables"
   ]
  },
  {
   "cell_type": "code",
   "execution_count": 9,
   "metadata": {},
   "outputs": [],
   "source": [
    "X_Geography=pd.get_dummies(X['Geography'],drop_first=True)"
   ]
  },
  {
   "cell_type": "code",
   "execution_count": 10,
   "metadata": {},
   "outputs": [],
   "source": [
    "X_Gender=pd.get_dummies(X['Gender'],drop_first=True)"
   ]
  },
  {
   "cell_type": "code",
   "execution_count": 11,
   "metadata": {},
   "outputs": [
    {
     "data": {
      "text/html": [
       "<div>\n",
       "<style scoped>\n",
       "    .dataframe tbody tr th:only-of-type {\n",
       "        vertical-align: middle;\n",
       "    }\n",
       "\n",
       "    .dataframe tbody tr th {\n",
       "        vertical-align: top;\n",
       "    }\n",
       "\n",
       "    .dataframe thead th {\n",
       "        text-align: right;\n",
       "    }\n",
       "</style>\n",
       "<table border=\"1\" class=\"dataframe\">\n",
       "  <thead>\n",
       "    <tr style=\"text-align: right;\">\n",
       "      <th></th>\n",
       "      <th>Germany</th>\n",
       "      <th>Spain</th>\n",
       "    </tr>\n",
       "  </thead>\n",
       "  <tbody>\n",
       "    <tr>\n",
       "      <th>0</th>\n",
       "      <td>0</td>\n",
       "      <td>0</td>\n",
       "    </tr>\n",
       "    <tr>\n",
       "      <th>1</th>\n",
       "      <td>0</td>\n",
       "      <td>1</td>\n",
       "    </tr>\n",
       "    <tr>\n",
       "      <th>2</th>\n",
       "      <td>0</td>\n",
       "      <td>0</td>\n",
       "    </tr>\n",
       "    <tr>\n",
       "      <th>3</th>\n",
       "      <td>0</td>\n",
       "      <td>0</td>\n",
       "    </tr>\n",
       "    <tr>\n",
       "      <th>4</th>\n",
       "      <td>0</td>\n",
       "      <td>1</td>\n",
       "    </tr>\n",
       "  </tbody>\n",
       "</table>\n",
       "</div>"
      ],
      "text/plain": [
       "   Germany  Spain\n",
       "0        0      0\n",
       "1        0      1\n",
       "2        0      0\n",
       "3        0      0\n",
       "4        0      1"
      ]
     },
     "execution_count": 11,
     "metadata": {},
     "output_type": "execute_result"
    }
   ],
   "source": [
    "X_Geography.head()"
   ]
  },
  {
   "cell_type": "code",
   "execution_count": 12,
   "metadata": {},
   "outputs": [
    {
     "data": {
      "text/html": [
       "<div>\n",
       "<style scoped>\n",
       "    .dataframe tbody tr th:only-of-type {\n",
       "        vertical-align: middle;\n",
       "    }\n",
       "\n",
       "    .dataframe tbody tr th {\n",
       "        vertical-align: top;\n",
       "    }\n",
       "\n",
       "    .dataframe thead th {\n",
       "        text-align: right;\n",
       "    }\n",
       "</style>\n",
       "<table border=\"1\" class=\"dataframe\">\n",
       "  <thead>\n",
       "    <tr style=\"text-align: right;\">\n",
       "      <th></th>\n",
       "      <th>Male</th>\n",
       "    </tr>\n",
       "  </thead>\n",
       "  <tbody>\n",
       "    <tr>\n",
       "      <th>0</th>\n",
       "      <td>0</td>\n",
       "    </tr>\n",
       "    <tr>\n",
       "      <th>1</th>\n",
       "      <td>0</td>\n",
       "    </tr>\n",
       "    <tr>\n",
       "      <th>2</th>\n",
       "      <td>0</td>\n",
       "    </tr>\n",
       "    <tr>\n",
       "      <th>3</th>\n",
       "      <td>0</td>\n",
       "    </tr>\n",
       "    <tr>\n",
       "      <th>4</th>\n",
       "      <td>0</td>\n",
       "    </tr>\n",
       "  </tbody>\n",
       "</table>\n",
       "</div>"
      ],
      "text/plain": [
       "   Male\n",
       "0     0\n",
       "1     0\n",
       "2     0\n",
       "3     0\n",
       "4     0"
      ]
     },
     "execution_count": 12,
     "metadata": {},
     "output_type": "execute_result"
    }
   ],
   "source": [
    "X_Gender.head()"
   ]
  },
  {
   "cell_type": "code",
   "execution_count": 13,
   "metadata": {},
   "outputs": [],
   "source": [
    "X=pd.concat([X,X_Geography,X_Gender],axis=1)"
   ]
  },
  {
   "cell_type": "markdown",
   "metadata": {},
   "source": [
    "### Drop Columns Geography & Gender"
   ]
  },
  {
   "cell_type": "code",
   "execution_count": 14,
   "metadata": {},
   "outputs": [],
   "source": [
    "X.drop(['Geography','Gender'],axis=1,inplace=True)"
   ]
  },
  {
   "cell_type": "code",
   "execution_count": 15,
   "metadata": {},
   "outputs": [
    {
     "data": {
      "text/html": [
       "<div>\n",
       "<style scoped>\n",
       "    .dataframe tbody tr th:only-of-type {\n",
       "        vertical-align: middle;\n",
       "    }\n",
       "\n",
       "    .dataframe tbody tr th {\n",
       "        vertical-align: top;\n",
       "    }\n",
       "\n",
       "    .dataframe thead th {\n",
       "        text-align: right;\n",
       "    }\n",
       "</style>\n",
       "<table border=\"1\" class=\"dataframe\">\n",
       "  <thead>\n",
       "    <tr style=\"text-align: right;\">\n",
       "      <th></th>\n",
       "      <th>CreditScore</th>\n",
       "      <th>Age</th>\n",
       "      <th>Tenure</th>\n",
       "      <th>Balance</th>\n",
       "      <th>NumOfProducts</th>\n",
       "      <th>HasCrCard</th>\n",
       "      <th>IsActiveMember</th>\n",
       "      <th>EstimatedSalary</th>\n",
       "      <th>Germany</th>\n",
       "      <th>Spain</th>\n",
       "      <th>Male</th>\n",
       "    </tr>\n",
       "  </thead>\n",
       "  <tbody>\n",
       "    <tr>\n",
       "      <th>0</th>\n",
       "      <td>619</td>\n",
       "      <td>42</td>\n",
       "      <td>2</td>\n",
       "      <td>0.00</td>\n",
       "      <td>1</td>\n",
       "      <td>1</td>\n",
       "      <td>1</td>\n",
       "      <td>101348.88</td>\n",
       "      <td>0</td>\n",
       "      <td>0</td>\n",
       "      <td>0</td>\n",
       "    </tr>\n",
       "    <tr>\n",
       "      <th>1</th>\n",
       "      <td>608</td>\n",
       "      <td>41</td>\n",
       "      <td>1</td>\n",
       "      <td>83807.86</td>\n",
       "      <td>1</td>\n",
       "      <td>0</td>\n",
       "      <td>1</td>\n",
       "      <td>112542.58</td>\n",
       "      <td>0</td>\n",
       "      <td>1</td>\n",
       "      <td>0</td>\n",
       "    </tr>\n",
       "    <tr>\n",
       "      <th>2</th>\n",
       "      <td>502</td>\n",
       "      <td>42</td>\n",
       "      <td>8</td>\n",
       "      <td>159660.80</td>\n",
       "      <td>3</td>\n",
       "      <td>1</td>\n",
       "      <td>0</td>\n",
       "      <td>113931.57</td>\n",
       "      <td>0</td>\n",
       "      <td>0</td>\n",
       "      <td>0</td>\n",
       "    </tr>\n",
       "    <tr>\n",
       "      <th>3</th>\n",
       "      <td>699</td>\n",
       "      <td>39</td>\n",
       "      <td>1</td>\n",
       "      <td>0.00</td>\n",
       "      <td>2</td>\n",
       "      <td>0</td>\n",
       "      <td>0</td>\n",
       "      <td>93826.63</td>\n",
       "      <td>0</td>\n",
       "      <td>0</td>\n",
       "      <td>0</td>\n",
       "    </tr>\n",
       "    <tr>\n",
       "      <th>4</th>\n",
       "      <td>850</td>\n",
       "      <td>43</td>\n",
       "      <td>2</td>\n",
       "      <td>125510.82</td>\n",
       "      <td>1</td>\n",
       "      <td>1</td>\n",
       "      <td>1</td>\n",
       "      <td>79084.10</td>\n",
       "      <td>0</td>\n",
       "      <td>1</td>\n",
       "      <td>0</td>\n",
       "    </tr>\n",
       "  </tbody>\n",
       "</table>\n",
       "</div>"
      ],
      "text/plain": [
       "   CreditScore  Age  Tenure    Balance  NumOfProducts  HasCrCard  \\\n",
       "0          619   42       2       0.00              1          1   \n",
       "1          608   41       1   83807.86              1          0   \n",
       "2          502   42       8  159660.80              3          1   \n",
       "3          699   39       1       0.00              2          0   \n",
       "4          850   43       2  125510.82              1          1   \n",
       "\n",
       "   IsActiveMember  EstimatedSalary  Germany  Spain  Male  \n",
       "0               1        101348.88        0      0     0  \n",
       "1               1        112542.58        0      1     0  \n",
       "2               0        113931.57        0      0     0  \n",
       "3               0         93826.63        0      0     0  \n",
       "4               1         79084.10        0      1     0  "
      ]
     },
     "execution_count": 15,
     "metadata": {},
     "output_type": "execute_result"
    }
   ],
   "source": [
    "X.head()"
   ]
  },
  {
   "cell_type": "markdown",
   "metadata": {},
   "source": [
    "### Train Test Split"
   ]
  },
  {
   "cell_type": "code",
   "execution_count": 16,
   "metadata": {},
   "outputs": [],
   "source": [
    "X_train,X_test,y_train,y_test=train_test_split(X,y,test_size=0.20,random_state=0)"
   ]
  },
  {
   "cell_type": "markdown",
   "metadata": {},
   "source": [
    "### Standard Scalling"
   ]
  },
  {
   "cell_type": "code",
   "execution_count": 17,
   "metadata": {},
   "outputs": [],
   "source": [
    "ss=StandardScaler()"
   ]
  },
  {
   "cell_type": "code",
   "execution_count": 18,
   "metadata": {},
   "outputs": [
    {
     "data": {
      "text/plain": [
       "StandardScaler(copy=True, with_mean=True, with_std=True)"
      ]
     },
     "execution_count": 18,
     "metadata": {},
     "output_type": "execute_result"
    }
   ],
   "source": [
    "ss.fit(X_train)"
   ]
  },
  {
   "cell_type": "code",
   "execution_count": 19,
   "metadata": {},
   "outputs": [],
   "source": [
    "X_train=ss.transform(X_train)"
   ]
  },
  {
   "cell_type": "code",
   "execution_count": 20,
   "metadata": {},
   "outputs": [
    {
     "data": {
      "text/plain": [
       "array([[ 0.16958176, -0.46460796,  0.00666099, ..., -0.5698444 ,\n",
       "         1.74309049, -1.09168714],\n",
       "       [-2.30455945,  0.30102557, -1.37744033, ...,  1.75486502,\n",
       "        -0.57369368,  0.91601335],\n",
       "       [-1.19119591, -0.94312892, -1.031415  , ..., -0.5698444 ,\n",
       "        -0.57369368, -1.09168714],\n",
       "       ...,\n",
       "       [ 0.9015152 , -0.36890377,  0.00666099, ..., -0.5698444 ,\n",
       "        -0.57369368,  0.91601335],\n",
       "       [-0.62420521, -0.08179119,  1.39076231, ..., -0.5698444 ,\n",
       "         1.74309049, -1.09168714],\n",
       "       [-0.28401079,  0.87525072, -1.37744033, ...,  1.75486502,\n",
       "        -0.57369368, -1.09168714]])"
      ]
     },
     "execution_count": 20,
     "metadata": {},
     "output_type": "execute_result"
    }
   ],
   "source": [
    "X_train"
   ]
  },
  {
   "cell_type": "code",
   "execution_count": 21,
   "metadata": {},
   "outputs": [
    {
     "data": {
      "text/plain": [
       "StandardScaler(copy=True, with_mean=True, with_std=True)"
      ]
     },
     "execution_count": 21,
     "metadata": {},
     "output_type": "execute_result"
    }
   ],
   "source": [
    "ss.fit(X_test)"
   ]
  },
  {
   "cell_type": "code",
   "execution_count": 22,
   "metadata": {},
   "outputs": [],
   "source": [
    "X_test=ss.transform(X_test)"
   ]
  },
  {
   "cell_type": "code",
   "execution_count": 23,
   "metadata": {},
   "outputs": [
    {
     "data": {
      "text/plain": [
       "array([[-0.56129438, -0.39401698,  0.9869706 , ...,  1.62776996,\n",
       "        -0.57427105, -1.11339196],\n",
       "       [-1.33847768,  0.07611425, -1.08432132, ..., -0.61433742,\n",
       "        -0.57427105, -1.11339196],\n",
       "       [ 0.58347561,  0.26416674,  0.9869706 , ..., -0.61433742,\n",
       "         1.74133801, -1.11339196],\n",
       "       ...,\n",
       "       [-0.76084144, -0.29999074, -1.42953664, ..., -0.61433742,\n",
       "         1.74133801,  0.8981563 ],\n",
       "       [-0.0046631 , -0.48804323, -0.39389068, ...,  1.62776996,\n",
       "        -0.57427105,  0.8981563 ],\n",
       "       [-0.81335383, -0.86414821,  0.9869706 , ...,  1.62776996,\n",
       "        -0.57427105,  0.8981563 ]])"
      ]
     },
     "execution_count": 23,
     "metadata": {},
     "output_type": "execute_result"
    }
   ],
   "source": [
    "X_test"
   ]
  },
  {
   "cell_type": "markdown",
   "metadata": {},
   "source": [
    "### Initialize ANN"
   ]
  },
  {
   "cell_type": "code",
   "execution_count": 24,
   "metadata": {},
   "outputs": [
    {
     "name": "stderr",
     "output_type": "stream",
     "text": [
      "Using TensorFlow backend.\n"
     ]
    }
   ],
   "source": [
    "import keras\n",
    "from keras.models import Sequential\n",
    "from keras.layers import Dense\n",
    "from keras.layers import LeakyReLU,PReLU,ELU\n",
    "from keras.layers import Dropout"
   ]
  },
  {
   "cell_type": "markdown",
   "metadata": {},
   "source": [
    "### Initialize classifier"
   ]
  },
  {
   "cell_type": "code",
   "execution_count": 25,
   "metadata": {},
   "outputs": [],
   "source": [
    "classifier=Sequential()"
   ]
  },
  {
   "cell_type": "markdown",
   "metadata": {},
   "source": [
    "### Add first input layer and first hidden layer"
   ]
  },
  {
   "cell_type": "code",
   "execution_count": 26,
   "metadata": {},
   "outputs": [
    {
     "name": "stdout",
     "output_type": "stream",
     "text": [
      "WARNING:tensorflow:From C:\\Users\\akumar4\\AppData\\Local\\Continuum\\anaconda3\\lib\\site-packages\\tensorflow\\python\\ops\\resource_variable_ops.py:435: colocate_with (from tensorflow.python.framework.ops) is deprecated and will be removed in a future version.\n",
      "Instructions for updating:\n",
      "Colocations handled automatically by placer.\n"
     ]
    }
   ],
   "source": [
    "classifier.add(Dense(units=6,kernel_initializer='he_uniform',activation='relu',input_dim=11))"
   ]
  },
  {
   "cell_type": "markdown",
   "metadata": {},
   "source": [
    "### Mid Layer"
   ]
  },
  {
   "cell_type": "code",
   "execution_count": 27,
   "metadata": {},
   "outputs": [],
   "source": [
    "classifier.add(Dense(units=6,kernel_initializer='he_uniform',activation='relu'))"
   ]
  },
  {
   "cell_type": "markdown",
   "metadata": {},
   "source": [
    "### Output Layer"
   ]
  },
  {
   "cell_type": "code",
   "execution_count": 28,
   "metadata": {},
   "outputs": [],
   "source": [
    "classifier.add(Dense(units=1,init='glorot_uniform',activation='sigmoid'))"
   ]
  },
  {
   "cell_type": "code",
   "execution_count": 29,
   "metadata": {},
   "outputs": [],
   "source": [
    "# Compiling the ANN\n",
    "classifier.compile(optimizer = 'Adamax', loss = 'binary_crossentropy', metrics = ['accuracy'])"
   ]
  },
  {
   "cell_type": "code",
   "execution_count": 30,
   "metadata": {},
   "outputs": [
    {
     "name": "stdout",
     "output_type": "stream",
     "text": [
      "WARNING:tensorflow:From C:\\Users\\akumar4\\AppData\\Local\\Continuum\\anaconda3\\lib\\site-packages\\tensorflow\\python\\ops\\math_ops.py:3066: to_int32 (from tensorflow.python.ops.math_ops) is deprecated and will be removed in a future version.\n",
      "Instructions for updating:\n",
      "Use tf.cast instead.\n",
      "Train on 5359 samples, validate on 2641 samples\n",
      "Epoch 1/100\n",
      "5359/5359 [==============================] - 1s 104us/step - loss: 0.5362 - accuracy: 0.7979 - val_loss: 0.4887 - val_accuracy: 0.8012\n",
      "Epoch 2/100\n",
      "5359/5359 [==============================] - 0s 81us/step - loss: 0.4725 - accuracy: 0.8072 - val_loss: 0.4613 - val_accuracy: 0.8020\n",
      "Epoch 3/100\n",
      "5359/5359 [==============================] - 0s 80us/step - loss: 0.4523 - accuracy: 0.8099 - val_loss: 0.4503 - val_accuracy: 0.8031\n",
      "Epoch 4/100\n",
      "5359/5359 [==============================] - 0s 80us/step - loss: 0.4426 - accuracy: 0.8138 - val_loss: 0.4443 - val_accuracy: 0.8054\n",
      "Epoch 5/100\n",
      "5359/5359 [==============================] - 0s 80us/step - loss: 0.4365 - accuracy: 0.8153 - val_loss: 0.4405 - val_accuracy: 0.8061\n",
      "Epoch 6/100\n",
      "5359/5359 [==============================] - 0s 79us/step - loss: 0.4325 - accuracy: 0.8158 - val_loss: 0.4377 - val_accuracy: 0.8061\n",
      "Epoch 7/100\n",
      "5359/5359 [==============================] - 0s 80us/step - loss: 0.4293 - accuracy: 0.8182 - val_loss: 0.4354 - val_accuracy: 0.8080\n",
      "Epoch 8/100\n",
      "5359/5359 [==============================] - 0s 80us/step - loss: 0.4265 - accuracy: 0.8186 - val_loss: 0.4334 - val_accuracy: 0.8103\n",
      "Epoch 9/100\n",
      "5359/5359 [==============================] - 0s 80us/step - loss: 0.4240 - accuracy: 0.8220 - val_loss: 0.4319 - val_accuracy: 0.8122\n",
      "Epoch 10/100\n",
      "5359/5359 [==============================] - 0s 79us/step - loss: 0.4220 - accuracy: 0.8229 - val_loss: 0.4297 - val_accuracy: 0.8133\n",
      "Epoch 11/100\n",
      "5359/5359 [==============================] - 0s 80us/step - loss: 0.4201 - accuracy: 0.8270 - val_loss: 0.4283 - val_accuracy: 0.8137\n",
      "Epoch 12/100\n",
      "5359/5359 [==============================] - 0s 80us/step - loss: 0.4182 - accuracy: 0.8281 - val_loss: 0.4274 - val_accuracy: 0.8156\n",
      "Epoch 13/100\n",
      "5359/5359 [==============================] - 0s 80us/step - loss: 0.4167 - accuracy: 0.8280 - val_loss: 0.4263 - val_accuracy: 0.8164\n",
      "Epoch 14/100\n",
      "5359/5359 [==============================] - 0s 82us/step - loss: 0.4153 - accuracy: 0.8280 - val_loss: 0.4252 - val_accuracy: 0.8183\n",
      "Epoch 15/100\n",
      "5359/5359 [==============================] - 0s 79us/step - loss: 0.4140 - accuracy: 0.8280 - val_loss: 0.4239 - val_accuracy: 0.8186\n",
      "Epoch 16/100\n",
      "5359/5359 [==============================] - 0s 80us/step - loss: 0.4129 - accuracy: 0.8291 - val_loss: 0.4233 - val_accuracy: 0.8186\n",
      "Epoch 17/100\n",
      "5359/5359 [==============================] - 0s 80us/step - loss: 0.4117 - accuracy: 0.8311 - val_loss: 0.4225 - val_accuracy: 0.8164\n",
      "Epoch 18/100\n",
      "5359/5359 [==============================] - 0s 80us/step - loss: 0.4106 - accuracy: 0.8313 - val_loss: 0.4213 - val_accuracy: 0.8190\n",
      "Epoch 19/100\n",
      "5359/5359 [==============================] - 0s 79us/step - loss: 0.4095 - accuracy: 0.8319 - val_loss: 0.4209 - val_accuracy: 0.8167\n",
      "Epoch 20/100\n",
      "5359/5359 [==============================] - 0s 79us/step - loss: 0.4084 - accuracy: 0.8306 - val_loss: 0.4193 - val_accuracy: 0.8183\n",
      "Epoch 21/100\n",
      "5359/5359 [==============================] - 0s 79us/step - loss: 0.4073 - accuracy: 0.8317 - val_loss: 0.4183 - val_accuracy: 0.8183\n",
      "Epoch 22/100\n",
      "5359/5359 [==============================] - 0s 80us/step - loss: 0.4059 - accuracy: 0.8322 - val_loss: 0.4179 - val_accuracy: 0.8167\n",
      "Epoch 23/100\n",
      "5359/5359 [==============================] - 0s 79us/step - loss: 0.4045 - accuracy: 0.8324 - val_loss: 0.4166 - val_accuracy: 0.8198\n",
      "Epoch 24/100\n",
      "5359/5359 [==============================] - 0s 79us/step - loss: 0.4033 - accuracy: 0.8326 - val_loss: 0.4152 - val_accuracy: 0.8186\n",
      "Epoch 25/100\n",
      "5359/5359 [==============================] - 0s 80us/step - loss: 0.4015 - accuracy: 0.8321 - val_loss: 0.4130 - val_accuracy: 0.8186\n",
      "Epoch 26/100\n",
      "5359/5359 [==============================] - 0s 81us/step - loss: 0.3993 - accuracy: 0.8326 - val_loss: 0.4108 - val_accuracy: 0.8198\n",
      "Epoch 27/100\n",
      "5359/5359 [==============================] - 0s 79us/step - loss: 0.3969 - accuracy: 0.8326 - val_loss: 0.4080 - val_accuracy: 0.8217\n",
      "Epoch 28/100\n",
      "5359/5359 [==============================] - 0s 80us/step - loss: 0.3942 - accuracy: 0.8365 - val_loss: 0.4049 - val_accuracy: 0.8266\n",
      "Epoch 29/100\n",
      "5359/5359 [==============================] - 0s 80us/step - loss: 0.3911 - accuracy: 0.8403 - val_loss: 0.4001 - val_accuracy: 0.8300\n",
      "Epoch 30/100\n",
      "5359/5359 [==============================] - 0s 80us/step - loss: 0.3878 - accuracy: 0.8421 - val_loss: 0.3962 - val_accuracy: 0.8345\n",
      "Epoch 31/100\n",
      "5359/5359 [==============================] - 0s 80us/step - loss: 0.3836 - accuracy: 0.8457 - val_loss: 0.3926 - val_accuracy: 0.8368\n",
      "Epoch 32/100\n",
      "5359/5359 [==============================] - 0s 80us/step - loss: 0.3798 - accuracy: 0.8442 - val_loss: 0.3885 - val_accuracy: 0.8383\n",
      "Epoch 33/100\n",
      "5359/5359 [==============================] - 0s 79us/step - loss: 0.3756 - accuracy: 0.8468 - val_loss: 0.3854 - val_accuracy: 0.8402\n",
      "Epoch 34/100\n",
      "5359/5359 [==============================] - 0s 80us/step - loss: 0.3712 - accuracy: 0.8485 - val_loss: 0.3805 - val_accuracy: 0.8417\n",
      "Epoch 35/100\n",
      "5359/5359 [==============================] - 0s 79us/step - loss: 0.3665 - accuracy: 0.8515 - val_loss: 0.3769 - val_accuracy: 0.8429\n",
      "Epoch 36/100\n",
      "5359/5359 [==============================] - 0s 79us/step - loss: 0.3625 - accuracy: 0.8533 - val_loss: 0.3739 - val_accuracy: 0.8440\n",
      "Epoch 37/100\n",
      "5359/5359 [==============================] - 0s 79us/step - loss: 0.3592 - accuracy: 0.8548 - val_loss: 0.3721 - val_accuracy: 0.8448\n",
      "Epoch 38/100\n",
      "5359/5359 [==============================] - 0s 80us/step - loss: 0.3567 - accuracy: 0.8561 - val_loss: 0.3708 - val_accuracy: 0.8455\n",
      "Epoch 39/100\n",
      "5359/5359 [==============================] - 0s 79us/step - loss: 0.3547 - accuracy: 0.8569 - val_loss: 0.3695 - val_accuracy: 0.8459\n",
      "Epoch 40/100\n",
      "5359/5359 [==============================] - 0s 79us/step - loss: 0.3528 - accuracy: 0.8587 - val_loss: 0.3690 - val_accuracy: 0.8470\n",
      "Epoch 41/100\n",
      "5359/5359 [==============================] - 0s 80us/step - loss: 0.3511 - accuracy: 0.8584 - val_loss: 0.3687 - val_accuracy: 0.8466\n",
      "Epoch 42/100\n",
      "5359/5359 [==============================] - 0s 81us/step - loss: 0.3500 - accuracy: 0.8580 - val_loss: 0.3685 - val_accuracy: 0.8459\n",
      "Epoch 43/100\n",
      "5359/5359 [==============================] - 0s 79us/step - loss: 0.3482 - accuracy: 0.8589 - val_loss: 0.3689 - val_accuracy: 0.8474\n",
      "Epoch 44/100\n",
      "5359/5359 [==============================] - 0s 79us/step - loss: 0.3472 - accuracy: 0.8586 - val_loss: 0.3684 - val_accuracy: 0.8470\n",
      "Epoch 45/100\n",
      "5359/5359 [==============================] - 0s 79us/step - loss: 0.3465 - accuracy: 0.8604 - val_loss: 0.3682 - val_accuracy: 0.8489\n",
      "Epoch 46/100\n",
      "5359/5359 [==============================] - 0s 79us/step - loss: 0.3454 - accuracy: 0.8582 - val_loss: 0.3681 - val_accuracy: 0.8485\n",
      "Epoch 47/100\n",
      "5359/5359 [==============================] - 0s 81us/step - loss: 0.3448 - accuracy: 0.8593 - val_loss: 0.3683 - val_accuracy: 0.8466\n",
      "Epoch 48/100\n",
      "5359/5359 [==============================] - 0s 77us/step - loss: 0.3444 - accuracy: 0.8602 - val_loss: 0.3682 - val_accuracy: 0.8493\n",
      "Epoch 49/100\n",
      "5359/5359 [==============================] - 0s 80us/step - loss: 0.3438 - accuracy: 0.8584 - val_loss: 0.3676 - val_accuracy: 0.8485\n",
      "Epoch 50/100\n",
      "5359/5359 [==============================] - 0s 79us/step - loss: 0.3434 - accuracy: 0.8599 - val_loss: 0.3679 - val_accuracy: 0.8501\n",
      "Epoch 51/100\n",
      "5359/5359 [==============================] - 0s 83us/step - loss: 0.3429 - accuracy: 0.8614 - val_loss: 0.3677 - val_accuracy: 0.8504\n",
      "Epoch 52/100\n",
      "5359/5359 [==============================] - 0s 83us/step - loss: 0.3424 - accuracy: 0.8593 - val_loss: 0.3673 - val_accuracy: 0.8504\n",
      "Epoch 53/100\n",
      "5359/5359 [==============================] - 0s 79us/step - loss: 0.3421 - accuracy: 0.8602 - val_loss: 0.3683 - val_accuracy: 0.8497\n",
      "Epoch 54/100\n",
      "5359/5359 [==============================] - 0s 79us/step - loss: 0.3416 - accuracy: 0.8612 - val_loss: 0.3668 - val_accuracy: 0.8489\n",
      "Epoch 55/100\n",
      "5359/5359 [==============================] - 0s 78us/step - loss: 0.3410 - accuracy: 0.8617 - val_loss: 0.3676 - val_accuracy: 0.8504\n",
      "Epoch 56/100\n",
      "5359/5359 [==============================] - 0s 79us/step - loss: 0.3410 - accuracy: 0.8597 - val_loss: 0.3676 - val_accuracy: 0.8501\n",
      "Epoch 57/100\n",
      "5359/5359 [==============================] - 0s 79us/step - loss: 0.3408 - accuracy: 0.8604 - val_loss: 0.3670 - val_accuracy: 0.8504\n",
      "Epoch 58/100\n",
      "5359/5359 [==============================] - 0s 80us/step - loss: 0.3408 - accuracy: 0.8597 - val_loss: 0.3667 - val_accuracy: 0.8459\n",
      "Epoch 59/100\n",
      "5359/5359 [==============================] - 0s 80us/step - loss: 0.3405 - accuracy: 0.8602 - val_loss: 0.3661 - val_accuracy: 0.8504\n",
      "Epoch 60/100\n",
      "5359/5359 [==============================] - 0s 79us/step - loss: 0.3397 - accuracy: 0.8623 - val_loss: 0.3674 - val_accuracy: 0.8493\n",
      "Epoch 61/100\n",
      "5359/5359 [==============================] - 0s 80us/step - loss: 0.3398 - accuracy: 0.8600 - val_loss: 0.3669 - val_accuracy: 0.8451\n",
      "Epoch 62/100\n",
      "5359/5359 [==============================] - 0s 79us/step - loss: 0.3395 - accuracy: 0.8600 - val_loss: 0.3664 - val_accuracy: 0.8466\n",
      "Epoch 63/100\n",
      "5359/5359 [==============================] - 0s 79us/step - loss: 0.3393 - accuracy: 0.8606 - val_loss: 0.3659 - val_accuracy: 0.8466\n",
      "Epoch 64/100\n",
      "5359/5359 [==============================] - 0s 79us/step - loss: 0.3388 - accuracy: 0.8602 - val_loss: 0.3658 - val_accuracy: 0.8470\n",
      "Epoch 65/100\n",
      "5359/5359 [==============================] - 0s 79us/step - loss: 0.3385 - accuracy: 0.8617 - val_loss: 0.3680 - val_accuracy: 0.8459\n",
      "Epoch 66/100\n",
      "5359/5359 [==============================] - 0s 79us/step - loss: 0.3384 - accuracy: 0.8602 - val_loss: 0.3662 - val_accuracy: 0.8459\n",
      "Epoch 67/100\n",
      "5359/5359 [==============================] - 0s 79us/step - loss: 0.3384 - accuracy: 0.8602 - val_loss: 0.3663 - val_accuracy: 0.8485\n",
      "Epoch 68/100\n",
      "5359/5359 [==============================] - 0s 79us/step - loss: 0.3380 - accuracy: 0.8614 - val_loss: 0.3661 - val_accuracy: 0.8459\n",
      "Epoch 69/100\n",
      "5359/5359 [==============================] - 0s 80us/step - loss: 0.3383 - accuracy: 0.8608 - val_loss: 0.3658 - val_accuracy: 0.8466\n",
      "Epoch 70/100\n",
      "5359/5359 [==============================] - 0s 82us/step - loss: 0.3380 - accuracy: 0.8632 - val_loss: 0.3658 - val_accuracy: 0.8455\n",
      "Epoch 71/100\n",
      "5359/5359 [==============================] - 0s 79us/step - loss: 0.3376 - accuracy: 0.8628 - val_loss: 0.3656 - val_accuracy: 0.8485\n",
      "Epoch 72/100\n",
      "5359/5359 [==============================] - 0s 80us/step - loss: 0.3376 - accuracy: 0.8623 - val_loss: 0.3651 - val_accuracy: 0.8485\n",
      "Epoch 73/100\n",
      "5359/5359 [==============================] - 0s 80us/step - loss: 0.3371 - accuracy: 0.8621 - val_loss: 0.3647 - val_accuracy: 0.8482\n",
      "Epoch 74/100\n",
      "5359/5359 [==============================] - 0s 80us/step - loss: 0.3370 - accuracy: 0.8625 - val_loss: 0.3654 - val_accuracy: 0.8497\n",
      "Epoch 75/100\n",
      "5359/5359 [==============================] - 0s 81us/step - loss: 0.3370 - accuracy: 0.8623 - val_loss: 0.3645 - val_accuracy: 0.8482\n",
      "Epoch 76/100\n",
      "5359/5359 [==============================] - 0s 78us/step - loss: 0.3367 - accuracy: 0.8619 - val_loss: 0.3648 - val_accuracy: 0.8478\n",
      "Epoch 77/100\n",
      "5359/5359 [==============================] - 0s 80us/step - loss: 0.3363 - accuracy: 0.8612 - val_loss: 0.3643 - val_accuracy: 0.8482\n",
      "Epoch 78/100\n",
      "5359/5359 [==============================] - 0s 79us/step - loss: 0.3363 - accuracy: 0.8617 - val_loss: 0.3637 - val_accuracy: 0.8508\n",
      "Epoch 79/100\n",
      "5359/5359 [==============================] - 0s 79us/step - loss: 0.3362 - accuracy: 0.8619 - val_loss: 0.3636 - val_accuracy: 0.8512\n",
      "Epoch 80/100\n",
      "5359/5359 [==============================] - 0s 78us/step - loss: 0.3355 - accuracy: 0.8628 - val_loss: 0.3638 - val_accuracy: 0.8504\n",
      "Epoch 81/100\n",
      "5359/5359 [==============================] - 0s 79us/step - loss: 0.3358 - accuracy: 0.8617 - val_loss: 0.3645 - val_accuracy: 0.8497\n",
      "Epoch 82/100\n",
      "5359/5359 [==============================] - 0s 79us/step - loss: 0.3357 - accuracy: 0.8651 - val_loss: 0.3631 - val_accuracy: 0.8531\n",
      "Epoch 83/100\n",
      "5359/5359 [==============================] - 0s 79us/step - loss: 0.3351 - accuracy: 0.8653 - val_loss: 0.3636 - val_accuracy: 0.8489\n",
      "Epoch 84/100\n",
      "5359/5359 [==============================] - 0s 80us/step - loss: 0.3351 - accuracy: 0.8623 - val_loss: 0.3643 - val_accuracy: 0.8485\n",
      "Epoch 85/100\n",
      "5359/5359 [==============================] - 0s 83us/step - loss: 0.3350 - accuracy: 0.8625 - val_loss: 0.3627 - val_accuracy: 0.8519\n",
      "Epoch 86/100\n",
      "5359/5359 [==============================] - 0s 82us/step - loss: 0.3349 - accuracy: 0.8632 - val_loss: 0.3635 - val_accuracy: 0.8489\n",
      "Epoch 87/100\n",
      "5359/5359 [==============================] - 0s 82us/step - loss: 0.3347 - accuracy: 0.8634 - val_loss: 0.3631 - val_accuracy: 0.8519\n",
      "Epoch 88/100\n",
      "5359/5359 [==============================] - 0s 81us/step - loss: 0.3347 - accuracy: 0.8632 - val_loss: 0.3633 - val_accuracy: 0.8478\n",
      "Epoch 89/100\n",
      "5359/5359 [==============================] - 0s 80us/step - loss: 0.3343 - accuracy: 0.8630 - val_loss: 0.3652 - val_accuracy: 0.8493\n",
      "Epoch 90/100\n",
      "5359/5359 [==============================] - 0s 83us/step - loss: 0.3343 - accuracy: 0.8628 - val_loss: 0.3626 - val_accuracy: 0.8508\n",
      "Epoch 91/100\n",
      "5359/5359 [==============================] - 0s 81us/step - loss: 0.3340 - accuracy: 0.8643 - val_loss: 0.3634 - val_accuracy: 0.8508\n",
      "Epoch 92/100\n",
      "5359/5359 [==============================] - 0s 82us/step - loss: 0.3345 - accuracy: 0.8642 - val_loss: 0.3632 - val_accuracy: 0.8516\n",
      "Epoch 93/100\n",
      "5359/5359 [==============================] - 0s 82us/step - loss: 0.3340 - accuracy: 0.8627 - val_loss: 0.3628 - val_accuracy: 0.8516\n",
      "Epoch 94/100\n",
      "5359/5359 [==============================] - 0s 82us/step - loss: 0.3338 - accuracy: 0.8636 - val_loss: 0.3639 - val_accuracy: 0.8512\n",
      "Epoch 95/100\n",
      "5359/5359 [==============================] - 0s 81us/step - loss: 0.3338 - accuracy: 0.8634 - val_loss: 0.3628 - val_accuracy: 0.8535\n",
      "Epoch 96/100\n",
      "5359/5359 [==============================] - 0s 79us/step - loss: 0.3337 - accuracy: 0.8643 - val_loss: 0.3622 - val_accuracy: 0.8504\n",
      "Epoch 97/100\n",
      "5359/5359 [==============================] - 0s 84us/step - loss: 0.3337 - accuracy: 0.8643 - val_loss: 0.3623 - val_accuracy: 0.8516\n",
      "Epoch 98/100\n",
      "5359/5359 [==============================] - 0s 82us/step - loss: 0.3332 - accuracy: 0.8638 - val_loss: 0.3621 - val_accuracy: 0.8516\n",
      "Epoch 99/100\n",
      "5359/5359 [==============================] - 0s 83us/step - loss: 0.3331 - accuracy: 0.8640 - val_loss: 0.3626 - val_accuracy: 0.8523\n",
      "Epoch 100/100\n",
      "5359/5359 [==============================] - 0s 81us/step - loss: 0.3333 - accuracy: 0.8621 - val_loss: 0.3626 - val_accuracy: 0.8519\n"
     ]
    }
   ],
   "source": [
    "model_history=classifier.fit(X_train,y_train,validation_split=0.33,batch_size=10,nb_epoch=100)"
   ]
  },
  {
   "cell_type": "code",
   "execution_count": 31,
   "metadata": {},
   "outputs": [
    {
     "name": "stdout",
     "output_type": "stream",
     "text": [
      "dict_keys(['val_loss', 'val_accuracy', 'loss', 'accuracy'])\n"
     ]
    }
   ],
   "source": [
    "# list all data in history\n",
    "\n",
    "print(model_history.history.keys())\n",
    "# summarize history for accuracy\n",
    "\n"
   ]
  },
  {
   "cell_type": "code",
   "execution_count": 32,
   "metadata": {},
   "outputs": [
    {
     "data": {
      "image/png": "[encoded data removed]",
      "text/plain": [
       "<Figure size 432x288 with 1 Axes>"
      ]
     },
     "metadata": {
      "needs_background": "light"
     },
     "output_type": "display_data"
    }
   ],
   "source": [
    "# summarize history for loss\n",
    "plt.plot(model_history.history['loss'])\n",
    "plt.plot(model_history.history['val_loss'])\n",
    "plt.title('model loss')\n",
    "plt.ylabel('loss')\n",
    "plt.xlabel('epoch')\n",
    "plt.legend(['train', 'test'], loc='upper left')\n",
    "plt.show()"
   ]
  },
  {
   "cell_type": "code",
   "execution_count": 33,
   "metadata": {},
   "outputs": [],
   "source": [
    "y_pred=classifier.predict(X_test)"
   ]
  },
  {
   "cell_type": "code",
   "execution_count": 34,
   "metadata": {},
   "outputs": [],
   "source": [
    "y_pred = (y_pred > 0.5)"
   ]
  },
  {
   "cell_type": "code",
   "execution_count": 35,
   "metadata": {},
   "outputs": [
    {
     "data": {
      "text/plain": [
       "array([[False],\n",
       "       [False],\n",
       "       [False],\n",
       "       ...,\n",
       "       [False],\n",
       "       [False],\n",
       "       [False]])"
      ]
     },
     "execution_count": 35,
     "metadata": {},
     "output_type": "execute_result"
    }
   ],
   "source": [
    "y_pred"
   ]
  },
  {
   "cell_type": "markdown",
   "metadata": {},
   "source": [
    "### Performance Metrics"
   ]
  },
  {
   "cell_type": "code",
   "execution_count": 36,
   "metadata": {},
   "outputs": [],
   "source": [
    "from sklearn.metrics import confusion_matrix,accuracy_score,precision_score,recall_score,f1_score"
   ]
  },
  {
   "cell_type": "code",
   "execution_count": 37,
   "metadata": {},
   "outputs": [
    {
     "data": {
      "text/plain": [
       "array([[1542,   53],\n",
       "       [ 224,  181]], dtype=int64)"
      ]
     },
     "execution_count": 37,
     "metadata": {},
     "output_type": "execute_result"
    }
   ],
   "source": [
    "confusion_matrix(y_test,y_pred)"
   ]
  },
  {
   "cell_type": "code",
   "execution_count": 38,
   "metadata": {},
   "outputs": [
    {
     "data": {
      "text/plain": [
       "0.8615"
      ]
     },
     "execution_count": 38,
     "metadata": {},
     "output_type": "execute_result"
    }
   ],
   "source": [
    "accuracy_score(y_test,y_pred)"
   ]
  },
  {
   "cell_type": "code",
   "execution_count": 39,
   "metadata": {},
   "outputs": [
    {
     "data": {
      "text/plain": [
       "0.7735042735042735"
      ]
     },
     "execution_count": 39,
     "metadata": {},
     "output_type": "execute_result"
    }
   ],
   "source": [
    "precision_score(y_test,y_pred)"
   ]
  },
  {
   "cell_type": "code",
   "execution_count": 40,
   "metadata": {},
   "outputs": [
    {
     "data": {
      "text/plain": [
       "0.4469135802469136"
      ]
     },
     "execution_count": 40,
     "metadata": {},
     "output_type": "execute_result"
    }
   ],
   "source": [
    "recall_score(y_test,y_pred)"
   ]
  },
  {
   "cell_type": "code",
   "execution_count": 41,
   "metadata": {},
   "outputs": [
    {
     "data": {
      "text/plain": [
       "0.5665101721439749"
      ]
     },
     "execution_count": 41,
     "metadata": {},
     "output_type": "execute_result"
    }
   ],
   "source": [
    "f1_score(y_test,y_pred)"
   ]
  },
  {
   "cell_type": "code",
   "execution_count": null,
   "metadata": {},
   "outputs": [],
   "source": []
  }
 ],
 "metadata": {
  "kernelspec": {
   "display_name": "Python 3",
   "language": "python",
   "name": "python3"
  },
  "language_info": {
   "codemirror_mode": {
    "name": "ipython",
    "version": 3
   },
   "file_extension": ".py",
   "mimetype": "text/x-python",
   "name": "python",
   "nbconvert_exporter": "python",
   "pygments_lexer": "ipython3",
   "version": "3.7.3"
  }
 },
 "nbformat": 4,
 "nbformat_minor": 4
}
